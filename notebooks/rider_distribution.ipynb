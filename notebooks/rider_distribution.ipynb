{
 "cells": [
  {
   "cell_type": "code",
   "execution_count": 82,
   "id": "f59e10c7",
   "metadata": {},
   "outputs": [],
   "source": [
    "import pandas as pd\n",
    "import numpy as np\n",
    "import os\n",
    "from datetime import datetime\n",
    "import math\n",
    "import csv\n",
    "import re\n",
    "import matplotlib.pyplot as plt\n",
    "\n",
    "from dotenv import load_dotenv"
   ]
  },
  {
   "cell_type": "markdown",
   "id": "39e21f1c",
   "metadata": {},
   "source": [
    "### env variables"
   ]
  },
  {
   "cell_type": "code",
   "execution_count": 2,
   "id": "d45580fe",
   "metadata": {},
   "outputs": [],
   "source": [
    "load_dotenv()\n",
    "\n",
    "BASE_PATH = os.environ['BASE_PATH']\n",
    "RESULTS_PATH = os.environ['RESULTS_PATH']\n",
    "RANKINGS_PATH = os.environ['RANKINGS_PATH']\n",
    "SPECIALITY_RANKINGS_PATH = os.environ['SPECIALITY_RANKINGS_PATH']\n",
    "TEAMS_PATH = os.environ['TEAMS_PATH']\n",
    "CALENDARS_PATH = os.environ['CALENDARS_PATH']\n",
    "STARTLISTS_PATH = os.environ['STARTLISTS_PATH']\n",
    "RACERESULTS_PATH = os.environ['RACERESULTS_PATH']\n",
    "IMG_PATH = os.environ['IMG_PATH']\n",
    "RIDERSTATS_PATH = os.environ['RIDERSTATS_PATH']\n",
    "RACENAMES_PATH = os.environ['RACENAMES_PATH']"
   ]
  },
  {
   "cell_type": "markdown",
   "id": "416e9b00",
   "metadata": {},
   "source": [
    "# Load data"
   ]
  },
  {
   "cell_type": "code",
   "execution_count": 3,
   "id": "bd88ed38",
   "metadata": {},
   "outputs": [],
   "source": [
    "rider_names = list(pd.read_csv(os.path.join(BASE_PATH, 'rider_names.csv')))"
   ]
  },
  {
   "cell_type": "markdown",
   "id": "987a2409",
   "metadata": {},
   "source": [
    "# Goals"
   ]
  },
  {
   "cell_type": "markdown",
   "id": "646c471c",
   "metadata": {},
   "source": [
    "- define type of rider in top 10 of classics"
   ]
  },
  {
   "cell_type": "markdown",
   "id": "e55aec4b",
   "metadata": {},
   "source": [
    "# Workflow"
   ]
  },
  {
   "cell_type": "markdown",
   "id": "0da05b96",
   "metadata": {},
   "source": [
    "- cluster races by category (grand tour, classics, monuments, stage race, etc.)"
   ]
  },
  {
   "cell_type": "markdown",
   "id": "c24cdcf4",
   "metadata": {},
   "source": [
    "# Modelling"
   ]
  },
  {
   "cell_type": "code",
   "execution_count": 41,
   "id": "53525b26",
   "metadata": {},
   "outputs": [],
   "source": [
    "def normalize_name(name):\n",
    "    \n",
    "    if len(name.split(' ')) == 2:\n",
    "        \n",
    "        return '-'.join(reversed(name.split(' '))).lower()\n",
    "    \n",
    "    else:\n",
    "        \n",
    "        first_name = name.split(' ')[-1]\n",
    "        last_name = '-'.join(name.split(' ')[:-1])\n",
    "        return (first_name + '-' + last_name).lower()"
   ]
  },
  {
   "cell_type": "code",
   "execution_count": 9,
   "id": "34521a93",
   "metadata": {},
   "outputs": [],
   "source": [
    "classics = ['amstel-gold-race', 'dwars-door-vlaanderen', 'e3-harelbeke', 'gent-wevelgem', 'la-fleche-wallone',\n",
    "            'liege-bastogne-liege', 'omloop-het-nieuwsblad', 'paris-roubaix', 'ronde-van-vlaanderen']"
   ]
  },
  {
   "cell_type": "code",
   "execution_count": 47,
   "id": "ce4aeed3",
   "metadata": {},
   "outputs": [],
   "source": [
    "year = '2021'\n",
    "\n",
    "top_ten = []\n",
    "for race_url in classics:\n",
    "    \n",
    "    df = pd.read_csv(os.path.join(RACERESULTS_PATH, 'uci_wt', race_url, year, 'race_results.csv'), encoding='utf-8')\n",
    "    df_top_ten = df.loc[:9, ['Rider', 'Team']]\n",
    "    df_top_ten['Rider'] = [rider.replace(team, '') for rider, team in zip(df_top_ten.Rider, df_top_ten.Team)]\n",
    "    df_top_ten['Rider'] = [normalize_name(name) for name in df_top_ten.Rider]\n",
    "    top_ten.append(df_top_ten['Rider'])"
   ]
  },
  {
   "cell_type": "code",
   "execution_count": 54,
   "id": "51de2ad7",
   "metadata": {},
   "outputs": [],
   "source": [
    "riders = list(set([item for sublist in top_ten for item in sublist]))"
   ]
  },
  {
   "cell_type": "code",
   "execution_count": 73,
   "id": "4ae4cf19",
   "metadata": {},
   "outputs": [],
   "source": [
    "stats = []\n",
    "for rider in riders:\n",
    "    \n",
    "    df_stats = pd.read_csv(os.path.join(RIDERSTATS_PATH, rider, 'stats-kpis-2022-04-02.csv'), encoding='utf-8')\n",
    "    stats.append(df_stats[['Height▲▼', 'Weight▲▼']])"
   ]
  },
  {
   "cell_type": "code",
   "execution_count": 77,
   "id": "9fca3580",
   "metadata": {},
   "outputs": [],
   "source": [
    "df_stats = pd.concat(stats).rename(columns={'Height▲▼': 'Height', 'Weight▲▼': 'Weight'})"
   ]
  },
  {
   "cell_type": "code",
   "execution_count": 91,
   "id": "58966518",
   "metadata": {},
   "outputs": [
    {
     "data": {
      "text/plain": [
       "[]"
      ]
     },
     "execution_count": 91,
     "metadata": {},
     "output_type": "execute_result"
    },
    {
     "data": {
      "image/png": "[encoded data removed]",
      "text/plain": [
       "<Figure size 1080x360 with 2 Axes>"
      ]
     },
     "metadata": {
      "needs_background": "light"
     },
     "output_type": "display_data"
    }
   ],
   "source": [
    "fig, ax = plt.subplots(1,2,figsize=(15,5))\n",
    "df_stats.hist('Height', bins=15, ec='k', grid=False, ax=ax[0])\n",
    "df_stats.hist('Weight', bins=15, ec='k', grid=False, ax=ax[1])\n",
    "ax[0].set_ylabel('Count')\n",
    "ax[1].set_ylabel('Count')\n",
    "ax[0].set_xlabel('Height')\n",
    "ax[1].set_xlabel('Weight')\n",
    "plt.plot()"
   ]
  },
  {
   "cell_type": "code",
   "execution_count": null,
   "id": "d554a290",
   "metadata": {},
   "outputs": [],
   "source": []
  }
 ],
 "metadata": {
  "kernelspec": {
   "display_name": "Python 3 (ipykernel)",
   "language": "python",
   "name": "python3"
  },
  "language_info": {
   "codemirror_mode": {
    "name": "ipython",
    "version": 3
   },
   "file_extension": ".py",
   "mimetype": "text/x-python",
   "name": "python",
   "nbconvert_exporter": "python",
   "pygments_lexer": "ipython3",
   "version": "3.9.7"
  }
 },
 "nbformat": 4,
 "nbformat_minor": 5
}
