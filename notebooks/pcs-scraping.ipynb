{
 "cells": [
  {
   "cell_type": "code",
   "execution_count": 2,
   "metadata": {},
   "outputs": [],
   "source": [
    "import requests\n",
    "from bs4 import BeautifulSoup\n",
    "import pandas as pd\n",
    "import numpy as np\n",
    "import time\n",
    "import os\n",
    "import csv\n",
    "import tqdm"
   ]
  },
  {
   "cell_type": "markdown",
   "metadata": {},
   "source": [
    "# Scraping"
   ]
  },
  {
   "cell_type": "markdown",
   "metadata": {},
   "source": [
    "### env variables"
   ]
  },
  {
   "cell_type": "code",
   "execution_count": 3,
   "metadata": {},
   "outputs": [],
   "source": [
    "BASE_PATH = '../data/pcs-scraping'\n",
    "RESULTS_PATH = '../data/pcs-scraping/results/rider'\n",
    "RANKINGS_PATH = '../data/pcs-scraping/pcs-rankings/rider'\n",
    "TEAMS_PATH = '../data/pcs-scraping/teams/rider'\n",
    "CALENDARS_PATH = '../data/pcs-scraping/calendars'\n",
    "STARTLISTS_PATH = '../data/pcs-scraping/startlists'\n",
    "RACERESULTS_PATH = '../data/pcs-scraping/race_results'"
   ]
  },
  {
   "cell_type": "markdown",
   "metadata": {},
   "source": [
    "### Scraping functions"
   ]
  },
  {
   "cell_type": "code",
   "execution_count": 4,
   "metadata": {},
   "outputs": [],
   "source": [
    "def get_rider_names(n_pages):\n",
    "    \n",
    "    rider_names = []\n",
    "\n",
    "    offsets = np.arange(0, 3001, 100)\n",
    "\n",
    "    for offset in offsets[:n_pages]:\n",
    "\n",
    "        url = f'https://www.procyclingstats.com/rankings.php?date=2022-01-12&nation=&age=&zage=&page=smallerorequal&team=&offset={offset}&continent=&teamlevel=&filter=Filter&p=me&s=uci-individual'\n",
    "        res = requests.get(url)\n",
    "\n",
    "        tables = pd.read_html(res.content)\n",
    "        rider_names.append(tables[0])\n",
    "\n",
    "        time.sleep(0.5)\n",
    "    \n",
    "    return rider_names\n",
    "\n",
    "def normalize_rider_name(rider_name):\n",
    "    \n",
    "    surname = rider_name.split(\" \")[-1].lower()\n",
    "    name = \"-\".join(rider_name.split(\" \")[:-1]).lower()\n",
    "    full_name = surname + '-' + name\n",
    "    \n",
    "    return full_name\n",
    "\n",
    "def clean_pcs_table_results(df_table):\n",
    "    \n",
    "    df_table.drop('Unnamed: 3', axis=1, inplace=True)\n",
    "    df_table.drop('Unnamed: 8', axis=1, inplace=True)\n",
    "    df_table.rename(columns={'Unnamed: 2': 'GC'}, inplace=True)\n",
    "    \n",
    "    return df_table\n",
    "\n",
    "def clean_pcs_table_ranking(df_table):\n",
    "    \n",
    "    df_table.rename(columns={'Unnamed: 0': 'year'}, inplace=True)\n",
    "\n",
    "    return df_table\n",
    "\n",
    "def get_rider_stats(rider_name, years):\n",
    "\n",
    "    pcs_ranking = []\n",
    "    results = []\n",
    "\n",
    "    for year in years:\n",
    "\n",
    "        try:\n",
    "            url = f'https://www.procyclingstats.com/rider/{rider_name}/{year}'\n",
    "            res = requests.get(url)\n",
    "\n",
    "            tables = pd.read_html(res.content)\n",
    "            pcs_ranking.append(clean_pcs_table_ranking(tables[1]))\n",
    "            results.append(clean_pcs_table_results(tables[0]))\n",
    "\n",
    "            time.sleep(0.5)\n",
    "            \n",
    "        except Exception as e:\n",
    "            print(e)\n",
    "\n",
    "    df_results = [(year, x) for year, x in zip(years, results) if not x.empty]\n",
    "    \n",
    "    return df_results, pcs_ranking[0]\n",
    "\n",
    "def init_dirs():\n",
    "\n",
    "    if not os.path.isdir(BASE_PATH):\n",
    "        os.makedirs(BASE_PATH)\n",
    "        \n",
    "    if not os.path.isdir(RESULTS_PATH):\n",
    "        os.makedirs(RESULTS_PATH)\n",
    "        \n",
    "    if not os.path.isdir(RANKINGS_PATH):\n",
    "        os.makedirs(RANKINGS_PATH)\n",
    "        \n",
    "    if not os.path.isdir(TEAMS_PATH):\n",
    "        os.makedirs(TEAMS_PATH)\n",
    "\n",
    "def save_data(rider_name, results, pcs_ranking):\n",
    "        \n",
    "    # check if rider already has results data\n",
    "    if not os.path.isdir(os.path.join(RESULTS_PATH, rider_name)):\n",
    "        os.mkdir(os.path.join(RESULTS_PATH, rider_name))\n",
    "    \n",
    "    # check if rider already has pcs-ranking data\n",
    "    if not os.path.isdir(os.path.join(RANKINGS_PATH, rider_name)):\n",
    "        os.mkdir(os.path.join(RANKINGS_PATH, rider_name))\n",
    "        \n",
    "    # save season results\n",
    "    #[x[1].to_csv(f'../data/pcs-scraping/results/rider/{rider_name}/{x[0]}.csv', index=False) for x in results]\n",
    "    [x[1].to_csv(os.path.join(RESULTS_PATH, rider_name , f'{x[0]}.csv'), index=False) for x in results]\n",
    "    \n",
    "    # save pcs_ranking\n",
    "    #pcs_ranking.to_csv(f'../data/pcs-scraping/pcs-ranking/rider/{rider_name}/pcs_ranking.csv', index=False)\n",
    "    pcs_ranking.to_csv(os.path.join(RANKINGS_PATH, rider_name, 'pcs_ranking.csv'), index=False)"
   ]
  },
  {
   "cell_type": "markdown",
   "metadata": {},
   "source": [
    "### Initialize data directories"
   ]
  },
  {
   "cell_type": "code",
   "execution_count": null,
   "metadata": {},
   "outputs": [],
   "source": [
    "init_dirs()"
   ]
  },
  {
   "cell_type": "markdown",
   "metadata": {},
   "source": [
    "### Get Rider Names"
   ]
  },
  {
   "cell_type": "code",
   "execution_count": null,
   "metadata": {},
   "outputs": [],
   "source": [
    "rider_names = get_rider_names(n_pages=10)"
   ]
  },
  {
   "cell_type": "code",
   "execution_count": null,
   "metadata": {},
   "outputs": [],
   "source": [
    "riders = []\n",
    "[riders.extend(x['Rider']) for x in rider_names]\n",
    "\n",
    "rider_names = [normalize_rider_name(x) for x in riders]"
   ]
  },
  {
   "cell_type": "code",
   "execution_count": null,
   "metadata": {},
   "outputs": [],
   "source": [
    "with open(os.path.join(BASE_PATH, 'rider_names.csv'), 'w') as f:\n",
    "    wr = csv.writer(f, quoting=csv.QUOTE_ALL)\n",
    "    wr.writerow(rider_names)"
   ]
  },
  {
   "cell_type": "code",
   "execution_count": 5,
   "metadata": {},
   "outputs": [],
   "source": [
    "rider_names = list(pd.read_csv(os.path.join(BASE_PATH, 'rider_names.csv')))"
   ]
  },
  {
   "cell_type": "markdown",
   "metadata": {},
   "source": [
    "### Get Race Results and Rankings"
   ]
  },
  {
   "cell_type": "markdown",
   "metadata": {},
   "source": [
    "- NEED TO SCRAP ALL POSSIBLE YEARS (BEFORE 2011) !!!"
   ]
  },
  {
   "cell_type": "markdown",
   "metadata": {},
   "source": [
    "- RIDER NAMES IN URL NOT CORRECT FOR FAILURES"
   ]
  },
  {
   "cell_type": "code",
   "execution_count": 6,
   "metadata": {},
   "outputs": [
    {
     "name": "stderr",
     "output_type": "stream",
     "text": [
      "  8%|▊         | 17/200 [06:02<1:05:08, 21.36s/it]"
     ]
    },
    {
     "name": "stdout",
     "output_type": "stream",
     "text": [
      "No tables found\n",
      "No tables found\n",
      "No tables found\n",
      "No tables found\n",
      "No tables found\n",
      "No tables found\n",
      "No tables found\n",
      "No tables found\n",
      "No tables found\n",
      "No tables found\n",
      "No tables found\n",
      "No tables found\n",
      "No tables found\n",
      "No tables found\n",
      "No tables found\n",
      "No tables found\n",
      "No tables found\n",
      "No tables found\n",
      "No tables found\n",
      "No tables found\n",
      "No tables found\n",
      "No tables found\n"
     ]
    },
    {
     "name": "stderr",
     "output_type": "stream",
     "text": [
      "\r",
      "  9%|▉         | 18/200 [06:13<55:43, 18.37s/it]  "
     ]
    },
    {
     "name": "stdout",
     "output_type": "stream",
     "text": [
      "No tables found\n",
      "jonas-vingegaard\n"
     ]
    },
    {
     "name": "stderr",
     "output_type": "stream",
     "text": [
      " 13%|█▎        | 26/200 [09:09<1:05:32, 22.60s/it]"
     ]
    },
    {
     "name": "stdout",
     "output_type": "stream",
     "text": [
      "No tables found\n",
      "No tables found\n",
      "No tables found\n",
      "No tables found\n",
      "No tables found\n",
      "No tables found\n",
      "No tables found\n",
      "No tables found\n",
      "No tables found\n",
      "No tables found\n",
      "No tables found\n",
      "No tables found\n",
      "No tables found\n",
      "No tables found\n",
      "No tables found\n",
      "No tables found\n",
      "No tables found\n",
      "No tables found\n",
      "No tables found\n",
      "No tables found\n",
      "No tables found\n"
     ]
    },
    {
     "name": "stderr",
     "output_type": "stream",
     "text": [
      "\r",
      " 14%|█▎        | 27/200 [09:15<50:33, 17.54s/it]  "
     ]
    },
    {
     "name": "stdout",
     "output_type": "stream",
     "text": [
      "No tables found\n",
      "No tables found\n",
      "frølich-honoré-mikkel\n"
     ]
    },
    {
     "name": "stderr",
     "output_type": "stream",
     "text": [
      " 19%|█▉        | 38/200 [13:19<1:04:55, 24.04s/it]"
     ]
    },
    {
     "name": "stdout",
     "output_type": "stream",
     "text": [
      "No tables found\n",
      "No tables found\n",
      "No tables found\n",
      "No tables found\n",
      "No tables found\n",
      "No tables found\n",
      "No tables found\n",
      "No tables found\n",
      "No tables found\n",
      "No tables found\n",
      "No tables found\n",
      "No tables found\n",
      "No tables found\n",
      "No tables found\n",
      "No tables found\n",
      "No tables found\n",
      "No tables found\n",
      "No tables found\n",
      "No tables found\n",
      "No tables found\n",
      "No tables found\n",
      "No tables found\n"
     ]
    },
    {
     "name": "stderr",
     "output_type": "stream",
     "text": [
      "\r",
      " 20%|█▉        | 39/200 [13:27<50:55, 18.98s/it]  "
     ]
    },
    {
     "name": "stdout",
     "output_type": "stream",
     "text": [
      "No tables found\n",
      "alexey-lutsenko\n",
      "No tables found\n",
      "No tables found\n",
      "No tables found\n",
      "No tables found\n",
      "No tables found\n",
      "No tables found\n",
      "No tables found\n",
      "No tables found\n",
      "No tables found\n",
      "No tables found\n",
      "No tables found\n",
      "No tables found\n",
      "No tables found\n",
      "No tables found\n",
      "No tables found\n",
      "No tables found\n",
      "No tables found\n",
      "No tables found\n",
      "No tables found\n",
      "No tables found\n",
      "No tables found\n",
      "No tables found\n"
     ]
    },
    {
     "name": "stderr",
     "output_type": "stream",
     "text": [
      "\r",
      " 20%|██        | 40/200 [13:34<41:00, 15.38s/it]"
     ]
    },
    {
     "name": "stdout",
     "output_type": "stream",
     "text": [
      "No tables found\n",
      "ben-o'connor\n"
     ]
    },
    {
     "name": "stderr",
     "output_type": "stream",
     "text": [
      " 30%|██▉       | 59/200 [20:38<51:13, 21.80s/it]  "
     ]
    },
    {
     "name": "stdout",
     "output_type": "stream",
     "text": [
      "No tables found\n",
      "No tables found\n",
      "No tables found\n",
      "No tables found\n",
      "No tables found\n",
      "No tables found\n",
      "No tables found\n",
      "No tables found\n",
      "No tables found\n",
      "No tables found\n",
      "No tables found\n",
      "No tables found\n",
      "No tables found\n",
      "No tables found\n",
      "No tables found\n",
      "No tables found\n",
      "No tables found\n",
      "No tables found\n",
      "No tables found\n",
      "No tables found\n",
      "No tables found\n",
      "No tables found\n"
     ]
    },
    {
     "name": "stderr",
     "output_type": "stream",
     "text": [
      "\r",
      " 30%|███       | 60/200 [20:44<39:45, 17.04s/it]"
     ]
    },
    {
     "name": "stdout",
     "output_type": "stream",
     "text": [
      "No tables found\n",
      "michael-valgren\n"
     ]
    },
    {
     "name": "stderr",
     "output_type": "stream",
     "text": [
      " 37%|███▋      | 74/200 [26:10<47:34, 22.65s/it]"
     ]
    },
    {
     "name": "stdout",
     "output_type": "stream",
     "text": [
      "No tables found\n",
      "No tables found\n",
      "No tables found\n",
      "No tables found\n",
      "No tables found\n",
      "No tables found\n",
      "No tables found\n",
      "No tables found\n",
      "No tables found\n",
      "No tables found\n",
      "No tables found\n",
      "No tables found\n",
      "No tables found\n",
      "No tables found\n",
      "No tables found\n",
      "No tables found\n",
      "No tables found\n",
      "No tables found\n",
      "No tables found\n",
      "No tables found\n",
      "No tables found\n",
      "No tables found\n"
     ]
    },
    {
     "name": "stderr",
     "output_type": "stream",
     "text": [
      "\r",
      " 38%|███▊      | 75/200 [26:16<36:41, 17.62s/it]"
     ]
    },
    {
     "name": "stdout",
     "output_type": "stream",
     "text": [
      "No tables found\n",
      "biniam-girmay-hailu\n"
     ]
    },
    {
     "name": "stderr",
     "output_type": "stream",
     "text": [
      " 45%|████▌     | 90/200 [31:42<38:32, 21.02s/it]"
     ]
    },
    {
     "name": "stdout",
     "output_type": "stream",
     "text": [
      "No tables found\n",
      "No tables found\n",
      "No tables found\n",
      "No tables found\n",
      "No tables found\n",
      "No tables found\n",
      "No tables found\n",
      "No tables found\n",
      "No tables found\n",
      "No tables found\n",
      "No tables found\n",
      "No tables found\n",
      "No tables found\n",
      "No tables found\n",
      "No tables found\n",
      "No tables found\n",
      "No tables found\n",
      "No tables found\n",
      "No tables found\n",
      "No tables found\n",
      "No tables found\n",
      "No tables found\n"
     ]
    },
    {
     "name": "stderr",
     "output_type": "stream",
     "text": [
      "\r",
      " 46%|████▌     | 91/200 [31:48<29:43, 16.36s/it]"
     ]
    },
    {
     "name": "stdout",
     "output_type": "stream",
     "text": [
      "No tables found\n",
      "ángel-lópez-miguel\n",
      "No tables found\n",
      "No tables found\n",
      "No tables found\n",
      "No tables found\n",
      "No tables found\n",
      "No tables found\n",
      "No tables found\n",
      "No tables found\n",
      "No tables found\n",
      "No tables found\n",
      "No tables found\n",
      "No tables found\n",
      "No tables found\n",
      "No tables found\n",
      "No tables found\n",
      "No tables found\n",
      "No tables found\n",
      "No tables found\n",
      "No tables found\n",
      "No tables found\n",
      "No tables found\n"
     ]
    },
    {
     "name": "stderr",
     "output_type": "stream",
     "text": [
      "\r",
      " 46%|████▌     | 92/200 [31:53<23:39, 13.14s/it]"
     ]
    },
    {
     "name": "stdout",
     "output_type": "stream",
     "text": [
      "No tables found\n",
      "No tables found\n",
      "esteban-chaves\n",
      "No tables found\n",
      "No tables found\n",
      "No tables found\n",
      "No tables found\n",
      "No tables found\n",
      "No tables found\n",
      "No tables found\n",
      "No tables found\n",
      "No tables found\n",
      "No tables found\n",
      "No tables found\n",
      "No tables found\n",
      "No tables found\n",
      "No tables found\n",
      "No tables found\n",
      "No tables found\n",
      "No tables found\n",
      "No tables found\n",
      "No tables found\n",
      "No tables found\n",
      "No tables found\n"
     ]
    },
    {
     "name": "stderr",
     "output_type": "stream",
     "text": [
      "\r",
      " 46%|████▋     | 93/200 [31:58<19:12, 10.77s/it]"
     ]
    },
    {
     "name": "stdout",
     "output_type": "stream",
     "text": [
      "No tables found\n",
      "No tables found\n",
      "michał-kwiatkowski\n"
     ]
    },
    {
     "name": "stderr",
     "output_type": "stream",
     "text": [
      " 48%|████▊     | 97/200 [33:23<31:45, 18.50s/it]"
     ]
    },
    {
     "name": "stdout",
     "output_type": "stream",
     "text": [
      "No tables found\n",
      "No tables found\n",
      "No tables found\n",
      "No tables found\n",
      "No tables found\n",
      "No tables found\n",
      "No tables found\n",
      "No tables found\n",
      "No tables found\n",
      "No tables found\n",
      "No tables found\n",
      "No tables found\n",
      "No tables found\n",
      "No tables found\n",
      "No tables found\n",
      "No tables found\n",
      "No tables found\n",
      "No tables found\n",
      "No tables found\n",
      "No tables found\n",
      "No tables found\n",
      "No tables found\n"
     ]
    },
    {
     "name": "stderr",
     "output_type": "stream",
     "text": [
      "\r",
      " 49%|████▉     | 98/200 [33:29<25:19, 14.89s/it]"
     ]
    },
    {
     "name": "stdout",
     "output_type": "stream",
     "text": [
      "No tables found\n",
      "jesús-herrada\n"
     ]
    },
    {
     "name": "stderr",
     "output_type": "stream",
     "text": [
      "\r",
      " 50%|████▉     | 99/200 [33:51<28:30, 16.94s/it]"
     ]
    },
    {
     "name": "stdout",
     "output_type": "stream",
     "text": [
      "No tables found\n",
      "No tables found\n",
      "No tables found\n",
      "No tables found\n",
      "No tables found\n",
      "No tables found\n",
      "No tables found\n",
      "No tables found\n",
      "No tables found\n",
      "No tables found\n",
      "No tables found\n",
      "No tables found\n",
      "No tables found\n",
      "No tables found\n",
      "No tables found\n",
      "No tables found\n",
      "No tables found\n",
      "No tables found\n",
      "No tables found\n",
      "No tables found\n",
      "No tables found\n"
     ]
    },
    {
     "name": "stderr",
     "output_type": "stream",
     "text": [
      "\r",
      " 50%|█████     | 100/200 [33:57<22:41, 13.62s/it]"
     ]
    },
    {
     "name": "stdout",
     "output_type": "stream",
     "text": [
      "No tables found\n",
      "No tables found\n",
      "christian-eiking-odd\n"
     ]
    },
    {
     "name": "stderr",
     "output_type": "stream",
     "text": [
      " 53%|█████▎    | 106/200 [36:05<31:48, 20.30s/it]"
     ]
    },
    {
     "name": "stdout",
     "output_type": "stream",
     "text": [
      "No tables found\n",
      "No tables found\n",
      "No tables found\n",
      "No tables found\n",
      "No tables found\n",
      "No tables found\n",
      "No tables found\n",
      "No tables found\n",
      "No tables found\n",
      "No tables found\n",
      "No tables found\n",
      "No tables found\n",
      "No tables found\n",
      "No tables found\n",
      "No tables found\n",
      "No tables found\n",
      "No tables found\n",
      "No tables found\n",
      "No tables found\n",
      "No tables found\n",
      "No tables found\n",
      "No tables found\n"
     ]
    },
    {
     "name": "stderr",
     "output_type": "stream",
     "text": [
      "\r",
      " 54%|█████▎    | 107/200 [36:10<24:34, 15.85s/it]"
     ]
    },
    {
     "name": "stdout",
     "output_type": "stream",
     "text": [
      "No tables found\n",
      "magnus-cort\n"
     ]
    },
    {
     "name": "stderr",
     "output_type": "stream",
     "text": [
      " 72%|███████▎  | 145/200 [49:35<18:42, 20.41s/it]"
     ]
    },
    {
     "name": "stdout",
     "output_type": "stream",
     "text": [
      "No tables found\n",
      "No tables found\n",
      "No tables found\n",
      "No tables found\n",
      "No tables found\n",
      "No tables found\n",
      "No tables found\n",
      "No tables found\n",
      "No tables found\n",
      "No tables found\n",
      "No tables found\n",
      "No tables found\n",
      "No tables found\n",
      "No tables found\n",
      "No tables found\n",
      "No tables found\n",
      "No tables found\n",
      "No tables found\n",
      "No tables found\n",
      "No tables found\n",
      "No tables found\n",
      "No tables found\n"
     ]
    },
    {
     "name": "stderr",
     "output_type": "stream",
     "text": [
      "\r",
      " 73%|███████▎  | 146/200 [49:41<14:14, 15.82s/it]"
     ]
    },
    {
     "name": "stdout",
     "output_type": "stream",
     "text": [
      "No tables found\n",
      "felipe-martínez-daniel\n"
     ]
    },
    {
     "name": "stderr",
     "output_type": "stream",
     "text": [
      " 74%|███████▍  | 149/200 [50:41<15:52, 18.67s/it]"
     ]
    },
    {
     "name": "stdout",
     "output_type": "stream",
     "text": [
      "No tables found\n",
      "No tables found\n",
      "No tables found\n",
      "No tables found\n",
      "No tables found\n",
      "No tables found\n",
      "No tables found\n",
      "No tables found\n",
      "No tables found\n",
      "No tables found\n",
      "No tables found\n",
      "No tables found\n",
      "No tables found\n",
      "No tables found\n",
      "No tables found\n",
      "No tables found\n",
      "No tables found\n",
      "No tables found\n",
      "No tables found\n",
      "No tables found\n",
      "No tables found\n"
     ]
    },
    {
     "name": "stderr",
     "output_type": "stream",
     "text": [
      "\r",
      " 75%|███████▌  | 150/200 [50:46<12:17, 14.74s/it]"
     ]
    },
    {
     "name": "stdout",
     "output_type": "stream",
     "text": [
      "No tables found\n",
      "No tables found\n",
      "león-sánchez-luis\n"
     ]
    },
    {
     "name": "stderr",
     "output_type": "stream",
     "text": [
      " 86%|████████▌ | 172/200 [58:27<09:20, 20.00s/it]"
     ]
    },
    {
     "name": "stdout",
     "output_type": "stream",
     "text": [
      "No tables found\n",
      "No tables found\n",
      "No tables found\n",
      "No tables found\n",
      "No tables found\n",
      "No tables found\n",
      "No tables found\n",
      "No tables found\n",
      "No tables found\n",
      "No tables found\n",
      "No tables found\n",
      "No tables found\n",
      "No tables found\n",
      "No tables found\n",
      "No tables found\n",
      "No tables found\n",
      "No tables found\n",
      "No tables found\n",
      "No tables found\n",
      "No tables found\n",
      "No tables found\n"
     ]
    },
    {
     "name": "stderr",
     "output_type": "stream",
     "text": [
      "\r",
      " 86%|████████▋ | 173/200 [58:33<07:07, 15.85s/it]"
     ]
    },
    {
     "name": "stdout",
     "output_type": "stream",
     "text": [
      "No tables found\n",
      "No tables found\n",
      "halland-johannessen-tobias\n"
     ]
    },
    {
     "name": "stderr",
     "output_type": "stream",
     "text": [
      " 90%|█████████ | 181/200 [1:01:21<06:41, 21.11s/it]"
     ]
    },
    {
     "name": "stdout",
     "output_type": "stream",
     "text": [
      "No tables found\n",
      "No tables found\n",
      "No tables found\n",
      "No tables found\n",
      "No tables found\n",
      "No tables found\n",
      "No tables found\n",
      "No tables found\n",
      "No tables found\n",
      "No tables found\n",
      "No tables found\n",
      "No tables found\n",
      "No tables found\n",
      "No tables found\n",
      "No tables found\n",
      "No tables found\n",
      "No tables found\n",
      "No tables found\n",
      "No tables found\n",
      "No tables found\n",
      "No tables found\n",
      "No tables found\n"
     ]
    },
    {
     "name": "stderr",
     "output_type": "stream",
     "text": [
      "\r",
      " 91%|█████████ | 182/200 [1:01:26<04:56, 16.47s/it]"
     ]
    },
    {
     "name": "stdout",
     "output_type": "stream",
     "text": [
      "No tables found\n",
      "manuel-díaz-josé\n"
     ]
    },
    {
     "name": "stderr",
     "output_type": "stream",
     "text": [
      " 97%|█████████▋| 194/200 [1:05:41<02:05, 20.96s/it]"
     ]
    },
    {
     "name": "stdout",
     "output_type": "stream",
     "text": [
      "No tables found\n",
      "No tables found\n",
      "No tables found\n",
      "No tables found\n",
      "No tables found\n",
      "No tables found\n",
      "No tables found\n",
      "No tables found\n",
      "No tables found\n",
      "No tables found\n",
      "No tables found\n",
      "No tables found\n",
      "No tables found\n",
      "No tables found\n",
      "No tables found\n",
      "No tables found\n",
      "No tables found\n",
      "No tables found\n",
      "No tables found\n",
      "No tables found\n",
      "No tables found\n",
      "No tables found\n"
     ]
    },
    {
     "name": "stderr",
     "output_type": "stream",
     "text": [
      "\r",
      " 98%|█████████▊| 195/200 [1:05:46<01:21, 16.24s/it]"
     ]
    },
    {
     "name": "stdout",
     "output_type": "stream",
     "text": [
      "No tables found\n",
      "juan-ayuso\n"
     ]
    },
    {
     "name": "stderr",
     "output_type": "stream",
     "text": [
      "100%|██████████| 200/200 [1:07:29<00:00, 20.25s/it]\n"
     ]
    }
   ],
   "source": [
    "years = np.arange(2000, 2023)\n",
    "\n",
    "for rider_name in tqdm.tqdm(rider_names[:200]):\n",
    "\n",
    "    try:\n",
    "        results, pcs_ranking = get_rider_stats(rider_name, years)\n",
    "        save_data(rider_name, results, pcs_ranking)\n",
    "    except:\n",
    "        print(rider_name)\n",
    "        pass"
   ]
  },
  {
   "cell_type": "code",
   "execution_count": 8,
   "metadata": {},
   "outputs": [
    {
     "name": "stderr",
     "output_type": "stream",
     "text": [
      "100%|██████████| 17/17 [06:02<00:00, 21.32s/it]\n"
     ]
    }
   ],
   "source": [
    "rider_names_corrected_1 = ['jonas-vingegaard-rasmussen', 'mikkel-honore', 'aleksey-lutsenko', 'ben-o-connor',\n",
    "                         'michael-valgren-andersen', 'biniam-girmay', 'miguel-angel-lopez', 'johan-esteban-chaves',\n",
    "                         'michal-kwiatkowski', 'jesus-herrada-lopez', 'odd-christian-eiking', 'magnus-cort-nielsen',\n",
    "                         'daniel-felipe-martinez', 'luis-leon-sanchez', 'tobias-halland-johannessen', 'jose-manuel-diaz-gallego',\n",
    "                         'juan-ayuso-pesquera']\n",
    "rider_names_corrected_2 = []\n",
    "\n",
    "years = np.arange(2000, 2023)\n",
    "\n",
    "for rider_name in tqdm.tqdm(rider_names_corrected_1):\n",
    "\n",
    "    try:\n",
    "        results, pcs_ranking = get_rider_stats(rider_name, years)\n",
    "        save_data(rider_name, results, pcs_ranking)\n",
    "    except:\n",
    "        print(rider_name)\n",
    "        pass"
   ]
  },
  {
   "cell_type": "markdown",
   "metadata": {},
   "source": [
    "### Get Teams"
   ]
  },
  {
   "cell_type": "code",
   "execution_count": 9,
   "metadata": {},
   "outputs": [],
   "source": [
    "def get_rider_teams(rider_name):\n",
    "    \n",
    "    time.sleep(0.5)\n",
    "    \n",
    "    url = f'https://www.procyclingstats.com/rider/{rider_name}'\n",
    "    res = requests.get(url)\n",
    "    \n",
    "    soup = BeautifulSoup(res.content)\n",
    "    \n",
    "    possible_classes = ['list rdr-teams moblist moblist', 'list rdr-teams moblist', 'list rdr-teams moblist moblist ']\n",
    "    ul = list(filter(None, [soup.find('ul', {'class': class_}) for class_ in possible_classes]))\n",
    "    \n",
    "    if ul:\n",
    "        \n",
    "        season = [x.find('div', {'class': 'season'}).text for x in ul[0].find_all('li')]\n",
    "        team = [x.find('div', {'class': 'name'}).text for x in ul[0].find_all('li')]\n",
    "        teams = pd.DataFrame({'season': season, 'team': team})\n",
    "        \n",
    "        return teams\n",
    "\n",
    "    else:\n",
    "        \n",
    "        print(rider_name, 'No Teams scraped')\n",
    "\n",
    "def save_data(rider_name, teams):\n",
    "        \n",
    "    # check if rider already has teams data\n",
    "    if not os.path.isdir(os.path.join(TEAMS_PATH, rider_name)):\n",
    "        os.mkdir(os.path.join(TEAMS_PATH, rider_name))\n",
    "        \n",
    "    # save teams data\n",
    "    teams.to_csv(os.path.join(TEAMS_PATH, rider_name, 'teams.csv'), index=False)"
   ]
  },
  {
   "cell_type": "code",
   "execution_count": 10,
   "metadata": {},
   "outputs": [],
   "source": [
    "rider_names = list(pd.read_csv(os.path.join(BASE_PATH, 'rider_names.csv')))"
   ]
  },
  {
   "cell_type": "code",
   "execution_count": 11,
   "metadata": {},
   "outputs": [
    {
     "name": "stderr",
     "output_type": "stream",
     "text": [
      "  9%|▉         | 18/200 [00:16<02:30,  1.21it/s]"
     ]
    },
    {
     "name": "stdout",
     "output_type": "stream",
     "text": [
      "jonas-vingegaard No Teams scraped\n",
      "jonas-vingegaard\n"
     ]
    },
    {
     "name": "stderr",
     "output_type": "stream",
     "text": [
      " 14%|█▎        | 27/200 [00:28<03:06,  1.08s/it]"
     ]
    },
    {
     "name": "stdout",
     "output_type": "stream",
     "text": [
      "frølich-honoré-mikkel No Teams scraped\n",
      "frølich-honoré-mikkel\n"
     ]
    },
    {
     "name": "stderr",
     "output_type": "stream",
     "text": [
      " 20%|█▉        | 39/200 [00:44<02:58,  1.11s/it]"
     ]
    },
    {
     "name": "stdout",
     "output_type": "stream",
     "text": [
      "alexey-lutsenko No Teams scraped\n",
      "alexey-lutsenko\n"
     ]
    },
    {
     "name": "stderr",
     "output_type": "stream",
     "text": [
      "\r",
      " 20%|██        | 40/200 [00:44<02:40,  1.00s/it]"
     ]
    },
    {
     "name": "stdout",
     "output_type": "stream",
     "text": [
      "ben-o'connor No Teams scraped\n",
      "ben-o'connor\n"
     ]
    },
    {
     "name": "stderr",
     "output_type": "stream",
     "text": [
      " 30%|███       | 60/200 [01:05<02:10,  1.07it/s]"
     ]
    },
    {
     "name": "stdout",
     "output_type": "stream",
     "text": [
      "michael-valgren No Teams scraped\n",
      "michael-valgren\n"
     ]
    },
    {
     "name": "stderr",
     "output_type": "stream",
     "text": [
      " 38%|███▊      | 75/200 [01:20<02:00,  1.03it/s]"
     ]
    },
    {
     "name": "stdout",
     "output_type": "stream",
     "text": [
      "biniam-girmay-hailu No Teams scraped\n",
      "biniam-girmay-hailu\n"
     ]
    },
    {
     "name": "stderr",
     "output_type": "stream",
     "text": [
      " 46%|████▌     | 91/200 [01:40<02:41,  1.49s/it]"
     ]
    },
    {
     "name": "stdout",
     "output_type": "stream",
     "text": [
      "ángel-lópez-miguel No Teams scraped\n",
      "ángel-lópez-miguel\n"
     ]
    },
    {
     "name": "stderr",
     "output_type": "stream",
     "text": [
      "\r",
      " 46%|████▌     | 92/200 [01:41<02:15,  1.25s/it]"
     ]
    },
    {
     "name": "stdout",
     "output_type": "stream",
     "text": [
      "esteban-chaves No Teams scraped\n",
      "esteban-chaves\n"
     ]
    },
    {
     "name": "stderr",
     "output_type": "stream",
     "text": [
      "\r",
      " 46%|████▋     | 93/200 [01:42<01:56,  1.08s/it]"
     ]
    },
    {
     "name": "stdout",
     "output_type": "stream",
     "text": [
      "michał-kwiatkowski No Teams scraped\n",
      "michał-kwiatkowski\n"
     ]
    },
    {
     "name": "stderr",
     "output_type": "stream",
     "text": [
      " 49%|████▉     | 98/200 [01:47<01:46,  1.05s/it]"
     ]
    },
    {
     "name": "stdout",
     "output_type": "stream",
     "text": [
      "jesús-herrada No Teams scraped\n",
      "jesús-herrada\n"
     ]
    },
    {
     "name": "stderr",
     "output_type": "stream",
     "text": [
      " 50%|█████     | 100/200 [01:49<01:37,  1.02it/s]"
     ]
    },
    {
     "name": "stdout",
     "output_type": "stream",
     "text": [
      "christian-eiking-odd No Teams scraped\n",
      "christian-eiking-odd\n"
     ]
    },
    {
     "name": "stderr",
     "output_type": "stream",
     "text": [
      " 54%|█████▎    | 107/200 [01:55<01:20,  1.15it/s]"
     ]
    },
    {
     "name": "stdout",
     "output_type": "stream",
     "text": [
      "magnus-cort No Teams scraped\n",
      "magnus-cort\n"
     ]
    },
    {
     "name": "stderr",
     "output_type": "stream",
     "text": [
      " 73%|███████▎  | 146/200 [02:36<00:46,  1.16it/s]"
     ]
    },
    {
     "name": "stdout",
     "output_type": "stream",
     "text": [
      "felipe-martínez-daniel No Teams scraped\n",
      "felipe-martínez-daniel\n"
     ]
    },
    {
     "name": "stderr",
     "output_type": "stream",
     "text": [
      " 75%|███████▌  | 150/200 [02:40<00:43,  1.14it/s]"
     ]
    },
    {
     "name": "stdout",
     "output_type": "stream",
     "text": [
      "león-sánchez-luis No Teams scraped\n",
      "león-sánchez-luis\n"
     ]
    },
    {
     "name": "stderr",
     "output_type": "stream",
     "text": [
      " 86%|████████▋ | 173/200 [03:03<00:24,  1.09it/s]"
     ]
    },
    {
     "name": "stdout",
     "output_type": "stream",
     "text": [
      "halland-johannessen-tobias No Teams scraped\n",
      "halland-johannessen-tobias\n"
     ]
    },
    {
     "name": "stderr",
     "output_type": "stream",
     "text": [
      " 91%|█████████ | 182/200 [03:12<00:15,  1.17it/s]"
     ]
    },
    {
     "name": "stdout",
     "output_type": "stream",
     "text": [
      "manuel-díaz-josé No Teams scraped\n",
      "manuel-díaz-josé\n"
     ]
    },
    {
     "name": "stderr",
     "output_type": "stream",
     "text": [
      " 98%|█████████▊| 195/200 [03:24<00:04,  1.22it/s]"
     ]
    },
    {
     "name": "stdout",
     "output_type": "stream",
     "text": [
      "juan-ayuso No Teams scraped\n",
      "juan-ayuso\n"
     ]
    },
    {
     "name": "stderr",
     "output_type": "stream",
     "text": [
      "100%|██████████| 200/200 [03:31<00:00,  1.06s/it]\n"
     ]
    }
   ],
   "source": [
    "for rider_name in tqdm.tqdm(rider_names[:200]):\n",
    "    \n",
    "    try:\n",
    "        teams = get_rider_teams(rider_name)\n",
    "        save_data(rider_name, teams)\n",
    "    except:\n",
    "        print(rider_name)"
   ]
  },
  {
   "cell_type": "code",
   "execution_count": 12,
   "metadata": {},
   "outputs": [
    {
     "name": "stderr",
     "output_type": "stream",
     "text": [
      "100%|██████████| 17/17 [00:17<00:00,  1.01s/it]\n"
     ]
    }
   ],
   "source": [
    "for rider_name in tqdm.tqdm(rider_names_corrected):\n",
    "    \n",
    "    try:\n",
    "        teams = get_rider_teams(rider_name)\n",
    "        save_data(rider_name, teams)\n",
    "    except:\n",
    "        print(rider_name)"
   ]
  },
  {
   "cell_type": "markdown",
   "metadata": {},
   "source": [
    "- RIDER NAMES NOT CORRECT ON URL FOR FAILURES"
   ]
  },
  {
   "cell_type": "markdown",
   "metadata": {},
   "source": [
    "### Get race calendar"
   ]
  },
  {
   "cell_type": "code",
   "execution_count": 13,
   "metadata": {},
   "outputs": [],
   "source": [
    "def get_race_calendar(years):\n",
    "\n",
    "    calendar = []\n",
    "\n",
    "    for year in years:\n",
    "\n",
    "        try:\n",
    "            url = f'https://www.procyclingstats.com/races.php?year={year}&circuit=&class=&filter=Filter'\n",
    "            res = requests.get(url)\n",
    "\n",
    "            tables = pd.read_html(res.content)\n",
    "            calendar.append(tables[0].dropna())\n",
    "\n",
    "            time.sleep(0.5)\n",
    "            \n",
    "        except Exception as e:\n",
    "            print(e)\n",
    "\n",
    "    df_calendar = [(year, cal) for year, cal in zip(years, calendar) if not cal.empty]\n",
    "    \n",
    "    return df_calendar\n",
    "\n",
    "def save_data(calendar):\n",
    "        \n",
    "    if not os.path.isdir(CALENDARS_PATH):\n",
    "        os.mkdir(CALENDARS_PATH)\n",
    "        \n",
    "    # save calendar data\n",
    "    calendar[1].to_csv(os.path.join(CALENDARS_PATH, f'{calendar[0]}.csv'), index=False)"
   ]
  },
  {
   "cell_type": "code",
   "execution_count": 14,
   "metadata": {},
   "outputs": [
    {
     "data": {
      "text/plain": [
       "[None, None, None, None, None, None, None, None, None, None, None, None, None]"
      ]
     },
     "execution_count": 14,
     "metadata": {},
     "output_type": "execute_result"
    }
   ],
   "source": [
    "years = np.arange(2010, 2023)\n",
    "calendar = get_race_calendar(years)\n",
    "[save_data(cal) for cal in calendar]"
   ]
  },
  {
   "cell_type": "markdown",
   "metadata": {},
   "source": [
    "### Get Race startlist + results"
   ]
  },
  {
   "cell_type": "code",
   "execution_count": 15,
   "metadata": {},
   "outputs": [],
   "source": [
    "def convert_racename_to_url(racename):\n",
    "    \n",
    "    race_url = racename.values[0].lower().replace(\"'\", \"-\").replace(\" \", \"-\")\n",
    "    \n",
    "    return race_url\n",
    "    \n",
    "def get_race_results(race_url, year):\n",
    "    \n",
    "    url = f'https://www.procyclingstats.com/race/{race_url}/{year}'\n",
    "    res = requests.get(url)\n",
    "\n",
    "    tables = pd.read_html(res.content)\n",
    "    last_stage = tables[0]\n",
    "    gc = tables[1]\n",
    "    points = tables[2]\n",
    "    kom = tables[3]\n",
    "    youth = tables[4]\n",
    "    teams = tables[5]\n",
    "    \n",
    "    # ALSO NEED individual stages, kom, points, youth, teams final + stage results\n",
    "    \n",
    "    return last_stage, gc, points, kom, youth, teams\n",
    "\n",
    "def get_startlist(race_url, year):\n",
    "    \n",
    "    url = f'https://www.procyclingstats.com/race/{race_url}/{year}/gc/startlist/alphabetical-with-filters'\n",
    "    res = requests.get(url)\n",
    "    \n",
    "    startlist = pd.read_html(res.content)[0].drop(['Unnamed: 3'], axis=1)\n",
    "    \n",
    "    return startlist\n",
    "\n",
    "def save_data(startlist, PATH, race_url, year):\n",
    "        \n",
    "    if not os.path.isdir(os.path.join(PATH, race_url, year)):\n",
    "        os.makedirs(os.path.join(PATH, race_url, year))\n",
    "        \n",
    "    # save data\n",
    "    startlist.to_csv(os.path.join(PATH, race_url, year, 'startlist.csv'), index=False)"
   ]
  },
  {
   "cell_type": "markdown",
   "metadata": {},
   "source": [
    "### Get startlist of one race"
   ]
  },
  {
   "cell_type": "code",
   "execution_count": 31,
   "metadata": {},
   "outputs": [],
   "source": [
    "year = '2021'\n",
    "target_race = \"Giro d'Italia\"\n",
    "\n",
    "calendar = pd.read_csv(os.path.join(CALENDARS_PATH, f'{year}.csv'))\n",
    "race_url = convert_racename_to_url(calendar[calendar['Race'].str.contains(target_race)].Race)\n",
    "\n",
    "startlist = get_startlist(race_url, year)\n",
    "save_data(startlist, STARTLISTS_PATH, race_url, year)"
   ]
  },
  {
   "cell_type": "markdown",
   "metadata": {},
   "source": [
    "### Get startlist of all races in year"
   ]
  },
  {
   "cell_type": "code",
   "execution_count": 39,
   "metadata": {},
   "outputs": [
    {
     "name": "stdout",
     "output_type": "stream",
     "text": [
      "New Zealand Cycle Classic\n",
      "Vuelta al Tachira en Bicicleta\n",
      "Gravel and Tar Classic\n",
      "Gravel and Tar la Femme\n",
      "Clàssica Comunitat Valenciana 1969 - Gran Premio Valencia\n",
      "National Championships Qatar - ITT\n",
      "National Championships Qatar - Road Race\n",
      "Grand Prix Cycliste la Marseillaise\n",
      "Etoile de Bessèges - Tour du Gard\n",
      "National championships Australia - ITT\n",
      "National championships Australia MJ - ITT\n",
      "National championships Australia MU23 - ITT\n",
      "National championships Australia WE - ITT\n",
      "National championships Australia WJ - ITT\n",
      "National Championships Australia WU23 - ITT\n",
      "National championships Namibia - ITT\n",
      "National championships Namibia MJ - ITT\n",
      "National championships Namibia MU23 - ITT\n",
      "National championships Namibia WE - ITT\n",
      "National championships Namibia WJ - ITT\n",
      "National championships Namibia WU23 - ITT\n",
      "National championships Australia MJ - Road Race\n",
      "National Championships Australia U23 - Road Race\n",
      "National championships Australia WJ - Road Race\n",
      "Grand Prix Alanya\n",
      "National Championships Australia - Road Race\n",
      "National championships Australia WE - Road Race\n",
      "National Championships Australia WU23 - Road Race\n",
      "National championships Namibia - Road Race\n",
      "National championships Namibia MJ - Road Race\n",
      "National championships Namibia MU23 - Road Race\n",
      "National championships Namibia WE - Road Race\n",
      "National championships Namibia WJ - Road Race\n",
      "National championships Namibia WU23 - Road Race\n",
      "Grand Prix Gazipasa\n",
      "Tour de la Provence\n",
      "National championships New Zealand - ITT\n",
      "National championships New Zealand MJ - ITT\n",
      "National championships New Zealand MU23 - ITT\n",
      "National championships New Zealand WE - ITT\n",
      "National championships New Zealand WJ - ITT\n",
      "National championships New Zealand WU23 - ITT\n",
      "National championships New Zealand MJ - Road Race\n",
      "National championships New Zealand WJ - Road Race\n",
      "Clasica de Almeria\n",
      "National championships New Zealand - Road Race\n",
      "National championships New Zealand WE - Road Race\n",
      "National Championships Uruguay WE - Road Race\n",
      "National Championships Uruguay WJ - Road Race\n",
      "Grand Prix Velo Manavgat ME\n",
      "Grand Prix Velo Manavgat WE\n",
      "Grand Prix Velo Alanya ME\n",
      "Grand Prix Velo Alanya WE\n",
      "Omloop Het Nieuwsblad ME\n",
      "Faun-Ardèche Classic\n",
      "Omloop Het Nieuwsblad WE\n",
      "Kuurne - Bruxelles - Kuurne\n",
      "Royal Bernard Drome Classic\n",
      "National Championships Uruguay - Road Race\n",
      "National Championships Uruguay MJ - Road Race\n",
      "African Continental Championships ME - TTT\n",
      "African Continental Championships MJ - TTT\n",
      "African Continental Championships WE - TTT\n",
      "African Continental Championships WJ - TTT\n",
      "Le Samyn\n",
      "Le Samyn des Dames\n",
      "Trofeo Laigueglia\n",
      "African Continental Championships ME - ITT\n",
      "African Continental Championships MJ - ITT\n",
      "African Continental Championships WE - ITT\n",
      "African Continental Championships WJ - ITT\n",
      "Trofej Umag - Umag Trophy\n",
      "African Continental Championships - Mixed Relay TTT\n",
      "African Continental Championships MJ - Road Race\n",
      "African Continental Championships WJ - Road Race\n",
      "National Championships Thailand ME - ITT\n",
      "National Championships Thailand MJ - ITT\n",
      "National Championships Thailand MU23 - ITT\n",
      "National Championships Thailand WE - ITT\n",
      "National Championships Thailand WJ - ITT\n",
      "National Championships Thailand WU23 - ITT\n",
      "Strade Bianche\n",
      "Strade Bianche Donne\n",
      "African Continental Championships ME - Road Race\n",
      "African Continental Championships WE - Road Race\n",
      "National Championships United Arab Emirates - Road Race\n",
      "Grand Prix Mediterrennean ME\n",
      "Grand Prix Mediterrennean WE\n",
      "Paris - Nice\n",
      "GP Industria & Artigianato\n",
      "Grote Prijs Jean-Pierre Monseré\n",
      "National Championships Thailand - Road Race\n",
      "National Championships Thailand MJ - Road Race\n",
      "National Championships Thailand WE - Road Race\n",
      "National Championships Thailand WJ - Road Race\n",
      "Grand Prix Gündoğmuş ME\n",
      "Grand Prix Gündoğmuş WE\n",
      "Trofej Poreč - Poreč Trophy\n",
      "Healthy Ageing Tour\n",
      "Istarsko Proljeće - Istrian Spring Trophy\n",
      "GP Oetingen\n",
      "Paris - Troyes\n",
      "Danilith Nokere Koerse ME\n",
      "Danilith Nokere Koerse WE\n",
      "Bredene Koksijde Classic\n",
      "National Championships South Africa - ITT\n",
      "National Championships South Africa MJ - ITT\n",
      "National Championships South Africa U23 - ITT\n",
      "National Championships South Africa WE - ITT\n",
      "National Championships South Africa WJ - ITT\n",
      "National Championships South Africa WU23 - ITT\n",
      "Milano-Sanremo\n",
      "Trofeo Alfredo Binda - Comune di Cittiglio\n",
      "National Championships South Africa - Road Race\n",
      "National Championships South Africa MJ - Road Race\n",
      "National Championships South Africa WE - Road Race\n",
      "National Championships South Africa WJ - Road Race\n",
      "Omloop van de Westhoek - Memorial Stive Vermaut\n",
      "Per Sempre \"Alfredo\"\n",
      "GP Slovenian Istria\n",
      "Piccolo Trofeo Alfredo Binda - Valli del Verbano\n",
      "Volta Ciclista a Catalunya\n",
      "Oxyclean Classic Brugge-De Panne ME\n",
      "Oxyclean Classic Brugge-De Panne WE\n",
      "E3 Saxo Bank Classic\n",
      "National Championships United Arab Emirates - ITT\n",
      "Gent-Wevelgem in Flanders Fields ME\n",
      "Gent-Wevelgem In Flanders Fields WE\n",
      "Cholet - Pays de la Loire\n",
      "GP Adria Mobil\n",
      "Dwars door Vlaanderen - A travers la Flandre ME\n",
      "Dwars door Vlaanderen - A travers la Flandre WE\n",
      "Gran Premio Miguel Indurain\n",
      "Ronde van Vlaanderen - Tour des Flandres ME\n",
      "Ronde van Vlaanderen - Tour des Flandres WE\n",
      "La Roue Tourangelle Centre Val de Loire - Trophée Harmonie Mutuelle\n",
      "International Rhodes GP Powered by Mitsis Hotels\n",
      "Trofeo Piva\n",
      "Ronde de Mouscron\n",
      "Giro del Belvedere\n",
      "Scheldeprijs ME\n",
      "Scheldeprijs WE\n",
      "International Tour of Rhodes\n",
      "National Championships Lesotho MJ - Road Race\n",
      "National Championships Lesotho WJ - Road Race\n",
      "Presidential Cycling Tour of Turkey\n",
      "National Championships Lesotho - Road Race\n",
      "De Brabantse Pijl - La Flèche Brabançonne\n",
      "Volta a la Comunitat Valenciana\n",
      "Brabantse Pijl WE\n",
      "Vuelta a Colombia\n",
      "Amstel Gold Race\n",
      "Amstel Gold Race Ladies Edition\n",
      "Vuelta CV Feminas\n",
      "Grand Prix Féminin de Chambéry\n",
      "Tr. Città di S. Vendemiano - 61° GP Industria & Commercio\n",
      "La Flèche Wallonne\n",
      "La Flèche Wallonne Féminine\n",
      "Belgrade Banjaluka\n",
      "Liège-Bastogne-Liège\n",
      "Liège-Bastogne-Liège Femmes\n",
      "Gran Premio della Liberazione\n",
      "Ceratizit Festival Elsy Jacobs\n",
      "Vuelta Asturias Julio Alvarez Mendo\n",
      "National Championships Austria MJ - ITT\n",
      "National Championships Austria WJ - ITT\n",
      "Grand Prix West Bohemia\n",
      "Tour du Rwanda\n",
      "Circuito del Porto - Trofeo Arvedi\n",
      "Classica da Arrabida - Cyclin'Portugal\n",
      "Volta ao Algarve em Bicicleta\n",
      "V Setmana Ciclista Valenciana - Vuelta Comunitat Valenciana Feminas\n",
      "Giro d'Italia\n",
      "GP Eco-Struct\n",
      "Circuit de Wallonie\n",
      "Emakumeen Nafarroako Women's Elite Classics\n",
      "Trofeo Calvia\n",
      "Navarra Women's Elite Classics\n",
      "Trofeo Serra de Tramuntana (Lloseta - Deia)\n",
      "Tour d'Eure-et-Loir\n",
      "Trofeo Andratx - Mirador des Colomer (Puerto Pollença)\n",
      "Tro-Bro Léon\n",
      "Gran Premio Ciudad de Eibar\n",
      "Trofeo Alcudia-Port d'Alcudia\n",
      "Vuelta a Andalucia Ruta Ciclista Del Sol\n",
      "Durango - Durango Emakumeen Saria\n",
      "Alpes Isère Tour\n",
      "National Championships Saudi Arabia WE - Road Race\n",
      "National Championships Saudi Arabia MJ - Road Race\n",
      "National Championships Saudi Arabia - Road Race\n",
      "Tour du Finistère\n",
      "National Championships Saudi Arabia - ITT\n",
      "National Championships Saudi Arabia MU23 - ITT\n",
      "Vuelta Ciclista a la Región de Murcia \"Costa Calida\"\n",
      "Mercan'Tour Classic Alpes-Maritimes\n",
      "Ronde van Limburg\n",
      "National Championships Germany U23 - Road Race\n",
      "National Championships Luxembourg U23 - Road Race\n",
      "National Championships Switzerland U23 - Road Race\n",
      "Internationale LOTTO Thüringen Ladies Tour\n",
      "La Classique des Alpes Juniors\n",
      "Grand Prix Herning\n",
      "Critérium du Dauphiné\n",
      "Coppa della Pace - Trofeo F.lli Anelli\n",
      "Fyen Rundt - Tour of Funen\n",
      "GP Slovenia\n",
      "Trofeo Alcide Degasperi\n",
      "Course de la Paix Grand Prix Jeseníky\n",
      "Giro Ciclistico d'Italia\n",
      "Grosser Preis des Kantons Aargau\n",
      "Dwars door het Hageland\n",
      "National Championships Greece MJ - ITT\n",
      "National Championships Greece U23 - ITT\n",
      "Dwars door het Hageland WE\n",
      "Dwars door de Westhoek\n",
      "Elfstedenronde\n",
      "National Championships Greece MJ - Road Race\n",
      "National Championships Greece U23 - Road Race\n",
      "National Championships Greece WJ - Road Race\n",
      "Mont Ventoux Dénivelé Challenge\n",
      "Baloise Belgium Tour\n",
      "Vuelta Internacional Femenina a Guatemala\n",
      "La Route d'Occitanie - La Dépêche du Midi\n",
      "Oberösterreichrundfahrt\n",
      "National Championships Mexico - ITT\n",
      "National Championships Mexico MJ - ITT\n",
      "National Championships Mexico MU23 - ITT\n",
      "National Championships Mexico WE - ITT\n",
      "National Championships Mexico WJ - ITT\n",
      "National Championships Mexico WU23 - ITT\n",
      "National Championships Panama - ITT\n"
     ]
    },
    {
     "name": "stdout",
     "output_type": "stream",
     "text": [
      "National Championships Panama MJ - ITT\n",
      "National Championships Panama MU23 - ITT\n",
      "National Championships Panama WE - ITT\n",
      "National Championships Panama WJ - ITT\n",
      "National Championships Panama WU23 - ITT\n",
      "National Championships Bulgaria WJ - ITT\n",
      "National Championships Estonia MU23 - Road Race\n",
      "National Championships Israel - ITT\n",
      "National Championships Israel MJ - ITT\n",
      "National Championships Israel MU23 - ITT\n",
      "National Championships Israel WE - ITT\n",
      "National Championships Israel WJ - ITT\n",
      "National Championships Israel WU23 - ITT\n",
      "National Championships Latvia MU23 - Road Race\n",
      "National Championships Lithuania MU23 - Road Race\n",
      "National Championships Mexico MJ - Road Race\n",
      "National Championships Mexico WE - Road Race\n",
      "National Championships Mexico WJ - Road Race\n",
      "National Championships Belize - ITT\n",
      "National Championships Belize MJ - ITT\n",
      "National Championships Belize WE - ITT\n",
      "National Championships Belize WJ - ITT\n",
      "National Championships Bulgaria WJ - Road Race\n",
      "National Championships El Salvador - ITT\n",
      "National Championships El Salvador MJ - ITT\n",
      "National Championships El Salvador WE - ITT\n",
      "National Championships El Salvador WJ - ITT\n",
      "National Championships Guatemala - ITT\n",
      "National Championships Guatemala MJ - ITT\n",
      "National Championships Guatemala U23 - ITT\n",
      "National Championships Guatemala WE - ITT\n",
      "National Championships Guatemala WU23 - ITT\n",
      "National Championships Mexico - Road Race\n",
      "National Championships Norway MJ - Road Race\n",
      "National Championships Norway MU23 - Road Race\n",
      "National Championships Norway WJ - Road Race\n",
      "National Championships Panama - Road Race\n",
      "National Championships Panama MJ - Road Race\n",
      "National Championships Panama WE - Road Race\n",
      "National Championships Panama WJ - Road Race\n",
      "SPAR Flanders Diamond Tour\n",
      "National Championships Belize U23 - ITT\n",
      "National Championships El Salvador U23 - ITT\n",
      "National Championships Panama U23 - Road Race\n",
      "National Championships Panama WU23 - Road Race\n",
      "Adriatica Ionica Race / Sulle Rotte della Serenissima\n",
      "National Championships Belarus - ITT\n",
      "National Championships Belarus MJ - ITT\n",
      "National Championships Belarus U23 - ITT\n",
      "National Championships Belarus WE - ITT\n",
      "National Championships Belarus WJ - ITT\n",
      "National Championships Belarus WU23 - ITT\n",
      "National Championships Ethiopia - ITT\n",
      "National Championships Ethiopia WE - ITT\n",
      "Paris-Camembert\n",
      "National Championships Belgium - ITT\n",
      "National Championships Belgium WE - ITT\n",
      "National Championships Ethiopia - Road Race\n",
      "National Championships Ethiopia MJ - ITT\n",
      "National Championships Ethiopia MJ - Road Race\n",
      "National Championships Ethiopia WE - Road Race\n",
      "National Championships Kazakhstan - ITT\n",
      "National Championships Kazakhstan MJ - ITT\n",
      "National Championships Kazakhstan WE - ITT\n",
      "National Championships Kazakhstan WJ - ITT\n",
      "National Championships Latvia - ITT\n",
      "National Championships Latvia MJ - ITT\n",
      "National Championships Latvia WE - ITT\n",
      "National Championships Latvia WJ - ITT\n",
      "National Championships Netherlands - ITT\n",
      "National Championships Netherlands U23 - ITT\n",
      "National Championships Netherlands WE - ITT\n",
      "National Championships Switzerland - ITT\n",
      "National Championships Switzerland MJ - ITT\n",
      "National Championships Switzerland WE - ITT\n",
      "National Championships Switzerland WJ - ITT\n",
      "National Championships Ukraine MJ - ITT\n",
      "National Championships Ukraine WE - ITT\n",
      "National Championships Ukraine WJ - ITT\n",
      "National Championships Kazakhstan U23 - ITT\n",
      "National Championships Latvia U23 - ITT\n",
      "National Championships Switzerland U23 - ITT\n",
      "National Championships Ukraine WU23 - ITT\n",
      "National Championships Belarus MJ - Road Race\n",
      "National Championships Belarus WJ - Road Race\n",
      "National Championships Colombia - ITT\n",
      "National Championships Colombia WE - ITT\n",
      "National Championships Czech Republic - ITT\n",
      "National Championships Czech Republic MJ - ITT\n",
      "National Championships Czech Republic U23 - ITT\n",
      "National Championships Czech Republic WE - ITT\n",
      "National Championships Czech Republic WJ - ITT\n",
      "National Championships Denmark - ITT\n",
      "National Championships Denmark MJ - ITT\n",
      "National Championships Denmark WE - ITT\n",
      "National Championships Denmark WJ - ITT\n",
      "National Championships Ecuador - ITT\n",
      "National Championships Ecuador U23 - ITT\n",
      "National Championships Ecuador WE - ITT\n",
      "National Championships Ecuador WU23 - ITT\n",
      "National Championships Estonia - ITT\n",
      "National Championships Estonia MJ - ITT\n",
      "National Championships Estonia WE - ITT\n",
      "National Championships Estonia WJ - ITT\n",
      "National Championships France - ITT\n",
      "National Championships France WE - ITT\n",
      "National Championships Hungary - ITT\n",
      "National Championships Hungary MJ - ITT\n",
      "National Championships Hungary WE - ITT\n",
      "National Championships Hungary WJ - ITT\n",
      "National Championships Iceland - ITT\n",
      "National Championships Iceland MJ - ITT\n",
      "National Championships Iceland WE - ITT\n",
      "National Championships Iceland WJ - ITT\n",
      "National Championships Kazakhstan WJ - Road Race\n",
      "National Championships Kosovo - ITT\n",
      "National Championships Kosovo MJ - ITT\n",
      "National Championships Kosovo U23 - ITT\n",
      "National Championships Lithuania - ITT\n",
      "National Championships Lithuania MJ - ITT\n",
      "National Championships Lithuania WE - ITT\n",
      "National Championships Lithuania WJ - ITT\n",
      "National Championships Norway - ITT\n",
      "National Championships Norway MJ - ITT\n",
      "National Championships Norway WE - ITT\n",
      "National Championships Norway WJ - ITT\n",
      "National Championships Poland - ITT\n",
      "National Championships Poland MJ - ITT\n",
      "National Championships Poland WE - ITT\n",
      "National Championships Poland WJ - ITT\n",
      "National Championships Russia - ITT\n",
      "National Championships Russia WE - ITT\n",
      "National Championships Slovakia - ITT\n",
      "National Championships Slovakia MJ - ITT\n",
      "National Championships Slovakia WE - ITT\n",
      "National Championships Slovakia WJ - ITT\n",
      "National Championships Slovenia - ITT\n",
      "National Championships Slovenia MJ - ITT\n",
      "National Championships Slovenia WE - ITT\n",
      "National Championships Slovenia WJ - ITT\n",
      "National Championships Ukraine - ITT\n",
      "National Championships Ukraine U23 - ITT\n",
      "National Championships United States - ITT\n",
      "National Championships United States WE - ITT\n",
      "National Championships United States WU23 - ITT\n",
      "National Championships Colombia U23 - ITT\n",
      "National Championships Colombia WU23 - ITT\n",
      "National Championships Hungary U23 - ITT\n",
      "National Championships Iceland U23 - ITT\n",
      "National Championships Iceland WU23 - ITT\n",
      "National Championships Lithuania U23 - ITT\n",
      "National Championships Lithuania WU23 - ITT\n",
      "National Championships Belarus - Road Race\n",
      "National Championships Belarus WE - Road Race\n",
      "National Championships Colombia WE - Road Race\n",
      "National Championships Croatia - ITT\n",
      "National Championships Croatia MJ - ITT\n"
     ]
    }
   ],
   "source": [
    "year = '2021'\n",
    "for race in calendar.Race:\n",
    "    \n",
    "    time.sleep(0.5)\n",
    "    try:\n",
    "        race_url = race.lower().replace(' ', '-')\n",
    "        startlist = get_startlist(race_url, year)\n",
    "        save_data(startlist, STARTLISTS_PATH, race_url, year)\n",
    "    except:\n",
    "        print(race)"
   ]
  },
  {
   "cell_type": "markdown",
   "metadata": {},
   "source": [
    "### Get race results"
   ]
  },
  {
   "cell_type": "code",
   "execution_count": 40,
   "metadata": {},
   "outputs": [],
   "source": [
    "def save_data(results, PATH, race_url, year):\n",
    "        \n",
    "    if not os.path.isdir(os.path.join(PATH, race_url, year)):\n",
    "        os.makedirs(os.path.join(PATH, race_url, year))\n",
    "        \n",
    "    # save data\n",
    "    [res.to_csv(os.path.join(PATH, race_url, year, f'{name}.csv'), index=False) for res, name in zip(results, ['last_stage', 'gc', 'points', 'kom', 'youth', 'team'])]"
   ]
  },
  {
   "cell_type": "code",
   "execution_count": 42,
   "metadata": {},
   "outputs": [],
   "source": [
    "race_url = convert_racename_to_url(calendar[calendar['Race'].str.contains(target_race)].Race)\n",
    "results = get_race_results(race_url, year)\n",
    "save_data(results, RACERESULTS_PATH, race_url, year)"
   ]
  },
  {
   "cell_type": "markdown",
   "metadata": {},
   "source": [
    "### Get race results of all races in year"
   ]
  },
  {
   "cell_type": "code",
   "execution_count": 43,
   "metadata": {},
   "outputs": [
    {
     "name": "stdout",
     "output_type": "stream",
     "text": [
      "New Zealand Cycle Classic\n",
      "Vuelta al Tachira en Bicicleta\n",
      "Gravel and Tar Classic\n",
      "Gravel and Tar la Femme\n",
      "Clàssica Comunitat Valenciana 1969 - Gran Premio Valencia\n",
      "National Championships Qatar - ITT\n",
      "National Championships Qatar - Road Race\n",
      "Grand Prix Cycliste la Marseillaise\n",
      "Etoile de Bessèges - Tour du Gard\n",
      "National championships Australia - ITT\n",
      "National championships Australia MJ - ITT\n",
      "National championships Australia MU23 - ITT\n",
      "National championships Australia WE - ITT\n",
      "National championships Australia WJ - ITT\n",
      "National Championships Australia WU23 - ITT\n",
      "National championships Namibia - ITT\n",
      "National championships Namibia MJ - ITT\n",
      "National championships Namibia MU23 - ITT\n",
      "National championships Namibia WE - ITT\n",
      "National championships Namibia WJ - ITT\n",
      "National championships Namibia WU23 - ITT\n",
      "National championships Australia MJ - Road Race\n",
      "National Championships Australia U23 - Road Race\n",
      "National championships Australia WJ - Road Race\n",
      "Grand Prix Alanya\n",
      "National Championships Australia - Road Race\n",
      "National championships Australia WE - Road Race\n",
      "National Championships Australia WU23 - Road Race\n",
      "National championships Namibia - Road Race\n",
      "National championships Namibia MJ - Road Race\n",
      "National championships Namibia MU23 - Road Race\n",
      "National championships Namibia WE - Road Race\n",
      "National championships Namibia WJ - Road Race\n",
      "National championships Namibia WU23 - Road Race\n",
      "Grand Prix Gazipasa\n",
      "Tour de la Provence\n",
      "National championships New Zealand - ITT\n",
      "National championships New Zealand MJ - ITT\n",
      "National championships New Zealand MU23 - ITT\n",
      "National championships New Zealand WE - ITT\n",
      "National championships New Zealand WJ - ITT\n",
      "National championships New Zealand WU23 - ITT\n",
      "National championships New Zealand MJ - Road Race\n",
      "National championships New Zealand WJ - Road Race\n",
      "Clasica de Almeria\n",
      "National championships New Zealand - Road Race\n",
      "National championships New Zealand WE - Road Race\n",
      "National Championships Uruguay WE - Road Race\n",
      "National Championships Uruguay WJ - Road Race\n",
      "Manavgat Side Junior\n",
      "Manavgat Side Women Junior\n",
      "Grand Prix Velo Manavgat ME\n",
      "Grand Prix Velo Manavgat WE\n",
      "UAE Tour\n",
      "Grand Prix Velo Alanya ME\n",
      "Grand Prix Velo Alanya WE\n",
      "Omloop Het Nieuwsblad ME\n",
      "Faun-Ardèche Classic\n",
      "Omloop Het Nieuwsblad WE\n",
      "Kuurne - Bruxelles - Kuurne\n",
      "Royal Bernard Drome Classic\n",
      "National Championships Uruguay - Road Race\n",
      "National Championships Uruguay MJ - Road Race\n",
      "African Continental Championships ME - TTT\n",
      "African Continental Championships MJ - TTT\n",
      "African Continental Championships WE - TTT\n",
      "African Continental Championships WJ - TTT\n",
      "Le Samyn\n",
      "Le Samyn des Dames\n",
      "Trofeo Laigueglia\n",
      "African Continental Championships ME - ITT\n",
      "African Continental Championships MJ - ITT\n",
      "African Continental Championships WE - ITT\n",
      "African Continental Championships WJ - ITT\n",
      "Trofej Umag - Umag Trophy\n",
      "African Continental Championships - Mixed Relay TTT\n",
      "Velo Alanya Junior\n",
      "Velo Alanya Women Junior\n",
      "African Continental Championships MJ - Road Race\n",
      "African Continental Championships WJ - Road Race\n",
      "National Championships Thailand ME - ITT\n",
      "National Championships Thailand MJ - ITT\n",
      "National Championships Thailand MU23 - ITT\n",
      "National Championships Thailand WE - ITT\n",
      "National Championships Thailand WJ - ITT\n",
      "National Championships Thailand WU23 - ITT\n",
      "Strade Bianche\n",
      "Strade Bianche Donne\n",
      "African Continental Championships ME - Road Race\n",
      "African Continental Championships WE - Road Race\n",
      "National Championships United Arab Emirates - Road Race\n",
      "Grand Prix Mediterrennean ME\n",
      "Grand Prix Mediterrennean WE\n",
      "Paris - Nice\n",
      "GP Industria & Artigianato\n",
      "Grote Prijs Jean-Pierre Monseré\n",
      "National Championships Thailand - Road Race\n",
      "National Championships Thailand MJ - Road Race\n",
      "National Championships Thailand WE - Road Race\n",
      "National Championships Thailand WJ - Road Race\n",
      "Grand Prix Gündoğmuş ME\n",
      "Grand Prix Gündoğmuş WE\n",
      "Trofej Poreč - Poreč Trophy\n",
      "Healthy Ageing Tour\n",
      "Istarsko Proljeće - Istrian Spring Trophy\n",
      "GP Oetingen\n",
      "Paris - Troyes\n",
      "Danilith Nokere Koerse ME\n",
      "Danilith Nokere Koerse WE\n",
      "Bredene Koksijde Classic\n",
      "National Championships South Africa - ITT\n",
      "National Championships South Africa MJ - ITT\n",
      "National Championships South Africa U23 - ITT\n",
      "National Championships South Africa WE - ITT\n",
      "National Championships South Africa WJ - ITT\n",
      "National Championships South Africa WU23 - ITT\n",
      "Milano-Sanremo\n",
      "Trofeo Alfredo Binda - Comune di Cittiglio\n",
      "National Championships South Africa - Road Race\n",
      "National Championships South Africa MJ - Road Race\n",
      "National Championships South Africa WE - Road Race\n",
      "National Championships South Africa WJ - Road Race\n",
      "Omloop van de Westhoek - Memorial Stive Vermaut\n",
      "Per Sempre \"Alfredo\"\n",
      "GP Slovenian Istria\n",
      "Piccolo Trofeo Alfredo Binda - Valli del Verbano\n",
      "Volta Ciclista a Catalunya\n",
      "Oxyclean Classic Brugge-De Panne ME\n",
      "Oxyclean Classic Brugge-De Panne WE\n",
      "E3 Saxo Bank Classic\n",
      "National Championships United Arab Emirates - ITT\n",
      "Gent-Wevelgem in Flanders Fields ME\n",
      "Gent-Wevelgem In Flanders Fields WE\n",
      "Cholet - Pays de la Loire\n",
      "GP Adria Mobil\n",
      "Dwars door Vlaanderen - A travers la Flandre ME\n",
      "Dwars door Vlaanderen - A travers la Flandre WE\n",
      "Tour of Mevlana\n",
      "Gran Premio Miguel Indurain\n",
      "Ronde van Vlaanderen - Tour des Flandres ME\n",
      "Ronde van Vlaanderen - Tour des Flandres WE\n",
      "La Roue Tourangelle Centre Val de Loire - Trophée Harmonie Mutuelle\n",
      "International Rhodes GP Powered by Mitsis Hotels\n",
      "Trofeo Piva\n",
      "Ronde de Mouscron\n",
      "Giro del Belvedere\n",
      "Scheldeprijs ME\n",
      "Scheldeprijs WE\n",
      "International Tour of Rhodes\n",
      "National Championships Lesotho MJ - Road Race\n",
      "National Championships Lesotho WJ - Road Race\n",
      "Presidential Cycling Tour of Turkey\n",
      "National Championships Lesotho - Road Race\n",
      "De Brabantse Pijl - La Flèche Brabançonne\n",
      "Volta a la Comunitat Valenciana\n",
      "Brabantse Pijl WE\n",
      "Vuelta a Colombia\n",
      "Amstel Gold Race\n",
      "Amstel Gold Race Ladies Edition\n",
      "Vuelta CV Feminas\n",
      "Grand Prix Féminin de Chambéry\n",
      "Tr. Città di S. Vendemiano - 61° GP Industria & Commercio\n",
      "Tour of the Alps\n",
      "La Flèche Wallonne\n",
      "La Flèche Wallonne Féminine\n",
      "Belgrade Banjaluka\n",
      "Liège-Bastogne-Liège\n",
      "Liège-Bastogne-Liège Femmes\n",
      "Gran Premio della Liberazione\n",
      "Ceratizit Festival Elsy Jacobs\n",
      "Vuelta Asturias Julio Alvarez Mendo\n",
      "National Championships Austria MJ - ITT\n",
      "National Championships Austria WJ - ITT\n",
      "Grand Prix West Bohemia\n",
      "Tour du Rwanda\n",
      "Circuito del Porto - Trofeo Arvedi\n",
      "Classica da Arrabida - Cyclin'Portugal\n",
      "Volta ao Algarve em Bicicleta\n",
      "V Setmana Ciclista Valenciana - Vuelta Comunitat Valenciana Feminas\n",
      "Giro d'Italia\n",
      "GP Eco-Struct\n",
      "Tour du Gévaudan Occitanie femmes\n",
      "Tour de Hongrie\n",
      "Circuit de Wallonie\n",
      "Emakumeen Nafarroako Women's Elite Classics\n",
      "Trofeo Calvia\n",
      "Navarra Women's Elite Classics\n",
      "Trofeo Serra de Tramuntana (Lloseta - Deia)\n",
      "Tour d'Eure-et-Loir\n",
      "Trofeo Andratx - Mirador des Colomer (Puerto Pollença)\n",
      "Tro-Bro Léon\n",
      "Gran Premio Ciudad de Eibar\n",
      "Trofeo Alcudia-Port d'Alcudia\n",
      "Vuelta a Andalucia Ruta Ciclista Del Sol\n",
      "Durango - Durango Emakumeen Saria\n",
      "Alpes Isère Tour\n",
      "National Championships Saudi Arabia WE - Road Race\n",
      "National Championships Saudi Arabia MJ - Road Race\n",
      "National Championships Saudi Arabia - Road Race\n",
      "Tour du Finistère\n",
      "National Championships Saudi Arabia - ITT\n",
      "National Championships Saudi Arabia MU23 - ITT\n",
      "Vuelta Ciclista a la Región de Murcia \"Costa Calida\"\n",
      "Mercan'Tour Classic Alpes-Maritimes\n",
      "Ronde van Limburg\n",
      "National Championships Germany U23 - Road Race\n",
      "National Championships Luxembourg U23 - Road Race\n",
      "National Championships Switzerland U23 - Road Race\n",
      "Internationale LOTTO Thüringen Ladies Tour\n",
      "La Classique des Alpes Juniors\n",
      "Grand Prix Herning\n",
      "Orlen Nations Grand Prix\n",
      "Critérium du Dauphiné\n",
      "Coppa della Pace - Trofeo F.lli Anelli\n",
      "Fyen Rundt - Tour of Funen\n",
      "GP Slovenia\n",
      "Trofeo Alcide Degasperi\n",
      "Course de la Paix Grand Prix Jeseníky\n",
      "Giro Ciclistico d'Italia\n",
      "Tour of Malopolska\n",
      "Grosser Preis des Kantons Aargau\n",
      "Dwars door het Hageland\n",
      "National Championships Greece MJ - ITT\n",
      "National Championships Greece U23 - ITT\n",
      "Dwars door het Hageland WE\n",
      "Dwars door de Westhoek\n",
      "Elfstedenronde\n",
      "National Championships Greece MJ - Road Race\n",
      "National Championships Greece U23 - Road Race\n",
      "National Championships Greece WJ - Road Race\n",
      "Mont Ventoux Dénivelé Challenge\n",
      "Baloise Belgium Tour\n",
      "Five Rings of Moscow\n",
      "Vuelta Internacional Femenina a Guatemala\n",
      "La Route d'Occitanie - La Dépêche du Midi\n",
      "Oberösterreichrundfahrt\n",
      "National Championships Mexico - ITT\n"
     ]
    },
    {
     "name": "stdout",
     "output_type": "stream",
     "text": [
      "National Championships Mexico MJ - ITT\n",
      "National Championships Mexico MU23 - ITT\n",
      "National Championships Mexico WE - ITT\n",
      "National Championships Mexico WJ - ITT\n",
      "National Championships Mexico WU23 - ITT\n",
      "National Championships Panama - ITT\n",
      "National Championships Panama MJ - ITT\n",
      "National Championships Panama MU23 - ITT\n",
      "National Championships Panama WE - ITT\n",
      "National Championships Panama WJ - ITT\n",
      "National Championships Panama WU23 - ITT\n",
      "National Championships Bulgaria WJ - ITT\n",
      "National Championships Estonia MU23 - Road Race\n",
      "National Championships Israel - ITT\n",
      "National Championships Israel MJ - ITT\n",
      "National Championships Israel MU23 - ITT\n",
      "National Championships Israel WE - ITT\n",
      "National Championships Israel WJ - ITT\n",
      "National Championships Israel WU23 - ITT\n",
      "National Championships Latvia MU23 - Road Race\n",
      "National Championships Lithuania MU23 - Road Race\n",
      "National Championships Mexico MJ - Road Race\n",
      "National Championships Mexico WE - Road Race\n",
      "National Championships Mexico WJ - Road Race\n",
      "Belgrade GP Woman Tour\n",
      "National Championships Belize - ITT\n",
      "National Championships Belize MJ - ITT\n",
      "National Championships Belize WE - ITT\n",
      "National Championships Belize WJ - ITT\n",
      "National Championships Bulgaria WJ - Road Race\n",
      "National Championships El Salvador - ITT\n",
      "National Championships El Salvador MJ - ITT\n",
      "National Championships El Salvador WE - ITT\n",
      "National Championships El Salvador WJ - ITT\n",
      "National Championships Guatemala - ITT\n",
      "National Championships Guatemala MJ - ITT\n",
      "National Championships Guatemala U23 - ITT\n",
      "National Championships Guatemala WE - ITT\n",
      "National Championships Guatemala WU23 - ITT\n",
      "National Championships Mexico - Road Race\n",
      "National Championships Norway MJ - Road Race\n",
      "National Championships Norway MU23 - Road Race\n",
      "National Championships Norway WJ - Road Race\n",
      "National Championships Panama - Road Race\n",
      "National Championships Panama MJ - Road Race\n",
      "National Championships Panama WE - Road Race\n",
      "National Championships Panama WJ - Road Race\n",
      "SPAR Flanders Diamond Tour\n",
      "National Championships Belize U23 - ITT\n",
      "National Championships El Salvador U23 - ITT\n",
      "National Championships Panama U23 - Road Race\n",
      "National Championships Panama WU23 - Road Race\n",
      "Adriatica Ionica Race / Sulle Rotte della Serenissima\n",
      "National Championships Belarus - ITT\n",
      "National Championships Belarus MJ - ITT\n",
      "National Championships Belarus U23 - ITT\n",
      "National Championships Belarus WE - ITT\n",
      "National Championships Belarus WJ - ITT\n",
      "National Championships Belarus WU23 - ITT\n",
      "National Championships Ethiopia - ITT\n",
      "National Championships Ethiopia WE - ITT\n",
      "Paris-Camembert\n",
      "National Championships Belgium - ITT\n",
      "National Championships Belgium WE - ITT\n",
      "National Championships Ethiopia - Road Race\n",
      "National Championships Ethiopia MJ - ITT\n",
      "National Championships Ethiopia MJ - Road Race\n",
      "National Championships Ethiopia WE - Road Race\n",
      "National Championships Kazakhstan - ITT\n",
      "National Championships Kazakhstan MJ - ITT\n",
      "National Championships Kazakhstan WE - ITT\n",
      "National Championships Kazakhstan WJ - ITT\n",
      "National Championships Latvia - ITT\n",
      "National Championships Latvia MJ - ITT\n",
      "National Championships Latvia WE - ITT\n",
      "National Championships Latvia WJ - ITT\n",
      "National Championships Netherlands - ITT\n",
      "National Championships Netherlands U23 - ITT\n",
      "National Championships Netherlands WE - ITT\n",
      "National Championships Switzerland - ITT\n",
      "National Championships Switzerland MJ - ITT\n",
      "National Championships Switzerland WE - ITT\n",
      "National Championships Switzerland WJ - ITT\n",
      "National Championships Ukraine MJ - ITT\n",
      "National Championships Ukraine WE - ITT\n",
      "National Championships Ukraine WJ - ITT\n",
      "National Championships Kazakhstan U23 - ITT\n",
      "National Championships Latvia U23 - ITT\n",
      "National Championships Switzerland U23 - ITT\n",
      "National Championships Ukraine WU23 - ITT\n",
      "National Championships Belarus MJ - Road Race\n",
      "National Championships Belarus WJ - Road Race\n",
      "National Championships Colombia - ITT\n",
      "National Championships Colombia WE - ITT\n",
      "National Championships Czech Republic - ITT\n",
      "National Championships Czech Republic MJ - ITT\n",
      "National Championships Czech Republic U23 - ITT\n",
      "National Championships Czech Republic WE - ITT\n",
      "National Championships Czech Republic WJ - ITT\n",
      "National Championships Denmark - ITT\n",
      "National Championships Denmark MJ - ITT\n",
      "National Championships Denmark WE - ITT\n",
      "National Championships Denmark WJ - ITT\n",
      "National Championships Ecuador - ITT\n",
      "National Championships Ecuador U23 - ITT\n",
      "National Championships Ecuador WE - ITT\n",
      "National Championships Ecuador WU23 - ITT\n",
      "National Championships Estonia - ITT\n",
      "National Championships Estonia MJ - ITT\n",
      "National Championships Estonia WE - ITT\n",
      "National Championships Estonia WJ - ITT\n",
      "National Championships France - ITT\n",
      "National Championships France WE - ITT\n",
      "National Championships Hungary - ITT\n",
      "National Championships Hungary MJ - ITT\n",
      "National Championships Hungary WE - ITT\n",
      "National Championships Hungary WJ - ITT\n",
      "National Championships Iceland - ITT\n",
      "National Championships Iceland MJ - ITT\n",
      "National Championships Iceland WE - ITT\n",
      "National Championships Iceland WJ - ITT\n",
      "National Championships Kazakhstan WJ - Road Race\n",
      "National Championships Kosovo - ITT\n",
      "National Championships Kosovo MJ - ITT\n",
      "National Championships Kosovo U23 - ITT\n",
      "National Championships Lithuania - ITT\n",
      "National Championships Lithuania MJ - ITT\n",
      "National Championships Lithuania WE - ITT\n",
      "National Championships Lithuania WJ - ITT\n",
      "National Championships Norway - ITT\n",
      "National Championships Norway MJ - ITT\n",
      "National Championships Norway WE - ITT\n",
      "National Championships Norway WJ - ITT\n",
      "National Championships Poland - ITT\n",
      "National Championships Poland MJ - ITT\n",
      "National Championships Poland WE - ITT\n",
      "National Championships Poland WJ - ITT\n",
      "National Championships Russia - ITT\n",
      "National Championships Russia WE - ITT\n",
      "National Championships Slovakia - ITT\n",
      "National Championships Slovakia MJ - ITT\n",
      "National Championships Slovakia WE - ITT\n",
      "National Championships Slovakia WJ - ITT\n",
      "National Championships Slovenia - ITT\n",
      "National Championships Slovenia MJ - ITT\n",
      "National Championships Slovenia WE - ITT\n",
      "National Championships Slovenia WJ - ITT\n",
      "National Championships Ukraine - ITT\n",
      "National Championships Ukraine U23 - ITT\n",
      "National Championships United States - ITT\n",
      "National Championships United States WE - ITT\n",
      "National Championships United States WU23 - ITT\n",
      "National Championships Colombia U23 - ITT\n",
      "National Championships Colombia WU23 - ITT\n",
      "National Championships Hungary U23 - ITT\n",
      "National Championships Iceland U23 - ITT\n",
      "National Championships Iceland WU23 - ITT\n",
      "National Championships Lithuania U23 - ITT\n",
      "National Championships Lithuania WU23 - ITT\n",
      "National Championships Belarus - Road Race\n",
      "National Championships Belarus WE - Road Race\n",
      "National Championships Colombia WE - Road Race\n",
      "National Championships Croatia - ITT\n",
      "National Championships Croatia MJ - ITT\n"
     ]
    }
   ],
   "source": [
    "year = '2021'\n",
    "for race in calendar.Race:\n",
    "    \n",
    "    time.sleep(0.5)\n",
    "    try:\n",
    "        race_url = race.lower().replace(' ', '-')\n",
    "        results = get_race_results(race_url, year)\n",
    "        save_data(results, RACERESULTS_PATH, race_url, year)\n",
    "    except:\n",
    "        print(race)"
   ]
  },
  {
   "cell_type": "code",
   "execution_count": null,
   "metadata": {},
   "outputs": [],
   "source": []
  }
 ],
 "metadata": {
  "kernelspec": {
   "display_name": "Python 3",
   "language": "python",
   "name": "python3"
  },
  "language_info": {
   "codemirror_mode": {
    "name": "ipython",
    "version": 3
   },
   "file_extension": ".py",
   "mimetype": "text/x-python",
   "name": "python",
   "nbconvert_exporter": "python",
   "pygments_lexer": "ipython3",
   "version": "3.7.3"
  }
 },
 "nbformat": 4,
 "nbformat_minor": 5
}
