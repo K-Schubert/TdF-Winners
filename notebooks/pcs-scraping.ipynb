{
 "cells": [
  {
   "cell_type": "code",
   "execution_count": 100,
   "metadata": {},
   "outputs": [],
   "source": [
    "import requests\n",
    "from bs4 import BeautifulSoup\n",
    "import pandas as pd\n",
    "import numpy as np\n",
    "import time\n",
    "import os\n",
    "import csv\n",
    "import tqdm\n",
    "import re\n",
    "import datetime"
   ]
  },
  {
   "cell_type": "markdown",
   "metadata": {},
   "source": [
    "# Scraping"
   ]
  },
  {
   "cell_type": "markdown",
   "metadata": {},
   "source": [
    "### env variables"
   ]
  },
  {
   "cell_type": "code",
   "execution_count": 87,
   "metadata": {},
   "outputs": [],
   "source": [
    "BASE_PATH = '../data/pcs-scraping'\n",
    "RESULTS_PATH = '../data/pcs-scraping/results/rider'\n",
    "RANKINGS_PATH = '../data/pcs-scraping/pcs-rankings/rider'\n",
    "TEAMS_PATH = '../data/pcs-scraping/teams/rider'\n",
    "CALENDARS_PATH = '../data/pcs-scraping/calendars'\n",
    "STARTLISTS_PATH = '../data/pcs-scraping/startlists'\n",
    "RACERESULTS_PATH = '../data/pcs-scraping/race_results'\n",
    "IMG_PATH = '../data/pcs-scraping/img/rider'\n",
    "RIDERSTATS_PATH = '../data/pcs-scraping/rider_stats/rider'"
   ]
  },
  {
   "cell_type": "markdown",
   "metadata": {},
   "source": [
    "### Scraping functions"
   ]
  },
  {
   "cell_type": "code",
   "execution_count": 65,
   "metadata": {},
   "outputs": [],
   "source": [
    "def get_rider_img(rider_name):\n",
    "    \n",
    "    # check if rider already has img data\n",
    "    if not os.path.isdir(os.path.join(IMG_PATH, rider_name)):\n",
    "        os.mkdir(os.path.join(IMG_PATH, rider_name))\n",
    "        \n",
    "    try:\n",
    "        url = f'https://www.procyclingstats.com/rider/{rider_name}'\n",
    "        res = requests.get(url)\n",
    "\n",
    "        soup = BeautifulSoup(res.content)\n",
    "        img_path = soup.find_all('img', {'src': re.compile(r'images.*\\.jpeg')})\n",
    "\n",
    "        url = os.path.join('https://www.procyclingstats.com', img_path[0]['src'])\n",
    "        res = requests.get(url)\n",
    "        \n",
    "        with open(os.path.join(IMG_PATH, rider_name, f'{rider_name}-img.jpeg'), 'wb') as file:\n",
    "            file.write(res.content)\n",
    "            \n",
    "        time.sleep(0.5)\n",
    "    \n",
    "    except Exception as e:\n",
    "        print(rider_name, '---', e)"
   ]
  },
  {
   "cell_type": "code",
   "execution_count": 88,
   "metadata": {},
   "outputs": [],
   "source": [
    "def get_rider_names(n_pages):\n",
    "    \n",
    "    rider_names = []\n",
    "\n",
    "    offsets = np.arange(0, 3001, 100)\n",
    "\n",
    "    for offset in offsets[:n_pages]:\n",
    "\n",
    "        url = f'https://www.procyclingstats.com/rankings.php?date=2022-01-12&nation=&age=&zage=&page=smallerorequal&team=&offset={offset}&continent=&teamlevel=&filter=Filter&p=me&s=uci-individual'\n",
    "        res = requests.get(url)\n",
    "\n",
    "        tables = pd.read_html(res.content)\n",
    "        rider_names.append(tables[0])\n",
    "\n",
    "        time.sleep(0.5)\n",
    "    \n",
    "    return rider_names\n",
    "\n",
    "def normalize_rider_name(rider_name):\n",
    "    \n",
    "    surname = rider_name.split(\" \")[-1].lower()\n",
    "    name = \"-\".join(rider_name.split(\" \")[:-1]).lower()\n",
    "    full_name = surname + '-' + name\n",
    "    \n",
    "    return full_name\n",
    "\n",
    "def clean_pcs_table_results(df_table):\n",
    "    \n",
    "    df_table.drop('Unnamed: 3', axis=1, inplace=True)\n",
    "    df_table.drop('Unnamed: 8', axis=1, inplace=True)\n",
    "    df_table.rename(columns={'Unnamed: 2': 'GC'}, inplace=True)\n",
    "    \n",
    "    return df_table\n",
    "\n",
    "def clean_pcs_table_ranking(df_table):\n",
    "    \n",
    "    df_table.rename(columns={'Unnamed: 0': 'year'}, inplace=True)\n",
    "\n",
    "    return df_table\n",
    "\n",
    "def get_rider_stats(rider_name, years):\n",
    "\n",
    "    pcs_ranking = []\n",
    "    results = []\n",
    "\n",
    "    for year in years:\n",
    "\n",
    "        try:\n",
    "            url = f'https://www.procyclingstats.com/rider/{rider_name}/{year}'\n",
    "            res = requests.get(url)\n",
    "\n",
    "            tables = pd.read_html(res.content)\n",
    "            pcs_ranking.append(clean_pcs_table_ranking(tables[1]))\n",
    "            results.append(clean_pcs_table_results(tables[0]))\n",
    "\n",
    "            time.sleep(0.5)\n",
    "            \n",
    "        except Exception as e:\n",
    "            print(e)\n",
    "\n",
    "    df_results = [(year, x) for year, x in zip(years, results) if not x.empty]\n",
    "    \n",
    "    return df_results, pcs_ranking[0]\n",
    "\n",
    "def init_dirs():\n",
    "\n",
    "    if not os.path.isdir(BASE_PATH):\n",
    "        os.makedirs(BASE_PATH)\n",
    "        \n",
    "    if not os.path.isdir(RESULTS_PATH):\n",
    "        os.makedirs(RESULTS_PATH)\n",
    "        \n",
    "    if not os.path.isdir(RANKINGS_PATH):\n",
    "        os.makedirs(RANKINGS_PATH)\n",
    "        \n",
    "    if not os.path.isdir(TEAMS_PATH):\n",
    "        os.makedirs(TEAMS_PATH)\n",
    "        \n",
    "    if not os.path.isdir(IMG_PATH):\n",
    "        os.makedirs(IMG_PATH)\n",
    "        \n",
    "    if not os.path.isdir(RIDERSTATS_PATH):\n",
    "        os.makedirs(RIDERSTATS_PATH)\n",
    "        \n",
    "\n",
    "def save_data(rider_name, results, pcs_ranking):\n",
    "        \n",
    "    # check if rider already has results data\n",
    "    if not os.path.isdir(os.path.join(RESULTS_PATH, rider_name)):\n",
    "        os.mkdir(os.path.join(RESULTS_PATH, rider_name))\n",
    "    \n",
    "    # check if rider already has pcs-ranking data\n",
    "    if not os.path.isdir(os.path.join(RANKINGS_PATH, rider_name)):\n",
    "        os.mkdir(os.path.join(RANKINGS_PATH, rider_name))\n",
    "        \n",
    "    # save season results\n",
    "    #[x[1].to_csv(f'../data/pcs-scraping/results/rider/{rider_name}/{x[0]}.csv', index=False) for x in results]\n",
    "    [x[1].to_csv(os.path.join(RESULTS_PATH, rider_name , f'{x[0]}.csv'), index=False) for x in results]\n",
    "    \n",
    "    # save pcs_ranking\n",
    "    #pcs_ranking.to_csv(f'../data/pcs-scraping/pcs-ranking/rider/{rider_name}/pcs_ranking.csv', index=False)\n",
    "    pcs_ranking.to_csv(os.path.join(RANKINGS_PATH, rider_name, 'pcs_ranking.csv'), index=False)"
   ]
  },
  {
   "cell_type": "markdown",
   "metadata": {},
   "source": [
    "### Initialize data directories"
   ]
  },
  {
   "cell_type": "code",
   "execution_count": 112,
   "metadata": {},
   "outputs": [],
   "source": [
    "init_dirs()"
   ]
  },
  {
   "cell_type": "markdown",
   "metadata": {},
   "source": [
    "### Get Rider Names"
   ]
  },
  {
   "cell_type": "code",
   "execution_count": null,
   "metadata": {},
   "outputs": [],
   "source": [
    "rider_names = get_rider_names(n_pages=10)"
   ]
  },
  {
   "cell_type": "code",
   "execution_count": null,
   "metadata": {},
   "outputs": [],
   "source": [
    "riders = []\n",
    "[riders.extend(x['Rider']) for x in rider_names]\n",
    "\n",
    "rider_names = [normalize_rider_name(x) for x in riders]"
   ]
  },
  {
   "cell_type": "code",
   "execution_count": null,
   "metadata": {},
   "outputs": [],
   "source": [
    "with open(os.path.join(BASE_PATH, 'rider_names.csv'), 'w') as f:\n",
    "    wr = csv.writer(f, quoting=csv.QUOTE_ALL)\n",
    "    wr.writerow(rider_names)"
   ]
  },
  {
   "cell_type": "code",
   "execution_count": 49,
   "metadata": {},
   "outputs": [],
   "source": [
    "rider_names = list(pd.read_csv(os.path.join(BASE_PATH, 'rider_names.csv')))"
   ]
  },
  {
   "cell_type": "markdown",
   "metadata": {},
   "source": [
    "### Get Race Results and Rankings"
   ]
  },
  {
   "cell_type": "markdown",
   "metadata": {},
   "source": [
    "- NEED TO SCRAP ALL POSSIBLE YEARS (BEFORE 2011) !!!"
   ]
  },
  {
   "cell_type": "markdown",
   "metadata": {},
   "source": [
    "- RIDER NAMES IN URL NOT CORRECT FOR FAILURES"
   ]
  },
  {
   "cell_type": "code",
   "execution_count": null,
   "metadata": {},
   "outputs": [],
   "source": [
    "years = np.arange(2000, 2023)\n",
    "\n",
    "for rider_name in tqdm.tqdm(rider_names[:200]):\n",
    "\n",
    "    try:\n",
    "        results, pcs_ranking = get_rider_stats(rider_name, years)\n",
    "        save_data(rider_name, results, pcs_ranking)\n",
    "    except:\n",
    "        print(rider_name)\n",
    "        pass"
   ]
  },
  {
   "cell_type": "code",
   "execution_count": null,
   "metadata": {},
   "outputs": [],
   "source": [
    "rider_names_corrected_1 = ['jonas-vingegaard-rasmussen', 'mikkel-honore', 'aleksey-lutsenko', 'ben-o-connor',\n",
    "                         'michael-valgren-andersen', 'biniam-girmay', 'miguel-angel-lopez', 'johan-esteban-chaves',\n",
    "                         'michal-kwiatkowski', 'jesus-herrada-lopez', 'odd-christian-eiking', 'magnus-cort-nielsen',\n",
    "                         'daniel-felipe-martinez', 'luis-leon-sanchez', 'tobias-halland-johannessen', 'jose-manuel-diaz-gallego',\n",
    "                         'juan-ayuso-pesquera']\n",
    "rider_names_corrected_2 = []\n",
    "\n",
    "years = np.arange(2000, 2023)\n",
    "\n",
    "for rider_name in tqdm.tqdm(rider_names_corrected_1):\n",
    "\n",
    "    try:\n",
    "        results, pcs_ranking = get_rider_stats(rider_name, years)\n",
    "        save_data(rider_name, results, pcs_ranking)\n",
    "    except:\n",
    "        print(rider_name)\n",
    "        pass"
   ]
  },
  {
   "cell_type": "markdown",
   "metadata": {},
   "source": [
    "### Get Teams"
   ]
  },
  {
   "cell_type": "code",
   "execution_count": null,
   "metadata": {},
   "outputs": [],
   "source": [
    "def get_rider_teams(rider_name):\n",
    "    \n",
    "    time.sleep(0.5)\n",
    "    \n",
    "    url = f'https://www.procyclingstats.com/rider/{rider_name}'\n",
    "    res = requests.get(url)\n",
    "    \n",
    "    soup = BeautifulSoup(res.content)\n",
    "    \n",
    "    possible_classes = ['list rdr-teams moblist moblist', 'list rdr-teams moblist', 'list rdr-teams moblist moblist ']\n",
    "    ul = list(filter(None, [soup.find('ul', {'class': class_}) for class_ in possible_classes]))\n",
    "    \n",
    "    if ul:\n",
    "        \n",
    "        season = [x.find('div', {'class': 'season'}).text for x in ul[0].find_all('li')]\n",
    "        team = [x.find('div', {'class': 'name'}).text for x in ul[0].find_all('li')]\n",
    "        teams = pd.DataFrame({'season': season, 'team': team})\n",
    "        \n",
    "        return teams\n",
    "\n",
    "    else:\n",
    "        \n",
    "        print(rider_name, 'No Teams scraped')\n",
    "\n",
    "def save_data(rider_name, teams):\n",
    "        \n",
    "    # check if rider already has teams data\n",
    "    if not os.path.isdir(os.path.join(TEAMS_PATH, rider_name)):\n",
    "        os.mkdir(os.path.join(TEAMS_PATH, rider_name))\n",
    "        \n",
    "    # save teams data\n",
    "    teams.to_csv(os.path.join(TEAMS_PATH, rider_name, 'teams.csv'), index=False)"
   ]
  },
  {
   "cell_type": "code",
   "execution_count": null,
   "metadata": {},
   "outputs": [],
   "source": [
    "rider_names = list(pd.read_csv(os.path.join(BASE_PATH, 'rider_names.csv')))"
   ]
  },
  {
   "cell_type": "code",
   "execution_count": null,
   "metadata": {},
   "outputs": [],
   "source": [
    "for rider_name in tqdm.tqdm(rider_names[:200]):\n",
    "    \n",
    "    try:\n",
    "        teams = get_rider_teams(rider_name)\n",
    "        save_data(rider_name, teams)\n",
    "    except:\n",
    "        print(rider_name)"
   ]
  },
  {
   "cell_type": "code",
   "execution_count": null,
   "metadata": {},
   "outputs": [],
   "source": [
    "for rider_name in tqdm.tqdm(rider_names_corrected):\n",
    "    \n",
    "    try:\n",
    "        teams = get_rider_teams(rider_name)\n",
    "        save_data(rider_name, teams)\n",
    "    except:\n",
    "        print(rider_name)"
   ]
  },
  {
   "cell_type": "markdown",
   "metadata": {},
   "source": [
    "- RIDER NAMES NOT CORRECT ON URL FOR FAILURES"
   ]
  },
  {
   "cell_type": "markdown",
   "metadata": {},
   "source": [
    "### Get race calendar"
   ]
  },
  {
   "cell_type": "code",
   "execution_count": null,
   "metadata": {},
   "outputs": [],
   "source": [
    "def get_race_calendar(years):\n",
    "\n",
    "    calendar = []\n",
    "\n",
    "    for year in years:\n",
    "\n",
    "        try:\n",
    "            url = f'https://www.procyclingstats.com/races.php?year={year}&circuit=&class=&filter=Filter'\n",
    "            res = requests.get(url)\n",
    "\n",
    "            tables = pd.read_html(res.content)\n",
    "            calendar.append(tables[0].dropna())\n",
    "\n",
    "            time.sleep(0.5)\n",
    "            \n",
    "        except Exception as e:\n",
    "            print(e)\n",
    "\n",
    "    df_calendar = [(year, cal) for year, cal in zip(years, calendar) if not cal.empty]\n",
    "    \n",
    "    return df_calendar\n",
    "\n",
    "def save_data(calendar):\n",
    "        \n",
    "    if not os.path.isdir(CALENDARS_PATH):\n",
    "        os.mkdir(CALENDARS_PATH)\n",
    "        \n",
    "    # save calendar data\n",
    "    calendar[1].to_csv(os.path.join(CALENDARS_PATH, f'{calendar[0]}.csv'), index=False)"
   ]
  },
  {
   "cell_type": "code",
   "execution_count": null,
   "metadata": {},
   "outputs": [],
   "source": [
    "years = np.arange(2010, 2023)\n",
    "calendar = get_race_calendar(years)\n",
    "[save_data(cal) for cal in calendar]"
   ]
  },
  {
   "cell_type": "markdown",
   "metadata": {},
   "source": [
    "### Get Race startlist + results"
   ]
  },
  {
   "cell_type": "code",
   "execution_count": null,
   "metadata": {},
   "outputs": [],
   "source": [
    "def convert_racename_to_url(racename):\n",
    "    \n",
    "    race_url = racename.values[0].lower().replace(\"'\", \"-\").replace(\" \", \"-\")\n",
    "    \n",
    "    return race_url\n",
    "    \n",
    "def get_race_results(race_url, year):\n",
    "    \n",
    "    url = f'https://www.procyclingstats.com/race/{race_url}/{year}'\n",
    "    res = requests.get(url)\n",
    "\n",
    "    tables = pd.read_html(res.content)\n",
    "    last_stage = tables[0]\n",
    "    gc = tables[1]\n",
    "    points = tables[2]\n",
    "    kom = tables[3]\n",
    "    youth = tables[4]\n",
    "    teams = tables[5]\n",
    "    \n",
    "    # ALSO NEED individual stages, kom, points, youth, teams final + stage results\n",
    "    \n",
    "    return last_stage, gc, points, kom, youth, teams\n",
    "\n",
    "def get_startlist(race_url, year):\n",
    "    \n",
    "    url = f'https://www.procyclingstats.com/race/{race_url}/{year}/gc/startlist/alphabetical-with-filters'\n",
    "    res = requests.get(url)\n",
    "    \n",
    "    startlist = pd.read_html(res.content)[0].drop(['Unnamed: 3'], axis=1)\n",
    "    \n",
    "    return startlist\n",
    "\n",
    "def save_data(startlist, PATH, race_url, year):\n",
    "        \n",
    "    if not os.path.isdir(os.path.join(PATH, race_url, year)):\n",
    "        os.makedirs(os.path.join(PATH, race_url, year))\n",
    "        \n",
    "    # save data\n",
    "    startlist.to_csv(os.path.join(PATH, race_url, year, 'startlist.csv'), index=False)"
   ]
  },
  {
   "cell_type": "markdown",
   "metadata": {},
   "source": [
    "### Get startlist of one race"
   ]
  },
  {
   "cell_type": "code",
   "execution_count": null,
   "metadata": {},
   "outputs": [],
   "source": [
    "year = '2021'\n",
    "target_race = \"Giro d'Italia\"\n",
    "\n",
    "calendar = pd.read_csv(os.path.join(CALENDARS_PATH, f'{year}.csv'))\n",
    "race_url = convert_racename_to_url(calendar[calendar['Race'].str.contains(target_race)].Race)\n",
    "\n",
    "startlist = get_startlist(race_url, year)\n",
    "save_data(startlist, STARTLISTS_PATH, race_url, year)"
   ]
  },
  {
   "cell_type": "markdown",
   "metadata": {},
   "source": [
    "### Get startlist of all races in year"
   ]
  },
  {
   "cell_type": "code",
   "execution_count": null,
   "metadata": {},
   "outputs": [],
   "source": [
    "year = '2021'\n",
    "for race in calendar.Race:\n",
    "    \n",
    "    time.sleep(0.5)\n",
    "    try:\n",
    "        race_url = race.lower().replace(' ', '-')\n",
    "        startlist = get_startlist(race_url, year)\n",
    "        save_data(startlist, STARTLISTS_PATH, race_url, year)\n",
    "    except:\n",
    "        print(race)"
   ]
  },
  {
   "cell_type": "markdown",
   "metadata": {},
   "source": [
    "### Get race results"
   ]
  },
  {
   "cell_type": "code",
   "execution_count": null,
   "metadata": {},
   "outputs": [],
   "source": [
    "def save_data(results, PATH, race_url, year):\n",
    "        \n",
    "    if not os.path.isdir(os.path.join(PATH, race_url, year)):\n",
    "        os.makedirs(os.path.join(PATH, race_url, year))\n",
    "        \n",
    "    # save data\n",
    "    [res.to_csv(os.path.join(PATH, race_url, year, f'{name}.csv'), index=False) for res, name in zip(results, ['last_stage', 'gc', 'points', 'kom', 'youth', 'team'])]"
   ]
  },
  {
   "cell_type": "code",
   "execution_count": null,
   "metadata": {},
   "outputs": [],
   "source": [
    "race_url = convert_racename_to_url(calendar[calendar['Race'].str.contains(target_race)].Race)\n",
    "results = get_race_results(race_url, year)\n",
    "save_data(results, RACERESULTS_PATH, race_url, year)"
   ]
  },
  {
   "cell_type": "markdown",
   "metadata": {},
   "source": [
    "### Get race results of all races in year"
   ]
  },
  {
   "cell_type": "code",
   "execution_count": null,
   "metadata": {},
   "outputs": [],
   "source": [
    "year = '2021'\n",
    "for race in calendar.Race:\n",
    "    \n",
    "    time.sleep(0.5)\n",
    "    try:\n",
    "        race_url = race.lower().replace(' ', '-')\n",
    "        results = get_race_results(race_url, year)\n",
    "        save_data(results, RACERESULTS_PATH, race_url, year)\n",
    "    except:\n",
    "        print(race)"
   ]
  },
  {
   "cell_type": "markdown",
   "metadata": {},
   "source": [
    "### Get rider images"
   ]
  },
  {
   "cell_type": "code",
   "execution_count": 68,
   "metadata": {},
   "outputs": [
    {
     "name": "stdout",
     "output_type": "stream",
     "text": [
      "jonas-vingegaard --- list index out of range\n",
      "frølich-honoré-mikkel --- list index out of range\n",
      "alexey-lutsenko --- list index out of range\n",
      "ben-o'connor --- list index out of range\n",
      "michael-valgren --- list index out of range\n",
      "biniam-girmay-hailu --- list index out of range\n",
      "ángel-lópez-miguel --- list index out of range\n",
      "esteban-chaves --- list index out of range\n",
      "michał-kwiatkowski --- list index out of range\n",
      "jesús-herrada --- list index out of range\n",
      "christian-eiking-odd --- list index out of range\n",
      "magnus-cort --- list index out of range\n",
      "felipe-martínez-daniel --- list index out of range\n",
      "león-sánchez-luis --- list index out of range\n",
      "carlos-rodríguez --- list index out of range\n",
      "halland-johannessen-tobias --- list index out of range\n",
      "manuel-díaz-josé --- list index out of range\n",
      "juan-ayuso --- list index out of range\n"
     ]
    }
   ],
   "source": [
    "for rider_name in rider_names[:200]:\n",
    "    get_rider_img(rider_name)"
   ]
  },
  {
   "cell_type": "code",
   "execution_count": 69,
   "metadata": {},
   "outputs": [
    {
     "name": "stdout",
     "output_type": "stream",
     "text": [
      "johan-esteban-chaves --- list index out of range\n"
     ]
    }
   ],
   "source": [
    "rider_names_corrected_1 = ['jonas-vingegaard-rasmussen', 'mikkel-honore', 'aleksey-lutsenko', 'ben-o-connor',\n",
    "                         'michael-valgren-andersen', 'biniam-girmay', 'miguel-angel-lopez', 'johan-esteban-chaves',\n",
    "                         'michal-kwiatkowski', 'jesus-herrada-lopez', 'odd-christian-eiking', 'magnus-cort-nielsen',\n",
    "                         'daniel-felipe-martinez', 'luis-leon-sanchez', 'tobias-halland-johannessen', 'jose-manuel-diaz-gallego',\n",
    "                         'juan-ayuso-pesquera']\n",
    "\n",
    "for rider_name in rider_names_corrected_1:\n",
    "    get_rider_img(rider_name)"
   ]
  },
  {
   "cell_type": "markdown",
   "metadata": {},
   "source": [
    "### Get rider stats"
   ]
  },
  {
   "cell_type": "code",
   "execution_count": 143,
   "metadata": {},
   "outputs": [],
   "source": [
    "def get_rider_stats(race, year):\n",
    "        \n",
    "    # check if race already has stats data\n",
    "    if not os.path.isdir(os.path.join(STARTLISTS_PATH, race, year)):\n",
    "        os.makedirs(os.path.join(STARTLISTS_PATH, race, year))\n",
    "\n",
    "    try:\n",
    "        url = f'https://www.procyclingstats.com/race/{race}/{year}/result/startlist/kpis'\n",
    "        res = requests.get(url)\n",
    "\n",
    "        stats = pd.read_html(res.content)[0]\n",
    "        date = str(datetime.datetime.now()).split(' ')[0]\n",
    "        \n",
    "        stats.to_csv(os.path.join(STARTLISTS_PATH, race, year, 'stats-kpis.csv'), index=False)\n",
    "\n",
    "        for row in stats.iterrows():\n",
    "            \n",
    "            rider_name = '-'.join(reversed(row[1].Rider.split(' '))).lower()\n",
    "            \n",
    "            # check if rider already has img data\n",
    "            if not os.path.isdir(os.path.join(RIDERSTATS_PATH, rider_name)):\n",
    "                os.mkdir(os.path.join(RIDERSTATS_PATH, rider_name))\n",
    "                \n",
    "            pd.DataFrame(row[1]).T.to_csv(os.path.join(RIDERSTATS_PATH, rider_name, f'stats-kpis-{date}.csv'), index=False)\n",
    "            \n",
    "        \n",
    "    except Exception as e:\n",
    "        print(race, '---', e)\n",
    "    \n",
    "    "
   ]
  },
  {
   "cell_type": "code",
   "execution_count": 144,
   "metadata": {},
   "outputs": [],
   "source": [
    "year = '2022'\n",
    "race = 'milano-sanremo'\n",
    "\n",
    "rider_stats = get_rider_stats(race, year)"
   ]
  },
  {
   "cell_type": "code",
   "execution_count": null,
   "metadata": {},
   "outputs": [],
   "source": []
  }
 ],
 "metadata": {
  "kernelspec": {
   "display_name": "Python 3",
   "language": "python",
   "name": "python3"
  },
  "language_info": {
   "codemirror_mode": {
    "name": "ipython",
    "version": 3
   },
   "file_extension": ".py",
   "mimetype": "text/x-python",
   "name": "python",
   "nbconvert_exporter": "python",
   "pygments_lexer": "ipython3",
   "version": "3.7.3"
  }
 },
 "nbformat": 4,
 "nbformat_minor": 5
}
