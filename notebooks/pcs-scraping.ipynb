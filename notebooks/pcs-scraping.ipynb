{
 "cells": [
  {
   "cell_type": "code",
   "execution_count": 1,
   "id": "f59e10c7",
   "metadata": {},
   "outputs": [],
   "source": [
    "import requests\n",
    "from bs4 import BeautifulSoup\n",
    "import pandas as pd\n",
    "import numpy as np\n",
    "import time\n",
    "import os\n",
    "import csv\n",
    "import tqdm\n",
    "import re\n",
    "import datetime\n",
    "from dotenv import load_dotenv"
   ]
  },
  {
   "cell_type": "markdown",
   "id": "34aba129",
   "metadata": {},
   "source": [
    "# Scraping"
   ]
  },
  {
   "cell_type": "markdown",
   "id": "39e21f1c",
   "metadata": {},
   "source": [
    "### env variables"
   ]
  },
  {
   "cell_type": "code",
   "execution_count": 2,
   "id": "6274d869",
   "metadata": {},
   "outputs": [],
   "source": [
    "load_dotenv()\n",
    "\n",
    "BASE_PATH = os.environ['BASE_PATH']\n",
    "RESULTS_PATH = os.environ['RESULTS_PATH']\n",
    "RANKINGS_PATH = os.environ['RANKINGS_PATH']\n",
    "SPECIALITY_RANKINGS_PATH = os.environ['SPECIALITY_RANKINGS_PATH']\n",
    "TEAMS_PATH = os.environ['TEAMS_PATH']\n",
    "CALENDARS_PATH = os.environ['CALENDARS_PATH']\n",
    "STARTLISTS_PATH = os.environ['STARTLISTS_PATH']\n",
    "RACERESULTS_PATH = os.environ['RACERESULTS_PATH']\n",
    "IMG_PATH = os.environ['IMG_PATH']\n",
    "RIDERSTATS_PATH = os.environ['RIDERSTATS_PATH']\n",
    "RACENAMES_PATH = os.environ['RACENAMES_PATH']"
   ]
  },
  {
   "cell_type": "markdown",
   "id": "5c9a1948",
   "metadata": {},
   "source": [
    "### Scraping functions"
   ]
  },
  {
   "cell_type": "code",
   "execution_count": null,
   "id": "f678d1ab",
   "metadata": {},
   "outputs": [],
   "source": [
    "def get_rider_names(n_pages):\n",
    "    \n",
    "    rider_names = []\n",
    "\n",
    "    offsets = np.arange(0, 3001, 100)\n",
    "\n",
    "    for offset in offsets[:n_pages]:\n",
    "\n",
    "        url = f'https://www.procyclingstats.com/rankings.php?date=2022-01-12&nation=&age=&zage=&page=smallerorequal&team=&offset={offset}&continent=&teamlevel=&filter=Filter&p=me&s=uci-individual'\n",
    "        res = requests.get(url)\n",
    "\n",
    "        tables = pd.read_html(res.content, encoding='utf-8')\n",
    "        rider_names.append(tables[0])\n",
    "\n",
    "        time.sleep(0.5)\n",
    "    \n",
    "    return rider_names\n",
    "\n",
    "def normalize_rider_name(rider_name):\n",
    "    \n",
    "    surname = rider_name.split(\" \")[-1].lower()\n",
    "    name = \"-\".join(rider_name.split(\" \")[:-1]).lower()\n",
    "    full_name = surname + '-' + name\n",
    "    \n",
    "    return full_name\n",
    "\n",
    "def clean_pcs_table_results(df_table):\n",
    "    \n",
    "    df_table.drop('Unnamed: 3', axis=1, inplace=True)\n",
    "    df_table.drop('Unnamed: 8', axis=1, inplace=True)\n",
    "    df_table.rename(columns={'Unnamed: 2': 'GC'}, inplace=True)\n",
    "    \n",
    "    return df_table\n",
    "\n",
    "def clean_pcs_table_ranking(df_table):\n",
    "    \n",
    "    df_table.rename(columns={'Unnamed: 0': 'year'}, inplace=True)\n",
    "\n",
    "    return df_table\n",
    "\n",
    "def get_rider_results_rankings(rider_name, years):\n",
    "\n",
    "    pcs_ranking = []\n",
    "    results = []\n",
    "\n",
    "    for year in years:\n",
    "\n",
    "        try:\n",
    "            url = f'https://www.procyclingstats.com/rider/{rider_name}/{year}'\n",
    "            res = requests.get(url)\n",
    "\n",
    "            tables = pd.read_html(res.content, encoding='utf-8')\n",
    "            pcs_ranking.append(clean_pcs_table_ranking(tables[1]))\n",
    "            results.append(clean_pcs_table_results(tables[0]))\n",
    "\n",
    "            time.sleep(0.3)\n",
    "            \n",
    "        except Exception as e:\n",
    "            print(e)\n",
    "\n",
    "    df_results = [(year, x) for year, x in zip(years, results) if not x.empty]\n",
    "    \n",
    "    return df_results, pcs_ranking[0]\n",
    "\n",
    "def init_dirs():\n",
    "\n",
    "    if not os.path.isdir(BASE_PATH):\n",
    "        os.makedirs(BASE_PATH)\n",
    "        \n",
    "    if not os.path.isdir(RESULTS_PATH):\n",
    "        os.makedirs(RESULTS_PATH)\n",
    "        \n",
    "    if not os.path.isdir(RANKINGS_PATH):\n",
    "        os.makedirs(RANKINGS_PATH)\n",
    "        \n",
    "    if not os.path.isdir(TEAMS_PATH):\n",
    "        os.makedirs(TEAMS_PATH)\n",
    "        \n",
    "    if not os.path.isdir(IMG_PATH):\n",
    "        os.makedirs(IMG_PATH)\n",
    "        \n",
    "    if not os.path.isdir(RIDERSTATS_PATH):\n",
    "        os.makedirs(RIDERSTATS_PATH)\n",
    "        \n",
    "    if not os.path.isdir(RACENAMES_PATH):\n",
    "        os.makedirs(RACENAMES_PATH)\n",
    "        \n",
    "    if not os.path.isdir(RACERESULTS_PATH):\n",
    "        os.makedirs(RACERESULTS_PATH)\n",
    "        \n",
    "\n",
    "def save_data(rider_name, results, pcs_ranking):\n",
    "        \n",
    "    # check if rider already has results data\n",
    "    if not os.path.isdir(os.path.join(RESULTS_PATH, rider_name)):\n",
    "        os.mkdir(os.path.join(RESULTS_PATH, rider_name))\n",
    "    \n",
    "    # check if rider already has pcs-ranking data\n",
    "    if not os.path.isdir(os.path.join(RANKINGS_PATH, rider_name)):\n",
    "        os.mkdir(os.path.join(RANKINGS_PATH, rider_name))\n",
    "        \n",
    "    # save season results\n",
    "    #[x[1].to_csv(f'../data/pcs-scraping/results/rider/{rider_name}/{x[0]}.csv', index=False) for x in results]\n",
    "    [x[1].to_csv(os.path.join(RESULTS_PATH, rider_name , f'{x[0]}.csv'), encoding='utf-8', index=False) for x in results]\n",
    "    \n",
    "    # save pcs_ranking\n",
    "    #pcs_ranking.to_csv(f'../data/pcs-scraping/pcs-ranking/rider/{rider_name}/pcs_ranking.csv', index=False)\n",
    "    pcs_ranking.to_csv(os.path.join(RANKINGS_PATH, rider_name, 'pcs_ranking.csv'), encoding='utf-8', index=False)"
   ]
  },
  {
   "cell_type": "markdown",
   "id": "fa518704",
   "metadata": {},
   "source": [
    "# Initialize data directories"
   ]
  },
  {
   "cell_type": "code",
   "execution_count": null,
   "id": "3d1e160e",
   "metadata": {},
   "outputs": [],
   "source": [
    "init_dirs()"
   ]
  },
  {
   "cell_type": "markdown",
   "id": "a20e1390",
   "metadata": {},
   "source": [
    "# Get Rider Names"
   ]
  },
  {
   "cell_type": "code",
   "execution_count": null,
   "id": "c25d7869",
   "metadata": {},
   "outputs": [],
   "source": [
    "rider_names = get_rider_names(n_pages=31)"
   ]
  },
  {
   "cell_type": "code",
   "execution_count": null,
   "id": "b48b420c",
   "metadata": {},
   "outputs": [],
   "source": [
    "riders = []\n",
    "[riders.extend(x['Rider']) for x in rider_names]\n",
    "\n",
    "rider_names = [normalize_rider_name(x) for x in riders]"
   ]
  },
  {
   "cell_type": "code",
   "execution_count": null,
   "id": "feac8d52",
   "metadata": {},
   "outputs": [],
   "source": [
    "with open(os.path.join(BASE_PATH, 'rider_names.csv'), 'w') as f:\n",
    "    wr = csv.writer(f, quoting=csv.QUOTE_ALL)\n",
    "    wr.writerow(rider_names)"
   ]
  },
  {
   "cell_type": "code",
   "execution_count": null,
   "id": "cdfb91b2",
   "metadata": {},
   "outputs": [],
   "source": [
    "rider_names = list(pd.read_csv(os.path.join(BASE_PATH, 'rider_names.csv')))"
   ]
  },
  {
   "cell_type": "markdown",
   "id": "c3208d32",
   "metadata": {},
   "source": [
    "# Get Race Results and Rankings"
   ]
  },
  {
   "cell_type": "markdown",
   "id": "67c6cce3",
   "metadata": {},
   "source": [
    "- NEED TO SCRAP ALL POSSIBLE YEARS (BEFORE 2011) !!!"
   ]
  },
  {
   "cell_type": "markdown",
   "id": "fcbb9ec4",
   "metadata": {},
   "source": [
    "- RIDER NAMES IN URL NOT CORRECT FOR FAILURES"
   ]
  },
  {
   "cell_type": "code",
   "execution_count": null,
   "id": "635452da",
   "metadata": {},
   "outputs": [],
   "source": [
    "years = np.arange(2000, 2023)\n",
    "\n",
    "for rider_name in tqdm.tqdm(rider_names[:200]):\n",
    "\n",
    "    try:\n",
    "        results, pcs_ranking = get_rider_results_rankings(rider_name, years)\n",
    "        save_data(rider_name, results, pcs_ranking)\n",
    "    except:\n",
    "        print(rider_name)\n",
    "        pass"
   ]
  },
  {
   "cell_type": "code",
   "execution_count": null,
   "id": "f9657959",
   "metadata": {},
   "outputs": [],
   "source": [
    "rider_names_corrected_1 = ['jonas-vingegaard-rasmussen', 'mikkel-honore', 'aleksey-lutsenko', 'ben-o-connor',\n",
    "                         'michael-valgren-andersen', 'biniam-girmay', 'miguel-angel-lopez', 'johan-esteban-chaves',\n",
    "                         'michal-kwiatkowski', 'jesus-herrada-lopez', 'odd-christian-eiking', 'magnus-cort-nielsen',\n",
    "                         'daniel-felipe-martinez', 'luis-leon-sanchez', 'tobias-halland-johannessen', 'jose-manuel-diaz-gallego',\n",
    "                         'juan-ayuso-pesquera']\n",
    "rider_names_corrected_2 = []\n",
    "\n",
    "years = np.arange(2000, 2023)\n",
    "\n",
    "for rider_name in tqdm.tqdm(rider_names_corrected_1):\n",
    "\n",
    "    try:\n",
    "        results, pcs_ranking = get_rider_results_rankings(rider_name, years)\n",
    "        save_data(rider_name, results, pcs_ranking)\n",
    "    except:\n",
    "        print(rider_name)\n",
    "        pass"
   ]
  },
  {
   "cell_type": "markdown",
   "id": "a80ec25e",
   "metadata": {},
   "source": [
    "# Get Teams"
   ]
  },
  {
   "cell_type": "code",
   "execution_count": null,
   "id": "1ccd2f45",
   "metadata": {},
   "outputs": [],
   "source": [
    "def get_rider_teams(rider_name):\n",
    "    \n",
    "    time.sleep(0.3)\n",
    "    \n",
    "    url = f'https://www.procyclingstats.com/rider/{rider_name}'\n",
    "    res = requests.get(url)\n",
    "    \n",
    "    soup = BeautifulSoup(res.content)\n",
    "    \n",
    "    possible_classes = ['list rdr-teams moblist moblist', 'list rdr-teams moblist', 'list rdr-teams moblist moblist ']\n",
    "    ul = list(filter(None, [soup.find('ul', {'class': class_}) for class_ in possible_classes]))\n",
    "    \n",
    "    if ul:\n",
    "        \n",
    "        season = [x.find('div', {'class': 'season'}).text for x in ul[0].find_all('li')]\n",
    "        team = [x.find('div', {'class': 'name'}).text for x in ul[0].find_all('li')]\n",
    "        teams = pd.DataFrame({'season': season, 'team': team})\n",
    "        \n",
    "        return teams\n",
    "\n",
    "    else:\n",
    "        \n",
    "        print(rider_name, 'No Teams scraped')\n",
    "\n",
    "def save_data(rider_name, teams):\n",
    "        \n",
    "    # check if rider already has teams data\n",
    "    if not os.path.isdir(os.path.join(TEAMS_PATH, rider_name)):\n",
    "        os.mkdir(os.path.join(TEAMS_PATH, rider_name))\n",
    "        \n",
    "    # save teams data\n",
    "    teams.to_csv(os.path.join(TEAMS_PATH, rider_name, 'teams.csv'), index=False, encoding='utf-8')"
   ]
  },
  {
   "cell_type": "code",
   "execution_count": null,
   "id": "902b4393",
   "metadata": {},
   "outputs": [],
   "source": [
    "rider_names = list(pd.read_csv(os.path.join(BASE_PATH, 'rider_names.csv')))"
   ]
  },
  {
   "cell_type": "code",
   "execution_count": null,
   "id": "469363d0",
   "metadata": {},
   "outputs": [],
   "source": [
    "for rider_name in tqdm.tqdm(rider_names[:200]):\n",
    "    \n",
    "    try:\n",
    "        teams = get_rider_teams(rider_name)\n",
    "        save_data(rider_name, teams)\n",
    "    except:\n",
    "        print(rider_name)"
   ]
  },
  {
   "cell_type": "code",
   "execution_count": null,
   "id": "3e6ec0e2",
   "metadata": {},
   "outputs": [],
   "source": [
    "for rider_name in tqdm.tqdm(rider_names_corrected_1):\n",
    "    \n",
    "    try:\n",
    "        teams = get_rider_teams(rider_name)\n",
    "        save_data(rider_name, teams)\n",
    "    except:\n",
    "        print(rider_name)"
   ]
  },
  {
   "cell_type": "markdown",
   "id": "0883bcbd",
   "metadata": {},
   "source": [
    "# Get race calendar"
   ]
  },
  {
   "cell_type": "code",
   "execution_count": null,
   "id": "a70b9910",
   "metadata": {},
   "outputs": [],
   "source": [
    "def get_race_calendar(years):\n",
    "\n",
    "    calendar = []\n",
    "\n",
    "    for year in years:\n",
    "\n",
    "        try:\n",
    "            url = f'https://www.procyclingstats.com/races.php?year={year}&circuit=&class=&filter=Filter'\n",
    "            res = requests.get(url)\n",
    "\n",
    "            tables = pd.read_html(res.content, encoding='utf-8')\n",
    "            calendar.append(tables[0].dropna())\n",
    "\n",
    "            time.sleep(0.5)\n",
    "            \n",
    "        except Exception as e:\n",
    "            print(e)\n",
    "\n",
    "    df_calendar = [(year, cal) for year, cal in zip(years, calendar) if not cal.empty]\n",
    "    \n",
    "    return df_calendar\n",
    "\n",
    "def save_data(calendar):\n",
    "        \n",
    "    if not os.path.isdir(CALENDARS_PATH):\n",
    "        os.mkdir(CALENDARS_PATH)\n",
    "        \n",
    "    # save calendar data\n",
    "    calendar[1].to_csv(os.path.join(CALENDARS_PATH, f'{calendar[0]}.csv'), index=False, encoding='utf-8')"
   ]
  },
  {
   "cell_type": "code",
   "execution_count": null,
   "id": "467c144d",
   "metadata": {},
   "outputs": [],
   "source": [
    "years = np.arange(2000, 2023)\n",
    "calendar = get_race_calendar(years)\n",
    "[save_data(cal) for cal in calendar]"
   ]
  },
  {
   "cell_type": "code",
   "execution_count": null,
   "id": "9bd827bb",
   "metadata": {},
   "outputs": [],
   "source": [
    "year = '2021'\n",
    "calendar = pd.read_csv(os.path.join(CALENDARS_PATH, f'{year}.csv'))"
   ]
  },
  {
   "cell_type": "markdown",
   "id": "7e45209b",
   "metadata": {},
   "source": [
    "# Get Racename urls"
   ]
  },
  {
   "cell_type": "code",
   "execution_count": 56,
   "id": "61329e52",
   "metadata": {},
   "outputs": [],
   "source": [
    "def get_racename_urls(year, circuit, save=False):\n",
    "    \n",
    "    circuits = {'uci_wt': 1,\n",
    "            'uci_world_championships': 2,\n",
    "            'men_junior': 15,\n",
    "            'women_elite': 16,\n",
    "            'women_junior': 17,\n",
    "            'woment_wt': 24,\n",
    "            'europe_tour': 13,\n",
    "            'africa_tour': 11,\n",
    "            'asia_tour': 12,\n",
    "            'oceania_tour': 14,\n",
    "            'america_tour': 18,\n",
    "            'uci_pro_series': 26,\n",
    "            'olympic_games': 3,\n",
    "            'nations_cup': 21}\n",
    "\n",
    "    url = f'https://www.procyclingstats.com/races.php?year={year}&circuit={circuits[circuit]}&class=&filter=Filter'\n",
    "    res = requests.get(url)\n",
    "    \n",
    "    table = pd.read_html(res.content, encoding='utf-8')[0]\n",
    "\n",
    "    soup = BeautifulSoup(res.content)\n",
    "    \n",
    "    racename_urls = soup.find_all('a', href=re.compile('race/.*'))\n",
    "    \n",
    "    racename_urls_keep = []\n",
    "    mappings_racename = []\n",
    "    for race_name in racename_urls:\n",
    "        if race_name.text in list(table.Race):\n",
    "            racename_urls_keep.append(race_name['href'].split('/')[1])\n",
    "            mappings_racename.append(table[table.Race == race_name.text].Race.values[0])\n",
    "\n",
    "    df_mappings = pd.DataFrame({'RaceName': mappings_racename,\n",
    "                                'RaceURL': racename_urls_keep})\n",
    "\n",
    "    racename_urls_keep = list(set(racename_urls_keep))\n",
    "    \n",
    "    if save:\n",
    "        \n",
    "        if not os.path.isdir(os.path.join(RACENAMES_PATH, str(year), str(circuit))):\n",
    "            os.makedirs(os.path.join(RACENAMES_PATH, str(year), str(circuit)))\n",
    "        \n",
    "        with open(os.path.join(RACENAMES_PATH, str(year), str(circuit), 'racename_urls.csv'), 'w') as f:\n",
    "            wr = csv.writer(f, quoting=csv.QUOTE_ALL)\n",
    "            wr.writerow(racename_urls_keep)\n",
    "            \n",
    "        df_mappings.to_csv(os.path.join(RACENAMES_PATH, str(year), str(circuit), 'racename_mappings.csv'), encoding='utf-8', index=False)\n",
    "    \n",
    "    return racename_urls\n",
    "    \n",
    "def get_race_results(race_url, year):\n",
    "    \n",
    "    url = f'https://www.procyclingstats.com/race/{race_url}/{year}'\n",
    "    res = requests.get(url)\n",
    "\n",
    "    tables = pd.read_html(res.content, encoding='utf-8')\n",
    "    \n",
    "    # ALSO NEED individual stages, kom, points, youth, teams final + stage results\n",
    "    \n",
    "    try:\n",
    "        last_stage = tables[0]\n",
    "        gc = tables[1]\n",
    "        points = tables[2]\n",
    "        kom = tables[3]\n",
    "        youth = tables[4]\n",
    "        teams = tables[5]\n",
    "        \n",
    "        return last_stage, gc, points, kom, youth, teams\n",
    "    except Exception as e:\n",
    "        last_stage = tables[0]\n",
    "\n",
    "        return last_stage\n",
    "\n",
    "def get_startlist(PATH, circuit, race_url, year, save=False):\n",
    "    \n",
    "    try:\n",
    "        url = f'https://www.procyclingstats.com/race/{race_url}/{year}/gc/startlist/alphabetical-with-filters'\n",
    "        res = requests.get(url)\n",
    "        startlist = pd.read_html(res.content, encoding='utf-8')[0].drop(['Unnamed: 3'], axis=1)\n",
    "        \n",
    "    except Exception as e:\n",
    "        url = f'https://www.procyclingstats.com/race/{race_url}/{year}/result/startlist/alphabetical-with-filters'\n",
    "        res = requests.get(url)\n",
    "        startlist = pd.read_html(res.content, encoding='utf-8')[0].drop(['Unnamed: 3'], axis=1)\n",
    "    \n",
    "    if save:\n",
    "        \n",
    "        if not os.path.isdir(os.path.join(PATH, circuit, race_url, year)):\n",
    "            os.makedirs(os.path.join(PATH, circuit, race_url, year))\n",
    "        \n",
    "        startlist.to_csv(os.path.join(PATH, circuit, race_url, year, 'startlist.csv'), index=False, encoding='utf-8')\n",
    "        \n",
    "    return startlist"
   ]
  },
  {
   "cell_type": "markdown",
   "id": "4bbb8838",
   "metadata": {},
   "source": [
    "### Get racename urls"
   ]
  },
  {
   "cell_type": "code",
   "execution_count": 57,
   "id": "bce21a09",
   "metadata": {},
   "outputs": [],
   "source": [
    "circuits = {'uci_wt': 1,\n",
    "            'uci_world_championships': 2,\n",
    "            'men_junior': 15,\n",
    "            'women_elite': 16,\n",
    "            'women_junior': 17,\n",
    "            'woment_wt': 24,\n",
    "            'europe_tour': 13,\n",
    "            'africa_tour': 11,\n",
    "            'asia_tour': 12,\n",
    "            'oceania_tour': 14,\n",
    "            'america_tour': 18,\n",
    "            'uci_pro_series': 26,\n",
    "            'olympic_games': 3,\n",
    "            'nations_cup': 21}"
   ]
  },
  {
   "cell_type": "code",
   "execution_count": 59,
   "id": "b9089b5c",
   "metadata": {},
   "outputs": [],
   "source": [
    "years = np.arange(2000, 2023)\n",
    "\n",
    "for circuit in circuits.keys():\n",
    "    for year in years:\n",
    "        racename_url = get_racename_urls(year, circuit, save=True)"
   ]
  },
  {
   "cell_type": "markdown",
   "id": "03de6d08",
   "metadata": {},
   "source": [
    "### Get startlist of all races in year and given circuit"
   ]
  },
  {
   "cell_type": "code",
   "execution_count": null,
   "id": "3b854d00",
   "metadata": {},
   "outputs": [],
   "source": [
    "year = '2022'\n",
    "circuit = 'men_junior'\n",
    "racename_urls = list(pd.read_csv(os.path.join(RACENAMES_PATH, year, circuit, 'racename_urls.csv')))"
   ]
  },
  {
   "cell_type": "code",
   "execution_count": null,
   "id": "bea99bbc",
   "metadata": {},
   "outputs": [],
   "source": [
    "for circuit in tqdm.tqdm(circuits.keys()):\n",
    "\n",
    "    try:\n",
    "        racename_urls = list(pd.read_csv(os.path.join(RACENAMES_PATH, year, circuit, 'racename_urls.csv')))\n",
    "    \n",
    "        for race_url in tqdm.tqdm(racename_urls):\n",
    "\n",
    "            time.sleep(0.2)\n",
    "            try:\n",
    "                startlist = get_startlist(STARTLISTS_PATH, circuit, race_url, year, save=True)\n",
    "            except:\n",
    "                print(race_url)\n",
    "                \n",
    "    except Exception as e:\n",
    "        print(circuit, race_url, e)"
   ]
  },
  {
   "cell_type": "markdown",
   "id": "6ab966ef",
   "metadata": {},
   "source": [
    "### Get GC race results of all races in year and given circuit"
   ]
  },
  {
   "cell_type": "code",
   "execution_count": null,
   "id": "f1c95ef0",
   "metadata": {},
   "outputs": [],
   "source": [
    "def save_data(results, PATH, circuit, race_url, year):\n",
    "        \n",
    "    if not os.path.isdir(os.path.join(PATH, circuit, race_url, year)):\n",
    "        os.makedirs(os.path.join(PATH, circuit, race_url, year))\n",
    "        \n",
    "    # save data\n",
    "    if isinstance(results, pd.DataFrame):\n",
    "        results.to_csv(os.path.join(PATH, circuit, race_url, year, 'race_results.csv'), index=False, encoding='utf-8')\n",
    "    else:\n",
    "        [res.to_csv(os.path.join(PATH, circuit, race_url, year, f'{name}.csv'), index=False, encoding='utf-8') for res, name in zip(results, ['last_stage', 'gc', 'points', 'kom', 'youth', 'team'])]\n"
   ]
  },
  {
   "cell_type": "code",
   "execution_count": null,
   "id": "0f6df096",
   "metadata": {},
   "outputs": [],
   "source": [
    "year = '2022'\n",
    "\n",
    "for circuit in tqdm.tqdm(circuits.keys()):\n",
    "    \n",
    "    try:\n",
    "        racename_urls = list(pd.read_csv(os.path.join(RACENAMES_PATH, year, circuit, 'racename_urls.csv')))\n",
    "\n",
    "        for race_url in tqdm.tqdm(racename_urls):\n",
    "\n",
    "            time.sleep(0.2)\n",
    "            try:\n",
    "                results = get_race_results(race_url, year)\n",
    "                save_data(results, RACERESULTS_PATH, circuit, race_url, year)\n",
    "            except:\n",
    "                print(race_url)\n",
    "                \n",
    "    except Exception as e:\n",
    "        print(circuit, race_url, e)"
   ]
  },
  {
   "cell_type": "markdown",
   "id": "a31cc2ef",
   "metadata": {},
   "source": [
    "### Get all stage results of a given race and year"
   ]
  },
  {
   "cell_type": "code",
   "execution_count": 15,
   "id": "6b3e7f7a",
   "metadata": {},
   "outputs": [],
   "source": [
    "def getStageResults(circuit, race_url, year, save=False):\n",
    "    \n",
    "    # get number of stages in race\n",
    "    try:\n",
    "        url = f'https://www.procyclingstats.com/race/{race_url}/{year}/gc/stages/winners'\n",
    "        res = requests.get(url)\n",
    "        tables = pd.read_html(res.content, encoding='utf-8')\n",
    "        n_stages = len(tables[0])\n",
    "    except ValueError:\n",
    "        return None\n",
    "        \n",
    "    # get individual stage results\n",
    "    stage_result = []\n",
    "    for n in range(1, n_stages+1):\n",
    "    \n",
    "        url = f'https://www.procyclingstats.com/race/{race_url}/{year}/stage-{n}'\n",
    "        res = requests.get(url)\n",
    "        tables = pd.read_html(res.content, encoding='utf-8')\n",
    "        stage_result.append(tables[0])\n",
    "        time.sleep(0.1)\n",
    "        \n",
    "    if save:\n",
    "        [res.to_csv(os.path.join(RACERESULTS_PATH, circuit, race_url, year, f'stage_{stage}.csv'), index=False, encoding='utf-8') for res, stage in zip(stage_result, range(1, n_stages+1))]\n",
    "        \n",
    "    return stage_result"
   ]
  },
  {
   "cell_type": "code",
   "execution_count": null,
   "id": "0c17aabf",
   "metadata": {},
   "outputs": [],
   "source": [
    "circuit = 'uci_wt'\n",
    "year = '2022'\n",
    "race_url = 'paris-nice'"
   ]
  },
  {
   "cell_type": "code",
   "execution_count": null,
   "id": "9b0e0ecd",
   "metadata": {},
   "outputs": [],
   "source": [
    "stages = getStageResults(circuit, race_url, year, save=True)"
   ]
  },
  {
   "cell_type": "code",
   "execution_count": null,
   "id": "99327812",
   "metadata": {},
   "outputs": [],
   "source": [
    "year = '2022'\n",
    "\n",
    "for circuit in tqdm.tqdm(circuits.keys()):\n",
    "    \n",
    "    try:\n",
    "        racename_urls = list(pd.read_csv(os.path.join(RACENAMES_PATH, year, circuit, 'racename_urls.csv')))\n",
    "\n",
    "        for race_url in tqdm.tqdm(racename_urls):\n",
    "\n",
    "            time.sleep(0.2)\n",
    "            try:\n",
    "                stages = getStageResults(circuit, race_url, year, save=True)\n",
    "            except:\n",
    "                print(race_url)\n",
    "                \n",
    "    except Exception as e:\n",
    "        print(circuit, race_url, e)"
   ]
  },
  {
   "cell_type": "markdown",
   "id": "3ae30e0e",
   "metadata": {},
   "source": [
    "# Get rider images"
   ]
  },
  {
   "cell_type": "code",
   "execution_count": null,
   "id": "16e5a973",
   "metadata": {},
   "outputs": [],
   "source": [
    "def get_rider_img(rider_name):\n",
    "    \n",
    "    # check if rider already has img data\n",
    "    if not os.path.isdir(os.path.join(IMG_PATH, rider_name)):\n",
    "        os.mkdir(os.path.join(IMG_PATH, rider_name))\n",
    "        \n",
    "    try:\n",
    "        url = f'https://www.procyclingstats.com/rider/{rider_name}'\n",
    "        res = requests.get(url)\n",
    "\n",
    "        soup = BeautifulSoup(res.content)\n",
    "        img_path = soup.find_all('img', {'src': re.compile(r'images.*\\.jpeg')})\n",
    "\n",
    "        url = os.path.join('https://www.procyclingstats.com', img_path[0]['src'])\n",
    "        res = requests.get(url)\n",
    "        \n",
    "        with open(os.path.join(IMG_PATH, rider_name, f'{rider_name}-img.jpeg'), 'wb') as file:\n",
    "            file.write(res.content)\n",
    "            \n",
    "        time.sleep(0.1)\n",
    "    \n",
    "    except Exception as e:\n",
    "        print(rider_name, '---', e)"
   ]
  },
  {
   "cell_type": "code",
   "execution_count": null,
   "id": "aab73c12",
   "metadata": {},
   "outputs": [],
   "source": [
    "for rider_name in rider_names[:200]:\n",
    "    get_rider_img(rider_name)"
   ]
  },
  {
   "cell_type": "code",
   "execution_count": null,
   "id": "242691a2",
   "metadata": {},
   "outputs": [],
   "source": [
    "rider_names_corrected_1 = ['jonas-vingegaard-rasmussen', 'mikkel-honore', 'aleksey-lutsenko', 'ben-o-connor',\n",
    "                         'michael-valgren-andersen', 'biniam-girmay', 'miguel-angel-lopez', 'johan-esteban-chaves',\n",
    "                         'michal-kwiatkowski', 'jesus-herrada-lopez', 'odd-christian-eiking', 'magnus-cort-nielsen',\n",
    "                         'daniel-felipe-martinez', 'luis-leon-sanchez', 'tobias-halland-johannessen', 'jose-manuel-diaz-gallego',\n",
    "                         'juan-ayuso-pesquera']\n",
    "\n",
    "for rider_name in rider_names_corrected_1:\n",
    "    get_rider_img(rider_name)"
   ]
  },
  {
   "cell_type": "markdown",
   "id": "712b920f",
   "metadata": {},
   "source": [
    "### Get rider performance stats"
   ]
  },
  {
   "cell_type": "code",
   "execution_count": null,
   "id": "562267a1",
   "metadata": {},
   "outputs": [],
   "source": [
    "def get_rider_stats(race, year):\n",
    "        \n",
    "    # check if race already has stats data\n",
    "    if not os.path.isdir(os.path.join(STARTLISTS_PATH, race, year)):\n",
    "        os.makedirs(os.path.join(STARTLISTS_PATH, race, year))\n",
    "\n",
    "    try:\n",
    "        url = f'https://www.procyclingstats.com/race/{race}/{year}/result/startlist/kpis'\n",
    "        res = requests.get(url)\n",
    "\n",
    "        stats = pd.read_html(res.content, encoding='utf-8')[0]\n",
    "        date = str(datetime.datetime.now()).split(' ')[0]\n",
    "        \n",
    "        stats.to_csv(os.path.join(STARTLISTS_PATH, race, year, 'stats-kpis.csv'), index=False, encoding='utf-8')\n",
    "\n",
    "        for row in stats.iterrows():\n",
    "            \n",
    "            rider_name = '-'.join(reversed(row[1].Rider.split(' '))).lower()\n",
    "            \n",
    "            # check if rider already has stats data\n",
    "            if not os.path.isdir(os.path.join(RIDERSTATS_PATH, rider_name)):\n",
    "                os.mkdir(os.path.join(RIDERSTATS_PATH, rider_name))\n",
    "                \n",
    "            pd.DataFrame(row[1]).T.to_csv(os.path.join(RIDERSTATS_PATH, rider_name, f'stats-kpis-{date}.csv'), index=False, encoding='utf-8')\n",
    "            \n",
    "        \n",
    "    except Exception as e:\n",
    "        print(race, '---', e)\n",
    "    \n",
    "    "
   ]
  },
  {
   "cell_type": "code",
   "execution_count": null,
   "id": "26002398",
   "metadata": {},
   "outputs": [],
   "source": [
    "year = '2022'\n",
    "race = 'milano-sanremo'\n",
    "\n",
    "rider_stats = get_rider_stats(race, year)"
   ]
  },
  {
   "cell_type": "code",
   "execution_count": null,
   "id": "6d6b8496",
   "metadata": {},
   "outputs": [],
   "source": []
  },
  {
   "cell_type": "code",
   "execution_count": null,
   "id": "6a841fba",
   "metadata": {},
   "outputs": [],
   "source": []
  },
  {
   "cell_type": "code",
   "execution_count": null,
   "id": "5dbf57b8",
   "metadata": {},
   "outputs": [],
   "source": []
  },
  {
   "cell_type": "code",
   "execution_count": null,
   "id": "452cc92c",
   "metadata": {},
   "outputs": [],
   "source": []
  },
  {
   "cell_type": "markdown",
   "id": "57729d46",
   "metadata": {},
   "source": [
    "# Get Rankings by speciality"
   ]
  },
  {
   "cell_type": "code",
   "execution_count": 3,
   "id": "e5b00af6",
   "metadata": {},
   "outputs": [],
   "source": [
    "def get_itt_rankings(date):\n",
    "\n",
    "    url = f'https://www.procyclingstats.com/rankings.php?date={date}&nation=&age=&zage=&page=smallerorequal&team=&offset=0&filter=Filter&p=me&s=time-trial'\n",
    "    res = requests.get(url)\n",
    "    \n",
    "    table = pd.read_html(res.content, encoding='utf-8')[0]\n",
    "    \n",
    "    return table"
   ]
  },
  {
   "cell_type": "code",
   "execution_count": 12,
   "id": "43ef121f",
   "metadata": {},
   "outputs": [],
   "source": [
    "year = '2022'\n",
    "date = datetime.datetime.now().strftime('%Y-%m-%d')\n",
    "\n",
    "itt_rankings = get_itt_rankings(date)"
   ]
  },
  {
   "cell_type": "code",
   "execution_count": 13,
   "id": "b780125d",
   "metadata": {},
   "outputs": [],
   "source": [
    "if not os.path.isdir(os.path.join(SPECIALITY_RANKINGS_PATH, 'ITT', year, date)):\n",
    "    os.makedirs(os.path.join(SPECIALITY_RANKINGS_PATH, 'ITT', year, date))"
   ]
  },
  {
   "cell_type": "code",
   "execution_count": 14,
   "id": "338b647f",
   "metadata": {},
   "outputs": [],
   "source": [
    "itt_rankings.to_csv(os.path.join(SPECIALITY_RANKINGS_PATH, 'ITT', year, date, 'itt.csv'), encoding='utf-8')"
   ]
  },
  {
   "cell_type": "code",
   "execution_count": null,
   "id": "442f2c22",
   "metadata": {},
   "outputs": [],
   "source": []
  },
  {
   "cell_type": "code",
   "execution_count": null,
   "id": "37ee1cae",
   "metadata": {},
   "outputs": [],
   "source": []
  }
 ],
 "metadata": {
  "kernelspec": {
   "display_name": "Python 3 (ipykernel)",
   "language": "python",
   "name": "python3"
  },
  "language_info": {
   "codemirror_mode": {
    "name": "ipython",
    "version": 3
   },
   "file_extension": ".py",
   "mimetype": "text/x-python",
   "name": "python",
   "nbconvert_exporter": "python",
   "pygments_lexer": "ipython3",
   "version": "3.9.7"
  }
 },
 "nbformat": 4,
 "nbformat_minor": 5
}
