{
 "cells": [
  {
   "cell_type": "code",
   "execution_count": 1,
   "id": "d2e13600",
   "metadata": {},
   "outputs": [],
   "source": [
    "import pandas as pd\n",
    "import numpy as np\n",
    "import os\n",
    "from datetime import datetime\n",
    "import math\n",
    "import csv\n",
    "import re\n",
    "\n",
    "from dotenv import load_dotenv"
   ]
  },
  {
   "cell_type": "markdown",
   "id": "3e66dd01",
   "metadata": {},
   "source": [
    "### env variables"
   ]
  },
  {
   "cell_type": "code",
   "execution_count": 2,
   "id": "d26382b1",
   "metadata": {},
   "outputs": [],
   "source": [
    "load_dotenv()\n",
    "\n",
    "BASE_PATH = os.environ['BASE_PATH']\n",
    "RESULTS_PATH = os.environ['RESULTS_PATH']\n",
    "RANKINGS_PATH = os.environ['RANKINGS_PATH']\n",
    "TEAMS_PATH = os.environ['TEAMS_PATH']\n",
    "CALENDARS_PATH = os.environ['CALENDARS_PATH']\n",
    "STARTLISTS_PATH = os.environ['STARTLISTS_PATH']\n",
    "RACERESULTS_PATH = os.environ['RACERESULTS_PATH']\n",
    "IMG_PATH = os.environ['IMG_PATH']\n",
    "RIDERSTATS_PATH = os.environ['RIDERSTATS_PATH']"
   ]
  },
  {
   "cell_type": "markdown",
   "id": "e67e7a68",
   "metadata": {},
   "source": [
    "# Load data"
   ]
  },
  {
   "cell_type": "code",
   "execution_count": 11,
   "id": "3f51967d",
   "metadata": {},
   "outputs": [],
   "source": [
    "rider_names = list(pd.read_csv(os.path.join(BASE_PATH, 'rider_names.csv')))"
   ]
  },
  {
   "cell_type": "markdown",
   "id": "18a31803",
   "metadata": {},
   "source": [
    "# Data prep functions"
   ]
  },
  {
   "cell_type": "code",
   "execution_count": 4,
   "id": "01e6a455",
   "metadata": {},
   "outputs": [],
   "source": [
    "def convert_to_datetime(date, year):\n",
    "    \n",
    "    if date == 0:\n",
    "        pass\n",
    "    \n",
    "    elif isinstance(date, datetime):\n",
    "        return date\n",
    "    \n",
    "    elif len(date) == 5:\n",
    "        \n",
    "        try:\n",
    "            return datetime.strptime(date, '%d.%m').replace(year=int(year))\n",
    "        except ValueError as e:\n",
    "            return datetime.strptime(date.replace('29', '28'), '%d.%m').replace(year=int(year))\n",
    "    \n",
    "    elif len(date) == 13:\n",
    "        \n",
    "        dates = date.split('»')\n",
    "        return [convert_to_datetime(d.strip(), year) for d in dates]"
   ]
  },
  {
   "cell_type": "code",
   "execution_count": 5,
   "id": "8e53205e",
   "metadata": {},
   "outputs": [],
   "source": [
    "def getStageRaceName(df):\n",
    "    \n",
    "    from_dates = df[df.Race.str.contains('Stage 1 |Prologue')].FromDate\n",
    "    \n",
    "    for from_date in from_dates:\n",
    "        \n",
    "        end_date = df[df.FromDate == from_date].iloc[0].ToDate\n",
    "        #start_date = df[df.Race.str.contains('Stage 1 -')].FromDate.iloc[0]\n",
    "        mask = (df.FromDate >= from_date) & (df.FromDate <= end_date)\n",
    "        idx = df.loc[mask].index[[0, -1]]\n",
    "\n",
    "        df.loc[range(idx[0], idx[1]+1), 'RaceName'] = df.loc[idx[0]].Race\n",
    "        \n",
    "    return df"
   ]
  },
  {
   "cell_type": "code",
   "execution_count": 6,
   "id": "32ff6c0d",
   "metadata": {},
   "outputs": [],
   "source": [
    "def getClassificationDate(df):\n",
    "    \n",
    "    for race in df[df.Race.str.contains('classification')].iterrows():\n",
    "\n",
    "        df.loc[race[1].name, 'FromDate'] = df[df.Race == race[1].RaceName].ToDate.values[0]\n",
    "        df.loc[race[1].name, 'ToDate'] = df[df.Race == race[1].RaceName].ToDate.values[0]\n",
    "        \n",
    "    return df"
   ]
  },
  {
   "cell_type": "code",
   "execution_count": 7,
   "id": "049ffbef",
   "metadata": {},
   "outputs": [],
   "source": [
    "def getGCResult(df):\n",
    "    \n",
    "    for result in df[df.Result.isna()].iterrows():\n",
    "    \n",
    "        try:\n",
    "            gc_result = df.loc[(df.Race == 'General classification') & (df.RaceName == result[1].RaceName)].Result.values[0]\n",
    "            df.loc[result[1].name, 'Result'] = gc_result\n",
    "        except Exception as e:\n",
    "            pass\n",
    "\n",
    "        \n",
    "    return df"
   ]
  },
  {
   "cell_type": "code",
   "execution_count": 48,
   "id": "c418448c",
   "metadata": {},
   "outputs": [],
   "source": [
    "def clean_data(df, rider_name, year, save=False):\n",
    "    \n",
    "    # define Type col\n",
    "    df['Type'] = 'OneDayRace'\n",
    "    idx = df.Date.str.contains('»').fillna(False)\n",
    "    df.loc[idx, 'Type'] = 'StageRace'\n",
    "    idx = df.Race.str.contains('Stage|Prologue|classification')\n",
    "    df.loc[idx, 'Type'] = 'StageRace'\n",
    "\n",
    "    # normalize date\n",
    "    #df.dropna(subset=['Date'], inplace=True)\n",
    "    #df = df[~df.Date.str.contains('»')]\n",
    "    df.Date.fillna(0, inplace=True)\n",
    "    df.Date = [convert_to_datetime(date, year) for date in df.Date]\n",
    "\n",
    "    df.rename(columns={'Date': 'FromDate'}, inplace=True)\n",
    "    df['ToDate'] = df.FromDate\n",
    "    df['ToDate'] = [x[1] if isinstance(x, list) else x for x in df.ToDate]\n",
    "    df['FromDate'] = [x[0] if isinstance(x, list) else x for x in df.FromDate]\n",
    "\n",
    "    # define RaceName col\n",
    "    idx = (df.Type == 'OneDayRace')\n",
    "    df.loc[idx, 'RaceName'] = df.Race[idx]\n",
    "    df = getStageRaceName(df)\n",
    "\n",
    "    # get date for final classifications\n",
    "    df = getClassificationDate(df)\n",
    "\n",
    "    # result to int\n",
    "    idx = df.Result.isna()\n",
    "    df.loc[idx, 'Result'] = 0\n",
    "    df = getGCResult(df)\n",
    "    df.Result = [int(x) if x not in ['DNF', 'DNS', 'DSQ'] else x for x in df.Result]\n",
    "    #df = df[df.Result != 0]\n",
    "    \n",
    "    if save:\n",
    "        df.to_csv(os.path.join(RESULTS_PATH, rider_name, f'{year}_clean.csv',), index=False, encoding='utf-8')\n",
    "    \n",
    "    return df"
   ]
  },
  {
   "cell_type": "markdown",
   "id": "220169ce",
   "metadata": {},
   "source": [
    "# Clean all data"
   ]
  },
  {
   "cell_type": "code",
   "execution_count": 50,
   "id": "335342a7",
   "metadata": {},
   "outputs": [
    {
     "ename": "IndexError",
     "evalue": "index 0 is out of bounds for axis 0 with size 0",
     "output_type": "error",
     "traceback": [
      "\u001b[0;31m---------------------------------------------------------------------------\u001b[0m",
      "\u001b[0;31mIndexError\u001b[0m                                Traceback (most recent call last)",
      "\u001b[0;32m/var/folders/7_/85hx44gd4sb_6w_n8wqmfj3c0000gn/T/ipykernel_33170/1631166066.py\u001b[0m in \u001b[0;36m<module>\u001b[0;34m\u001b[0m\n\u001b[1;32m      4\u001b[0m     \u001b[0;32mfor\u001b[0m \u001b[0myear\u001b[0m \u001b[0;32min\u001b[0m \u001b[0myears\u001b[0m\u001b[0;34m:\u001b[0m\u001b[0;34m\u001b[0m\u001b[0;34m\u001b[0m\u001b[0m\n\u001b[1;32m      5\u001b[0m         \u001b[0mdf\u001b[0m \u001b[0;34m=\u001b[0m \u001b[0mpd\u001b[0m\u001b[0;34m.\u001b[0m\u001b[0mread_csv\u001b[0m\u001b[0;34m(\u001b[0m\u001b[0mos\u001b[0m\u001b[0;34m.\u001b[0m\u001b[0mpath\u001b[0m\u001b[0;34m.\u001b[0m\u001b[0mjoin\u001b[0m\u001b[0;34m(\u001b[0m\u001b[0mRESULTS_PATH\u001b[0m\u001b[0;34m,\u001b[0m \u001b[0mrider_name\u001b[0m\u001b[0;34m,\u001b[0m \u001b[0;34mf'{year}.csv'\u001b[0m\u001b[0;34m)\u001b[0m\u001b[0;34m)\u001b[0m\u001b[0;34m\u001b[0m\u001b[0;34m\u001b[0m\u001b[0m\n\u001b[0;32m----> 6\u001b[0;31m         \u001b[0mclean_data\u001b[0m\u001b[0;34m(\u001b[0m\u001b[0mdf\u001b[0m\u001b[0;34m,\u001b[0m \u001b[0mrider_name\u001b[0m\u001b[0;34m,\u001b[0m \u001b[0myear\u001b[0m\u001b[0;34m,\u001b[0m \u001b[0msave\u001b[0m\u001b[0;34m=\u001b[0m\u001b[0;32mTrue\u001b[0m\u001b[0;34m)\u001b[0m\u001b[0;34m\u001b[0m\u001b[0;34m\u001b[0m\u001b[0m\n\u001b[0m",
      "\u001b[0;32m/var/folders/7_/85hx44gd4sb_6w_n8wqmfj3c0000gn/T/ipykernel_33170/403300793.py\u001b[0m in \u001b[0;36mclean_data\u001b[0;34m(df, rider_name, year, save)\u001b[0m\n\u001b[1;32m     25\u001b[0m \u001b[0;34m\u001b[0m\u001b[0m\n\u001b[1;32m     26\u001b[0m     \u001b[0;31m# get date for final classifications\u001b[0m\u001b[0;34m\u001b[0m\u001b[0;34m\u001b[0m\u001b[0m\n\u001b[0;32m---> 27\u001b[0;31m     \u001b[0mdf\u001b[0m \u001b[0;34m=\u001b[0m \u001b[0mgetClassificationDate\u001b[0m\u001b[0;34m(\u001b[0m\u001b[0mdf\u001b[0m\u001b[0;34m)\u001b[0m\u001b[0;34m\u001b[0m\u001b[0;34m\u001b[0m\u001b[0m\n\u001b[0m\u001b[1;32m     28\u001b[0m \u001b[0;34m\u001b[0m\u001b[0m\n\u001b[1;32m     29\u001b[0m     \u001b[0;31m# result to int\u001b[0m\u001b[0;34m\u001b[0m\u001b[0;34m\u001b[0m\u001b[0m\n",
      "\u001b[0;32m/var/folders/7_/85hx44gd4sb_6w_n8wqmfj3c0000gn/T/ipykernel_33170/37904316.py\u001b[0m in \u001b[0;36mgetClassificationDate\u001b[0;34m(df)\u001b[0m\n\u001b[1;32m      3\u001b[0m     \u001b[0;32mfor\u001b[0m \u001b[0mrace\u001b[0m \u001b[0;32min\u001b[0m \u001b[0mdf\u001b[0m\u001b[0;34m[\u001b[0m\u001b[0mdf\u001b[0m\u001b[0;34m.\u001b[0m\u001b[0mRace\u001b[0m\u001b[0;34m.\u001b[0m\u001b[0mstr\u001b[0m\u001b[0;34m.\u001b[0m\u001b[0mcontains\u001b[0m\u001b[0;34m(\u001b[0m\u001b[0;34m'classification'\u001b[0m\u001b[0;34m)\u001b[0m\u001b[0;34m]\u001b[0m\u001b[0;34m.\u001b[0m\u001b[0miterrows\u001b[0m\u001b[0;34m(\u001b[0m\u001b[0;34m)\u001b[0m\u001b[0;34m:\u001b[0m\u001b[0;34m\u001b[0m\u001b[0;34m\u001b[0m\u001b[0m\n\u001b[1;32m      4\u001b[0m \u001b[0;34m\u001b[0m\u001b[0m\n\u001b[0;32m----> 5\u001b[0;31m         \u001b[0mdf\u001b[0m\u001b[0;34m.\u001b[0m\u001b[0mloc\u001b[0m\u001b[0;34m[\u001b[0m\u001b[0mrace\u001b[0m\u001b[0;34m[\u001b[0m\u001b[0;36m1\u001b[0m\u001b[0;34m]\u001b[0m\u001b[0;34m.\u001b[0m\u001b[0mname\u001b[0m\u001b[0;34m,\u001b[0m \u001b[0;34m'FromDate'\u001b[0m\u001b[0;34m]\u001b[0m \u001b[0;34m=\u001b[0m \u001b[0mdf\u001b[0m\u001b[0;34m[\u001b[0m\u001b[0mdf\u001b[0m\u001b[0;34m.\u001b[0m\u001b[0mRace\u001b[0m \u001b[0;34m==\u001b[0m \u001b[0mrace\u001b[0m\u001b[0;34m[\u001b[0m\u001b[0;36m1\u001b[0m\u001b[0;34m]\u001b[0m\u001b[0;34m.\u001b[0m\u001b[0mRaceName\u001b[0m\u001b[0;34m]\u001b[0m\u001b[0;34m.\u001b[0m\u001b[0mToDate\u001b[0m\u001b[0;34m.\u001b[0m\u001b[0mvalues\u001b[0m\u001b[0;34m[\u001b[0m\u001b[0;36m0\u001b[0m\u001b[0;34m]\u001b[0m\u001b[0;34m\u001b[0m\u001b[0;34m\u001b[0m\u001b[0m\n\u001b[0m\u001b[1;32m      6\u001b[0m         \u001b[0mdf\u001b[0m\u001b[0;34m.\u001b[0m\u001b[0mloc\u001b[0m\u001b[0;34m[\u001b[0m\u001b[0mrace\u001b[0m\u001b[0;34m[\u001b[0m\u001b[0;36m1\u001b[0m\u001b[0;34m]\u001b[0m\u001b[0;34m.\u001b[0m\u001b[0mname\u001b[0m\u001b[0;34m,\u001b[0m \u001b[0;34m'ToDate'\u001b[0m\u001b[0;34m]\u001b[0m \u001b[0;34m=\u001b[0m \u001b[0mdf\u001b[0m\u001b[0;34m[\u001b[0m\u001b[0mdf\u001b[0m\u001b[0;34m.\u001b[0m\u001b[0mRace\u001b[0m \u001b[0;34m==\u001b[0m \u001b[0mrace\u001b[0m\u001b[0;34m[\u001b[0m\u001b[0;36m1\u001b[0m\u001b[0;34m]\u001b[0m\u001b[0;34m.\u001b[0m\u001b[0mRaceName\u001b[0m\u001b[0;34m]\u001b[0m\u001b[0;34m.\u001b[0m\u001b[0mToDate\u001b[0m\u001b[0;34m.\u001b[0m\u001b[0mvalues\u001b[0m\u001b[0;34m[\u001b[0m\u001b[0;36m0\u001b[0m\u001b[0;34m]\u001b[0m\u001b[0;34m\u001b[0m\u001b[0;34m\u001b[0m\u001b[0m\n\u001b[1;32m      7\u001b[0m \u001b[0;34m\u001b[0m\u001b[0m\n",
      "\u001b[0;31mIndexError\u001b[0m: index 0 is out of bounds for axis 0 with size 0"
     ]
    }
   ],
   "source": [
    "for rider_name in rider_names[:200]:\n",
    "    \n",
    "    years = list(filter(None, [x.split('.')[0] for x in os.listdir(os.path.join(RESULTS_PATH, rider_name))]))\n",
    "    for year in years:\n",
    "        df = pd.read_csv(os.path.join(RESULTS_PATH, rider_name, f'{year}.csv'))\n",
    "        clean_data(df, rider_name, year, save=True)"
   ]
  },
  {
   "cell_type": "code",
   "execution_count": null,
   "id": "f7a64c20",
   "metadata": {},
   "outputs": [],
   "source": []
  }
 ],
 "metadata": {
  "kernelspec": {
   "display_name": "Python 3 (ipykernel)",
   "language": "python",
   "name": "python3"
  },
  "language_info": {
   "codemirror_mode": {
    "name": "ipython",
    "version": 3
   },
   "file_extension": ".py",
   "mimetype": "text/x-python",
   "name": "python",
   "nbconvert_exporter": "python",
   "pygments_lexer": "ipython3",
   "version": "3.9.7"
  }
 },
 "nbformat": 4,
 "nbformat_minor": 5
}
