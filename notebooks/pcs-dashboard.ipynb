{
 "cells": [
  {
   "cell_type": "markdown",
   "id": "db1309e8",
   "metadata": {},
   "source": [
    "- dashboard\n",
    "- dash gallery app: F1 analytics, soccer data analysis (rider stats, strenghts, etc.), basketball shot explorer, course attack prediction based on wind/gradient/speciality"
   ]
  },
  {
   "cell_type": "code",
   "execution_count": null,
   "id": "0c3b5385",
   "metadata": {},
   "outputs": [],
   "source": []
  }
 ],
 "metadata": {
  "kernelspec": {
   "display_name": "Python 3 (ipykernel)",
   "language": "python",
   "name": "python3"
  },
  "language_info": {
   "codemirror_mode": {
    "name": "ipython",
    "version": 3
   },
   "file_extension": ".py",
   "mimetype": "text/x-python",
   "name": "python",
   "nbconvert_exporter": "python",
   "pygments_lexer": "ipython3",
   "version": "3.9.7"
  }
 },
 "nbformat": 4,
 "nbformat_minor": 5
}
