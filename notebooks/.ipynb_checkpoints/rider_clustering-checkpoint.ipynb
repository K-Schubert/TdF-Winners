{
 "cells": [
  {
   "cell_type": "code",
   "execution_count": 1,
   "metadata": {},
   "outputs": [],
   "source": [
    "import pandas as pd\n",
    "import numpy as np\n",
    "import re\n",
    "import glob\n",
    "import os\n",
    "import datetime\n",
    "import matplotlib.pyplot as plt\n",
    "import itertools"
   ]
  },
  {
   "cell_type": "markdown",
   "metadata": {},
   "source": [
    "### env variables"
   ]
  },
  {
   "cell_type": "code",
   "execution_count": null,
   "metadata": {},
   "outputs": [],
   "source": [
    "BASE_PATH = '../data/pcs-scraping'\n",
    "RESULTS_PATH = '../data/pcs-scraping/results/rider'\n",
    "RANKINGS_PATH = '../data/pcs-scraping/pcs-rankings/rider'\n",
    "TEAMS_PATH = '../data/pcs-scraping/teams/rider'\n",
    "CALENDARS_PATH = '../data/pcs-scraping/calendars'\n",
    "STARTLISTS_PATH = '../data/pcs-scraping/startlists'\n",
    "RACERESULTS_PATH = '../data/pcs-scraping/race_results'\n",
    "IMG_PATH = '../data/pcs-scraping/img/rider'\n",
    "RIDERSTATS_PATH = '../data/pcs-scraping/rider_stats/rider'"
   ]
  },
  {
   "cell_type": "markdown",
   "metadata": {},
   "source": [
    "### Load data"
   ]
  },
  {
   "cell_type": "code",
   "execution_count": null,
   "metadata": {},
   "outputs": [],
   "source": [
    "rider_names = list(pd.read_csv('../data/pcs-scraping/rider_names.csv'))"
   ]
  },
  {
   "cell_type": "code",
   "execution_count": null,
   "metadata": {},
   "outputs": [],
   "source": [
    "race = 'milano-sanremo'\n",
    "year = '2022'\n",
    "stats = pd.read_csv(os.path.join(STARTLISTS_PATH, race, year, 'stats-kpis.csv'))"
   ]
  },
  {
   "cell_type": "markdown",
   "metadata": {},
   "source": [
    "### Clean data"
   ]
  },
  {
   "cell_type": "code",
   "execution_count": null,
   "metadata": {},
   "outputs": [],
   "source": [
    "stats.dropna(inplace=True)\n",
    "stats = stats[stats['Height▲▼'] != 0]\n",
    "stats = stats[stats['Weight▲▼'] != 0]"
   ]
  },
  {
   "cell_type": "markdown",
   "metadata": {},
   "source": [
    "### Plot data"
   ]
  },
  {
   "cell_type": "code",
   "execution_count": null,
   "metadata": {},
   "outputs": [],
   "source": [
    "stats.columns"
   ]
  },
  {
   "cell_type": "code",
   "execution_count": null,
   "metadata": {},
   "outputs": [],
   "source": [
    "stats[['Rider', 'Career points▲▼', 'Height▲▼', 'Weight▲▼']].sort_values(by='Career points▲▼', ascending=False).head()"
   ]
  },
  {
   "cell_type": "code",
   "execution_count": null,
   "metadata": {},
   "outputs": [],
   "source": [
    "stats[['Rider', 'Height▲▼', 'Weight▲▼']].plot(kind='scatter', x='Height▲▼', y='Weight▲▼')\n",
    "plt.show()"
   ]
  },
  {
   "cell_type": "code",
   "execution_count": null,
   "metadata": {},
   "outputs": [],
   "source": [
    "df_sorted['Rider']"
   ]
  },
  {
   "cell_type": "code",
   "execution_count": null,
   "metadata": {},
   "outputs": [],
   "source": [
    "for i, x in df_sorted.iterrows():\n",
    "    print(x)\n",
    "    break"
   ]
  },
  {
   "cell_type": "code",
   "execution_count": null,
   "metadata": {},
   "outputs": [],
   "source": [
    "df_sorted = stats[['Rider', 'Career points▲▼', 'Height▲▼', 'Weight▲▼']].sort_values(by='Career points▲▼', ascending=False).iloc[:10]\n",
    "df_sorted.plot(kind='scatter', x='Height▲▼', y='Weight▲▼')\n",
    "\n",
    "for i, x in df_sorted.iterrows():\n",
    "    plt.text(x=x['Height▲▼'], y=x['Weight▲▼'], s=x['Rider'])\n",
    "    \n",
    "plt.show()"
   ]
  },
  {
   "cell_type": "code",
   "execution_count": null,
   "metadata": {},
   "outputs": [],
   "source": [
    "fig, ax = plt.subplots(figsize=(14,14))\n",
    "\n",
    "df_sorted = stats[['Rider', 'Career points▲▼', 'Height▲▼', 'Weight▲▼']].sort_values(by='Career points▲▼', ascending=False)\n",
    "df_sorted.plot(kind='scatter', x='Height▲▼', y='Weight▲▼', ax=ax)\n",
    "\n",
    "for i, x in df_sorted.iterrows():\n",
    "    ax.text(x=x['Height▲▼'], y=x['Weight▲▼'], s=x['Rider'])\n",
    "    \n",
    "plt.show()"
   ]
  },
  {
   "cell_type": "code",
   "execution_count": null,
   "metadata": {},
   "outputs": [],
   "source": [
    "fig, ax = plt.subplots(figsize=(14,14))\n",
    "\n",
    "df_sorted = stats[['Rider', 'Career points▲▼', 'Height▲▼', 'Weight▲▼']].sort_values(by='Career points▲▼', ascending=False)\n",
    "df_sorted.plot(kind='scatter', x='Height▲▼', y='Weight▲▼', ax=ax)\n",
    "    \n",
    "plt.show()"
   ]
  },
  {
   "cell_type": "markdown",
   "metadata": {},
   "source": [
    "# K-Means clustering"
   ]
  },
  {
   "cell_type": "code",
   "execution_count": null,
   "metadata": {},
   "outputs": [],
   "source": [
    "import seaborn as sns"
   ]
  },
  {
   "cell_type": "code",
   "execution_count": null,
   "metadata": {},
   "outputs": [],
   "source": [
    "from sklearn.cluster import KMeans"
   ]
  },
  {
   "cell_type": "markdown",
   "metadata": {},
   "source": [
    "### Height and Weight"
   ]
  },
  {
   "cell_type": "code",
   "execution_count": null,
   "metadata": {},
   "outputs": [],
   "source": [
    "X = stats[['Height▲▼', 'Weight▲▼']]\n",
    "kmeans = KMeans(n_clusters=5, random_state=0).fit(X)"
   ]
  },
  {
   "cell_type": "code",
   "execution_count": null,
   "metadata": {},
   "outputs": [],
   "source": [
    "clusters = stats[['Rider', 'Height▲▼', 'Weight▲▼']].copy()\n",
    "clusters['cluster'] = kmeans.labels_"
   ]
  },
  {
   "cell_type": "code",
   "execution_count": null,
   "metadata": {},
   "outputs": [],
   "source": [
    "sns.catplot(x='Height▲▼',\n",
    "            y='Weight▲▼',\n",
    "            data=clusters[['Height▲▼', 'Weight▲▼', 'cluster']],\n",
    "            hue='cluster')\n",
    "\n",
    "#df_clusters_groupby = clusters.groupby('cluster').first()\n",
    "#for i, x in df_clusters_groupby.iterrows():\n",
    "#    plt.text(x=x['Height▲▼'], y=x['Weight▲▼'], s=x['Rider'])\n",
    "\n",
    "plt.xticks(rotation=90)\n",
    "plt.show()"
   ]
  },
  {
   "cell_type": "code",
   "execution_count": null,
   "metadata": {},
   "outputs": [],
   "source": [
    "kmeans.cluster_centers_"
   ]
  },
  {
   "cell_type": "markdown",
   "metadata": {},
   "source": [
    "### Top 20 vs bottom 20 - PCS career points"
   ]
  },
  {
   "cell_type": "code",
   "execution_count": null,
   "metadata": {},
   "outputs": [],
   "source": [
    "X_1 = stats[['Career points▲▼', 'Weight▲▼']].sort_values(by='Career points▲▼').iloc[:20]\n",
    "X_2 = stats[['Career points▲▼', 'Weight▲▼']].sort_values(by='Career points▲▼').iloc[-20:]\n",
    "X = pd.concat([X_1, X_2])\n",
    "kmeans = KMeans(n_clusters=2, random_state=0).fit(X)"
   ]
  },
  {
   "cell_type": "code",
   "execution_count": null,
   "metadata": {},
   "outputs": [],
   "source": [
    "clusters = X.copy()\n",
    "clusters['cluster'] = kmeans.labels_\n",
    "clusters['Rider'] = stats.loc[X.index]['Rider']\n",
    "clusters.head()"
   ]
  },
  {
   "cell_type": "code",
   "execution_count": null,
   "metadata": {},
   "outputs": [],
   "source": [
    "sns.catplot(x='Career points▲▼',\n",
    "            y='Weight▲▼',\n",
    "            data=clusters[['Career points▲▼', 'Weight▲▼', 'cluster']],\n",
    "            hue='cluster')\n",
    "\n",
    "#df_clusters_groupby = clusters.groupby('cluster').first()\n",
    "#for i, x in df_clusters_groupby.iterrows():\n",
    "#    plt.text(x=x['Height▲▼'], y=x['Weight▲▼'], s=x['Rider'])\n",
    "\n",
    "plt.xticks(rotation=90)\n",
    "plt.show()"
   ]
  },
  {
   "cell_type": "markdown",
   "metadata": {},
   "source": [
    "### Model with all features (kpis) with 3 classes (low, intermediate, high)"
   ]
  },
  {
   "cell_type": "code",
   "execution_count": null,
   "metadata": {},
   "outputs": [],
   "source": [
    "X = stats[['Career points▲▼', 'GC points▲▼', 'Classic points▲▼',\n",
    "       'TT points▲▼', 'Climbers points▲▼', 'Sprinters points▲▼', 'Height▲▼',\n",
    "       'Weight▲▼']]\n",
    "kmeans = KMeans(n_clusters=3, random_state=0).fit(X)\n",
    "\n",
    "clusters = stats[['Rider', 'Career points▲▼', 'GC points▲▼', 'Classic points▲▼',\n",
    "       'TT points▲▼', 'Climbers points▲▼', 'Sprinters points▲▼', 'Height▲▼',\n",
    "       'Weight▲▼']].copy()\n",
    "clusters['cluster'] = kmeans.labels_"
   ]
  },
  {
   "cell_type": "code",
   "execution_count": null,
   "metadata": {},
   "outputs": [],
   "source": [
    "from sklearn.manifold import TSNE\n",
    "import plotly.express as px"
   ]
  },
  {
   "cell_type": "code",
   "execution_count": null,
   "metadata": {},
   "outputs": [],
   "source": [
    "features = clusters[['Career points▲▼', 'GC points▲▼', 'Classic points▲▼',\n",
    "       'TT points▲▼', 'Climbers points▲▼', 'Sprinters points▲▼', 'Height▲▼',\n",
    "       'Weight▲▼', 'cluster']]\n",
    "\n",
    "tsne = TSNE(n_components=2, random_state=0)\n",
    "projections = tsne.fit_transform(features)\n",
    "\n",
    "fig = px.scatter(\n",
    "    projections, x=0, y=1,\n",
    "    color=features.cluster, labels={'color': 'cluster'}\n",
    ")\n",
    "fig.show()"
   ]
  },
  {
   "cell_type": "code",
   "execution_count": null,
   "metadata": {},
   "outputs": [],
   "source": [
    "clusters.groupby('cluster').head(4)"
   ]
  },
  {
   "cell_type": "markdown",
   "metadata": {},
   "source": [
    "# Predict rider potential based on model"
   ]
  },
  {
   "cell_type": "code",
   "execution_count": null,
   "metadata": {},
   "outputs": [],
   "source": []
  },
  {
   "cell_type": "markdown",
   "metadata": {},
   "source": [
    "# Radar Chart"
   ]
  },
  {
   "cell_type": "code",
   "execution_count": null,
   "metadata": {},
   "outputs": [],
   "source": []
  }
 ],
 "metadata": {
  "kernelspec": {
   "display_name": "Python 3 (ipykernel)",
   "language": "python",
   "name": "python3"
  },
  "language_info": {
   "codemirror_mode": {
    "name": "ipython",
    "version": 3
   },
   "file_extension": ".py",
   "mimetype": "text/x-python",
   "name": "python",
   "nbconvert_exporter": "python",
   "pygments_lexer": "ipython3",
   "version": "3.9.7"
  }
 },
 "nbformat": 4,
 "nbformat_minor": 4
}
