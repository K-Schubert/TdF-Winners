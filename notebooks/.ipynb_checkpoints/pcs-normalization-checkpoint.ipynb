{
 "cells": [
  {
   "cell_type": "code",
   "execution_count": 1,
   "id": "db3d0c4d",
   "metadata": {},
   "outputs": [],
   "source": [
    "import pandas as pd\n",
    "import numpy as np\n",
    "import glob\n",
    "import matplotlib.pyplot as plt\n",
    "import re\n",
    "import collections\n",
    "import math"
   ]
  },
  {
   "cell_type": "code",
   "execution_count": 2,
   "id": "fae093db",
   "metadata": {},
   "outputs": [],
   "source": [
    "rider_names = list(pd.read_csv('../data/pcs-scraping/rider_names.csv'))"
   ]
  },
  {
   "cell_type": "code",
   "execution_count": 3,
   "id": "ad6e3660",
   "metadata": {},
   "outputs": [],
   "source": [
    "rider_name = rider_names[4]\n",
    "#rider_name = 'julian-alaphilippe'\n",
    "path = '../data/pcs-scraping/results/rider/'\n",
    "\n",
    "df_rider = {rider_name: {}}\n",
    "\n",
    "for file in glob.glob(f'{path}/{rider_name}/*.csv'):\n",
    "    \n",
    "    year = re.search('\\d{4}', file).group(0)\n",
    "    df_rider[rider_name][year] = pd.read_csv(file)\n"
   ]
  },
  {
   "cell_type": "code",
   "execution_count": 4,
   "id": "426c2a00",
   "metadata": {},
   "outputs": [
    {
     "data": {
      "text/plain": [
       "'egan-bernal'"
      ]
     },
     "execution_count": 4,
     "metadata": {},
     "output_type": "execute_result"
    }
   ],
   "source": [
    "rider_name"
   ]
  },
  {
   "cell_type": "code",
   "execution_count": null,
   "id": "d94e91d7",
   "metadata": {},
   "outputs": [],
   "source": [
    "#df_2021 = pd.read_csv('./data/pcs-scraping/results/rider//julian-alaphilippe/2015.csv')"
   ]
  },
  {
   "cell_type": "markdown",
   "id": "d3e44bb8",
   "metadata": {},
   "source": [
    "# Add Column with RaceType and SubRaceType"
   ]
  },
  {
   "cell_type": "code",
   "execution_count": null,
   "id": "03f26b3e",
   "metadata": {},
   "outputs": [],
   "source": [
    "def getMainRaceType(race):\n",
    "    \n",
    "    if race.split('(')[-1].startswith('1'):\n",
    "        \n",
    "        race_type = 'One Day Race'\n",
    "\n",
    "    elif race.split('(')[-1].startswith('2'):\n",
    "        \n",
    "        race_type = 'Stage Race'\n",
    "        \n",
    "    elif race.endswith('WC)'):\n",
    "        \n",
    "        race_type = 'One Day Race'\n",
    "        \n",
    "    elif race.endswith('NC)'):\n",
    "        \n",
    "        race_type = 'One Day Race'\n",
    "    \n",
    "    elif race.endswith('CC)'):\n",
    "        \n",
    "        race_type = 'One Day Race'\n",
    "        \n",
    "    elif race.endswith('Olympics)'):\n",
    "        \n",
    "        race_type = 'One Day Race'\n",
    "    \n",
    "    elif race.endswith('JR)'):\n",
    "        \n",
    "        race_type = 'One Day Race'\n",
    "    \n",
    "    else:\n",
    "        \n",
    "        return np.nan\n",
    "    \n",
    "    return race_type\n",
    "\n",
    "def getSubRaceType(race):\n",
    "    \n",
    "    if '.' in race:\n",
    "    \n",
    "        if 'UWT' in race.split('.')[-1].strip(')'):\n",
    "\n",
    "            race_type = 'UWT'\n",
    "\n",
    "        elif 'Pro' in race.split('.')[-1].strip(')'):\n",
    "\n",
    "            race_type = 'Pro'\n",
    "\n",
    "        elif race.split('.')[-1].strip(')') == '1':\n",
    "\n",
    "            race_type = '1'\n",
    "\n",
    "        elif race.split('.')[-1].strip(')') == '2':\n",
    "\n",
    "            race_type = '2'\n",
    "\n",
    "        elif 'HC' in race.split('.')[-1].strip(')'):\n",
    "\n",
    "            race_type = 'HC'\n",
    "\n",
    "        elif 'NCup' in race.split('.')[-1].strip(')'):\n",
    "\n",
    "            race_type = 'NCup'\n",
    "\n",
    "        elif race.split('.')[-1].strip(')')[-1] == 'U':\n",
    "\n",
    "            race_type = 'U'\n",
    "\n",
    "        else:\n",
    "\n",
    "            race_type = np.nan\n",
    "    \n",
    "    else:\n",
    "        \n",
    "        if 'WC' in race.split('.')[-1].strip(')'):\n",
    "\n",
    "            race_type = 'WC'\n",
    "\n",
    "        elif 'CC' in race.split('.')[-1].strip(')'):\n",
    "\n",
    "            race_type = 'CC'\n",
    "            \n",
    "        elif 'JR' in race.split('.')[-1].strip(')'):\n",
    "\n",
    "            race_type = 'JR'\n",
    "            \n",
    "        elif 'Olympics' in race.split('.')[-1].strip(')'):\n",
    "\n",
    "            race_type = 'Olympics'\n",
    "            \n",
    "        elif 'NC' in race.split('.')[-1].strip(')'):\n",
    "\n",
    "            race_type = 'NC'\n",
    "        \n",
    "        else:\n",
    "            \n",
    "            race_type = np.nan\n",
    "            \n",
    "    return race_type"
   ]
  },
  {
   "cell_type": "code",
   "execution_count": null,
   "id": "340c07b1",
   "metadata": {},
   "outputs": [],
   "source": [
    "for year, df in df_rider[rider_name].items():\n",
    "    \n",
    "    race_type = [getMainRaceType(x) for x in df['StageRaceName']]\n",
    "    df['RaceType'] = race_type\n",
    "    \n",
    "    sub_race_type = [getSubRaceType(race) for race in df['StageRaceName']]\n",
    "    df['SubRaceType'] = sub_race_type"
   ]
  },
  {
   "cell_type": "code",
   "execution_count": null,
   "id": "68e21899",
   "metadata": {},
   "outputs": [],
   "source": [
    "df_rider[rider_name]['2021'].head(5)"
   ]
  },
  {
   "cell_type": "markdown",
   "id": "df42948a",
   "metadata": {},
   "source": [
    "# Add Stage Race UCI Category to RaceType and SubRaceType"
   ]
  },
  {
   "cell_type": "code",
   "execution_count": null,
   "id": "1309fc17",
   "metadata": {},
   "outputs": [],
   "source": [
    "def getRaceTypeStageRace(races):\n",
    "    \n",
    "    race = []\n",
    "    \n",
    "    for i, x in enumerate(races):\n",
    "    \n",
    "        if isinstance(x, str):\n",
    "\n",
    "            cache = x\n",
    "            race.append(x)\n",
    "\n",
    "        elif math.isnan(x):\n",
    "\n",
    "            race.append(cache)\n",
    "            \n",
    "    return race"
   ]
  },
  {
   "cell_type": "code",
   "execution_count": null,
   "id": "7d99a83b",
   "metadata": {},
   "outputs": [],
   "source": [
    "for year, df in df_rider[rider_name].items():\n",
    "    \n",
    "    main_race_type = getRaceTypeStageRace(df_rider[rider_name][year]['RaceType'])\n",
    "    df_rider[rider_name][year]['RaceType'] = main_race_type\n",
    "\n",
    "    \n",
    "    sub_race_type = getRaceTypeStageRace(df_rider[rider_name][year]['SubRaceType'])\n",
    "    df_rider[rider_name][year]['SubRaceType'] = sub_race_type"
   ]
  },
  {
   "cell_type": "markdown",
   "id": "7b38f298",
   "metadata": {},
   "source": [
    "main_race_type = getRaceTypeStageRace(df_rider[rider_name]['2021']['RaceType'])\n",
    "\n",
    "df_rider[rider_name]['2021']['RaceType'] = main_race_type\n",
    "\n",
    "sub_race_type = getRaceTypeStageRace(df_rider[rider_name]['2021']['SubRaceType'])\n",
    "\n",
    "df_rider[rider_name]['2021']['SubRaceType'] = sub_race_type"
   ]
  },
  {
   "cell_type": "code",
   "execution_count": null,
   "id": "92bb97fc",
   "metadata": {},
   "outputs": [],
   "source": [
    "df_rider[rider_name]['2021'].head(20)"
   ]
  },
  {
   "cell_type": "markdown",
   "id": "716b4b62",
   "metadata": {},
   "source": [
    "# Add StageRace Name"
   ]
  },
  {
   "cell_type": "code",
   "execution_count": null,
   "id": "1021b69a",
   "metadata": {},
   "outputs": [],
   "source": [
    "def getStageRaceName(races):\n",
    "    \n",
    "    race_name = []\n",
    "    \n",
    "    for i, race in races.iterrows():\n",
    "        \n",
    "        if race['RaceType'] == 'One Day Race':\n",
    "            \n",
    "            race_name.append(race['Race'])\n",
    "            \n",
    "        elif race['RaceType'] == 'Stage Race':\n",
    "            \n",
    "            if race['Race'].endswith(')') and 'Stage' not in race['Race']:\n",
    "                \n",
    "                race_name.append(race['Race'])\n",
    "            \n",
    "            else:\n",
    "                \n",
    "                race_name.append(race_name[-1])\n",
    "                \n",
    "    return race_name"
   ]
  },
  {
   "cell_type": "code",
   "execution_count": null,
   "id": "f62f2e5f",
   "metadata": {},
   "outputs": [],
   "source": [
    "for year, df in df_rider[rider_name].items():\n",
    "    \n",
    "    df_rider[rider_name][year]['StageRaceName'] = getStageRaceName(df_rider[rider_name][year][['Race', 'RaceType']])"
   ]
  },
  {
   "cell_type": "markdown",
   "id": "5f0cd8e1",
   "metadata": {},
   "source": [
    "df_rider[rider_name]['2021']['StageRaceName'] = getStageRaceName(df_rider[rider_name]['2021'][['Race', 'RaceType']])"
   ]
  },
  {
   "cell_type": "code",
   "execution_count": null,
   "id": "acf74768",
   "metadata": {},
   "outputs": [],
   "source": [
    "df_rider[rider_name]['2021'].head(15)"
   ]
  },
  {
   "cell_type": "markdown",
   "id": "302d2d3e",
   "metadata": {},
   "source": [
    "# Add GC Results"
   ]
  },
  {
   "cell_type": "code",
   "execution_count": null,
   "id": "7c51834f",
   "metadata": {},
   "outputs": [],
   "source": [
    "def getGCResult(df_rider):\n",
    "\n",
    "    to_modify = []\n",
    "\n",
    "    stage_races = df_rider[df_rider['RaceType'] == 'Stage Race']\n",
    "\n",
    "    for i, race in stage_races.iterrows():\n",
    "\n",
    "        if 'General classification' in race['Race']:\n",
    "\n",
    "            to_modify.append((race['StageRaceName'], race['Result']))\n",
    "          \n",
    "    for mod in to_modify:\n",
    "    \n",
    "        df_rider.loc[df_rider['Race'].str.contains(mod[0], regex=False), 'Result'] = mod[1]    \n",
    "    \n",
    "    return df_rider\n",
    "\n",
    "def getGCPreviousResult(df_rider):\n",
    "        \n",
    "    gc = []\n",
    "\n",
    "    stage_races = df_rider[df_rider['RaceType'] == 'Stage Race']\n",
    "\n",
    "    for stage_race in stage_races.groupby('StageRaceName'):\n",
    "\n",
    "        ind = stage_race[1][stage_race[1]['Race'].str.contains('Stage')].index[0]\n",
    "        val = stage_race[1].loc[ind+1, 'GC']\n",
    "        stage_race[1].loc[ind, 'GC'] = val\n",
    "        \n",
    "        df_rider.loc[df_rider['StageRaceName']==stage_race[0], 'GC'] = stage_race[1]['GC']\n",
    "        \n",
    "    return df_rider"
   ]
  },
  {
   "cell_type": "code",
   "execution_count": null,
   "id": "5a96e2a0",
   "metadata": {},
   "outputs": [],
   "source": [
    "for year, df in df_rider[rider_name].items():\n",
    "    \n",
    "    df_rider[rider_name][year] = getGCResult(df_rider[rider_name][year])\n",
    "    df_rider[rider_name][year] = getGCPreviousResult(df_rider[rider_name][year])"
   ]
  },
  {
   "cell_type": "markdown",
   "id": "b009dedf",
   "metadata": {},
   "source": [
    "df_rider[rider_name]['2021'] = getGCResult(df_rider[rider_name]['2021'])\n",
    "df_rider[rider_name]['2021'] = getGCPreviousResult(df_rider[rider_name]['2021'])"
   ]
  },
  {
   "cell_type": "markdown",
   "id": "8427848c",
   "metadata": {},
   "source": [
    "# Prep Data for Plotting"
   ]
  },
  {
   "cell_type": "code",
   "execution_count": null,
   "id": "659cfe35",
   "metadata": {},
   "outputs": [],
   "source": [
    "def normalizeDate(date):\n",
    "    \n",
    "    if not math.isnan(date):\n",
    "        \n",
    "        date = str(date)\n",
    "        \n",
    "        if len(date.split('.')[-1]) == 1:\n",
    "            \n",
    "            date = date + '0'\n",
    "            \n",
    "        if len(date.split('.')[0]) == 1:\n",
    "            \n",
    "            date = '0' + date\n",
    "            \n",
    "    return date\n",
    "\n",
    "def prepData(df_rider, rm_non_numeric=False):\n",
    "    \n",
    "    df_rider_clean = df_rider.copy()\n",
    "\n",
    "    for year, df in df_rider_clean[rider_name].items():\n",
    "\n",
    "        df_dict = df.copy()\n",
    "\n",
    "        # remove NaN values\n",
    "        df_dict.dropna(subset=['Result'], inplace=True)\n",
    "        df_dict.dropna(subset=['Date'], inplace=True)\n",
    "        \n",
    "        # dates to timestamp\n",
    "        df_dict['Date'] = df_dict['Date'].apply(lambda x: normalizeDate(x))\n",
    "        df_dict['Date'] = df_dict['Date'].apply(lambda x: str(x)+f'.{year}')\n",
    "        df_dict['Date'] = df_dict['Date'].apply(lambda x: pd.to_datetime(x, format='%d.%m.%Y'))\n",
    "        \n",
    "        # remove string values\n",
    "        if rm_non_numeric:\n",
    "            df_dict = df_dict[(df_dict.Result != 'DNS') & (df_dict.Result != 'DNF') & (df_dict.Result != 'DF')]\n",
    "\n",
    "        # define Result as int\n",
    "        to_exlude = ['DNF', 'DNS', 'DF']\n",
    "        results = [int(x) if x not in to_exlude else x for x in df_dict['Result']]\n",
    "        gc = [int(x) if not math.isnan(x) else np.nan for x in df_dict['GC']]\n",
    "        df_dict['Result'] = results\n",
    "        df_dict['GC'] = gc\n",
    "\n",
    "        df_rider_clean[rider_name][year] = df_dict.sort_values(by='Date')\n",
    "        \n",
    "    return df_rider_clean\n",
    "\n",
    "def getNumericData():\n",
    "    \n",
    "    pass"
   ]
  },
  {
   "cell_type": "code",
   "execution_count": null,
   "id": "c59282bb",
   "metadata": {},
   "outputs": [],
   "source": [
    "df_rider_clean = prepData(df_rider, rm_non_numeric=True)"
   ]
  },
  {
   "cell_type": "code",
   "execution_count": null,
   "id": "4dca04e9",
   "metadata": {},
   "outputs": [],
   "source": [
    "for year, df in df_rider_clean[rider_name].items():\n",
    "    \n",
    "    df.to_csv(f'{path}/{rider_name}/{year}_clean.csv', index=False)"
   ]
  },
  {
   "cell_type": "markdown",
   "id": "09aa6ab4",
   "metadata": {},
   "source": [
    "- progression of top_x over seasons\n",
    "- stage difficulty index (race ranking scraped on race link, vert. meters)\n",
    "- model: X (Date, current GC, dist, vert, uci points, racetype, subracetype, racename, weather?), y (Result)\n",
    "- strategy for teams to win points and stay/progress to world tour ?\n",
    "- get 'won how' data and define strategy based on stage ?\n",
    "- when this info is missing, impute sprint if same arrival time, solo if time gaps, etc.\n",
    "- junior/u23 rider potential: clustering of results compared to successful riders\n",
    "- world tour teams performance analysis -> race selection optimization"
   ]
  },
  {
   "cell_type": "code",
   "execution_count": null,
   "id": "fd4c50d3",
   "metadata": {},
   "outputs": [],
   "source": []
  },
  {
   "cell_type": "code",
   "execution_count": null,
   "id": "120f5a84",
   "metadata": {},
   "outputs": [],
   "source": []
  }
 ],
 "metadata": {
  "kernelspec": {
   "display_name": "Python 3 (ipykernel)",
   "language": "python",
   "name": "python3"
  },
  "language_info": {
   "codemirror_mode": {
    "name": "ipython",
    "version": 3
   },
   "file_extension": ".py",
   "mimetype": "text/x-python",
   "name": "python",
   "nbconvert_exporter": "python",
   "pygments_lexer": "ipython3",
   "version": "3.9.7"
  }
 },
 "nbformat": 4,
 "nbformat_minor": 5
}
