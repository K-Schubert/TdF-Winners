{
 "cells": [
  {
   "cell_type": "code",
   "execution_count": 1,
   "metadata": {},
   "outputs": [],
   "source": [
    "import pandas as pd\n",
    "import numpy as np\n",
    "import re\n",
    "import glob\n",
    "import os\n",
    "import datetime\n",
    "import matplotlib.pyplot as plt\n",
    "import itertools"
   ]
  },
  {
   "cell_type": "markdown",
   "metadata": {},
   "source": [
    "### env variables"
   ]
  },
  {
   "cell_type": "code",
   "execution_count": 2,
   "metadata": {},
   "outputs": [],
   "source": [
    "BASE_PATH = '../data/pcs-scraping'\n",
    "RESULTS_PATH = '../data/pcs-scraping/results/rider'\n",
    "RANKINGS_PATH = '../data/pcs-scraping/pcs-rankings/rider'\n",
    "TEAMS_PATH = '../data/pcs-scraping/teams/rider'\n",
    "CALENDARS_PATH = '../data/pcs-scraping/calendars'\n",
    "STARTLISTS_PATH = '../data/pcs-scraping/startlists'\n",
    "RACERESULTS_PATH = '../data/pcs-scraping/race_results'\n",
    "IMG_PATH = '../data/pcs-scraping/img/rider'\n",
    "RIDERSTATS_PATH = '../data/pcs-scraping/rider_stats/rider'"
   ]
  },
  {
   "cell_type": "markdown",
   "metadata": {},
   "source": [
    "### Load data"
   ]
  },
  {
   "cell_type": "code",
   "execution_count": 3,
   "metadata": {},
   "outputs": [],
   "source": [
    "rider_names = list(pd.read_csv('../data/pcs-scraping/rider_names.csv'))"
   ]
  },
  {
   "cell_type": "code",
   "execution_count": 12,
   "metadata": {},
   "outputs": [],
   "source": [
    "race = 'milano-sanremo'\n",
    "year = '2022'\n",
    "stats = pd.read_csv(os.path.join(STARTLISTS_PATH, race, year, 'stats-kpis.csv'))"
   ]
  },
  {
   "cell_type": "markdown",
   "metadata": {},
   "source": [
    "### Clean data"
   ]
  },
  {
   "cell_type": "code",
   "execution_count": 26,
   "metadata": {},
   "outputs": [],
   "source": [
    "stats.dropna(inplace=True)\n",
    "stats = stats[stats['Height▲▼'] != 0]\n",
    "stats = stats[stats['Weight▲▼'] != 0]"
   ]
  },
  {
   "cell_type": "markdown",
   "metadata": {},
   "source": [
    "### Plot data"
   ]
  },
  {
   "cell_type": "code",
   "execution_count": 28,
   "metadata": {},
   "outputs": [
    {
     "data": {
      "text/plain": [
       "Index(['#', 'Rider', 'Career points▲▼', 'GC points▲▼', 'Classic points▲▼',\n",
       "       'TT points▲▼', 'Climbers points▲▼', 'Sprinters points▲▼', 'Height▲▼',\n",
       "       'Weight▲▼'],\n",
       "      dtype='object')"
      ]
     },
     "execution_count": 28,
     "metadata": {},
     "output_type": "execute_result"
    }
   ],
   "source": [
    "stats.columns"
   ]
  },
  {
   "cell_type": "code",
   "execution_count": 31,
   "metadata": {},
   "outputs": [
    {
     "data": {
      "text/html": [
       "<div>\n",
       "<style scoped>\n",
       "    .dataframe tbody tr th:only-of-type {\n",
       "        vertical-align: middle;\n",
       "    }\n",
       "\n",
       "    .dataframe tbody tr th {\n",
       "        vertical-align: top;\n",
       "    }\n",
       "\n",
       "    .dataframe thead th {\n",
       "        text-align: right;\n",
       "    }\n",
       "</style>\n",
       "<table border=\"1\" class=\"dataframe\">\n",
       "  <thead>\n",
       "    <tr style=\"text-align: right;\">\n",
       "      <th></th>\n",
       "      <th>Rider</th>\n",
       "      <th>Career points▲▼</th>\n",
       "      <th>Height▲▼</th>\n",
       "      <th>Weight▲▼</th>\n",
       "    </tr>\n",
       "  </thead>\n",
       "  <tbody>\n",
       "    <tr>\n",
       "      <th>118</th>\n",
       "      <td>SAGAN Peter</td>\n",
       "      <td>22880</td>\n",
       "      <td>1.82</td>\n",
       "      <td>78</td>\n",
       "    </tr>\n",
       "    <tr>\n",
       "      <th>56</th>\n",
       "      <td>GILBERT Philippe</td>\n",
       "      <td>20430</td>\n",
       "      <td>1.78</td>\n",
       "      <td>75</td>\n",
       "    </tr>\n",
       "    <tr>\n",
       "      <th>145</th>\n",
       "      <td>VAN AVERMAET Greg</td>\n",
       "      <td>18534</td>\n",
       "      <td>1.81</td>\n",
       "      <td>74</td>\n",
       "    </tr>\n",
       "    <tr>\n",
       "      <th>75</th>\n",
       "      <td>KRISTOFF Alexander</td>\n",
       "      <td>16333</td>\n",
       "      <td>1.81</td>\n",
       "      <td>78</td>\n",
       "    </tr>\n",
       "    <tr>\n",
       "      <th>13</th>\n",
       "      <td>BOASSON HAGEN Edvald</td>\n",
       "      <td>13495</td>\n",
       "      <td>1.85</td>\n",
       "      <td>75</td>\n",
       "    </tr>\n",
       "  </tbody>\n",
       "</table>\n",
       "</div>"
      ],
      "text/plain": [
       "                    Rider  Career points▲▼  Height▲▼  Weight▲▼\n",
       "118           SAGAN Peter            22880      1.82        78\n",
       "56       GILBERT Philippe            20430      1.78        75\n",
       "145     VAN AVERMAET Greg            18534      1.81        74\n",
       "75     KRISTOFF Alexander            16333      1.81        78\n",
       "13   BOASSON HAGEN Edvald            13495      1.85        75"
      ]
     },
     "execution_count": 31,
     "metadata": {},
     "output_type": "execute_result"
    }
   ],
   "source": [
    "stats[['Rider', 'Career points▲▼', 'Height▲▼', 'Weight▲▼']].sort_values(by='Career points▲▼', ascending=False).head()"
   ]
  },
  {
   "cell_type": "code",
   "execution_count": 27,
   "metadata": {},
   "outputs": [
    {
     "data": {
      "image/png": "[encoded data removed]",
      "text/plain": [
       "<Figure size 432x288 with 1 Axes>"
      ]
     },
     "metadata": {
      "needs_background": "light"
     },
     "output_type": "display_data"
    }
   ],
   "source": [
    "stats[['Rider', 'Height▲▼', 'Weight▲▼']].plot(kind='scatter', x='Height▲▼', y='Weight▲▼')\n",
    "plt.show()"
   ]
  },
  {
   "cell_type": "code",
   "execution_count": 35,
   "metadata": {},
   "outputs": [
    {
     "data": {
      "text/plain": [
       "118                 SAGAN Peter\n",
       "56             GILBERT Philippe\n",
       "145           VAN AVERMAET Greg\n",
       "75           KRISTOFF Alexander\n",
       "13         BOASSON HAGEN Edvald\n",
       "                 ...           \n",
       "42               ELOSEGUI Iñigo\n",
       "126         SEVILLA Diego Pablo\n",
       "34                 DAVY Clément\n",
       "41                EL GOUZI Omar\n",
       "165    ZURITA Ricardo Alejandro\n",
       "Name: Rider, Length: 164, dtype: object"
      ]
     },
     "execution_count": 35,
     "metadata": {},
     "output_type": "execute_result"
    }
   ],
   "source": [
    "df_sorted['Rider']"
   ]
  },
  {
   "cell_type": "code",
   "execution_count": 38,
   "metadata": {},
   "outputs": [
    {
     "name": "stdout",
     "output_type": "stream",
     "text": [
      "Rider              SAGAN Peter\n",
      "Career points▲▼          22880\n",
      "Height▲▼                  1.82\n",
      "Weight▲▼                    78\n",
      "Name: 118, dtype: object\n"
     ]
    }
   ],
   "source": [
    "for i, x in df_sorted.iterrows():\n",
    "    print(x)\n",
    "    break"
   ]
  },
  {
   "cell_type": "code",
   "execution_count": 44,
   "metadata": {},
   "outputs": [
    {
     "data": {
      "image/png": "[encoded data removed]",
      "text/plain": [
       "<Figure size 432x288 with 1 Axes>"
      ]
     },
     "metadata": {
      "needs_background": "light"
     },
     "output_type": "display_data"
    }
   ],
   "source": [
    "df_sorted = stats[['Rider', 'Career points▲▼', 'Height▲▼', 'Weight▲▼']].sort_values(by='Career points▲▼', ascending=False).iloc[:10]\n",
    "df_sorted.plot(kind='scatter', x='Height▲▼', y='Weight▲▼')\n",
    "\n",
    "for i, x in df_sorted.iterrows():\n",
    "    plt.text(x=x['Height▲▼'], y=x['Weight▲▼'], s=x['Rider'])\n",
    "    \n",
    "plt.show()"
   ]
  },
  {
   "cell_type": "code",
   "execution_count": 47,
   "metadata": {},
   "outputs": [
    {
     "data": {
      "image/png": "[encoded data removed]",
      "text/plain": [
       "<Figure size 1008x1008 with 1 Axes>"
      ]
     },
     "metadata": {
      "needs_background": "light"
     },
     "output_type": "display_data"
    }
   ],
   "source": [
    "fig, ax = plt.subplots(figsize=(14,14))\n",
    "\n",
    "df_sorted = stats[['Rider', 'Career points▲▼', 'Height▲▼', 'Weight▲▼']].sort_values(by='Career points▲▼', ascending=False)\n",
    "df_sorted.plot(kind='scatter', x='Height▲▼', y='Weight▲▼', ax=ax)\n",
    "\n",
    "for i, x in df_sorted.iterrows():\n",
    "    ax.text(x=x['Height▲▼'], y=x['Weight▲▼'], s=x['Rider'])\n",
    "    \n",
    "plt.show()"
   ]
  },
  {
   "cell_type": "code",
   "execution_count": 48,
   "metadata": {},
   "outputs": [
    {
     "data": {
      "image/png": "[encoded data removed]",
      "text/plain": [
       "<Figure size 1008x1008 with 1 Axes>"
      ]
     },
     "metadata": {
      "needs_background": "light"
     },
     "output_type": "display_data"
    }
   ],
   "source": [
    "fig, ax = plt.subplots(figsize=(14,14))\n",
    "\n",
    "df_sorted = stats[['Rider', 'Career points▲▼', 'Height▲▼', 'Weight▲▼']].sort_values(by='Career points▲▼', ascending=False)\n",
    "df_sorted.plot(kind='scatter', x='Height▲▼', y='Weight▲▼', ax=ax)\n",
    "    \n",
    "plt.show()"
   ]
  },
  {
   "cell_type": "markdown",
   "metadata": {},
   "source": [
    "# K-Means clustering"
   ]
  },
  {
   "cell_type": "code",
   "execution_count": 60,
   "metadata": {},
   "outputs": [],
   "source": [
    "import seaborn as sns"
   ]
  },
  {
   "cell_type": "code",
   "execution_count": 49,
   "metadata": {},
   "outputs": [],
   "source": [
    "from sklearn.cluster import KMeans"
   ]
  },
  {
   "cell_type": "markdown",
   "metadata": {},
   "source": [
    "### Height and Weight"
   ]
  },
  {
   "cell_type": "code",
   "execution_count": 110,
   "metadata": {},
   "outputs": [],
   "source": [
    "X = stats[['Height▲▼', 'Weight▲▼']]\n",
    "kmeans = KMeans(n_clusters=5, random_state=0).fit(X)"
   ]
  },
  {
   "cell_type": "code",
   "execution_count": 111,
   "metadata": {},
   "outputs": [],
   "source": [
    "clusters = stats[['Rider', 'Height▲▼', 'Weight▲▼']].copy()\n",
    "clusters['cluster'] = kmeans.labels_"
   ]
  },
  {
   "cell_type": "code",
   "execution_count": 112,
   "metadata": {},
   "outputs": [
    {
     "data": {
      "image/png": "[encoded data removed]",
      "text/plain": [
       "<Figure size 402.375x360 with 1 Axes>"
      ]
     },
     "metadata": {
      "needs_background": "light"
     },
     "output_type": "display_data"
    }
   ],
   "source": [
    "sns.catplot(x='Height▲▼',\n",
    "            y='Weight▲▼',\n",
    "            data=clusters[['Height▲▼', 'Weight▲▼', 'cluster']],\n",
    "            hue='cluster')\n",
    "\n",
    "#df_clusters_groupby = clusters.groupby('cluster').first()\n",
    "#for i, x in df_clusters_groupby.iterrows():\n",
    "#    plt.text(x=x['Height▲▼'], y=x['Weight▲▼'], s=x['Rider'])\n",
    "\n",
    "plt.xticks(rotation=90)\n",
    "plt.show()"
   ]
  },
  {
   "cell_type": "code",
   "execution_count": 87,
   "metadata": {},
   "outputs": [
    {
     "data": {
      "text/plain": [
       "array([[ 1.84666667, 75.54761905],\n",
       "       [ 1.73925926, 61.        ],\n",
       "       [ 1.78125   , 66.075     ],\n",
       "       [ 1.81651163, 70.30232558],\n",
       "       [ 1.91333333, 82.33333333]])"
      ]
     },
     "execution_count": 87,
     "metadata": {},
     "output_type": "execute_result"
    }
   ],
   "source": [
    "kmeans.cluster_centers_"
   ]
  },
  {
   "cell_type": "markdown",
   "metadata": {},
   "source": [
    "### Top 20 vs bottom 20 - PCS career points"
   ]
  },
  {
   "cell_type": "code",
   "execution_count": 133,
   "metadata": {},
   "outputs": [],
   "source": [
    "X_1 = stats[['Career points▲▼', 'Weight▲▼']].sort_values(by='Career points▲▼').iloc[:20]\n",
    "X_2 = stats[['Career points▲▼', 'Weight▲▼']].sort_values(by='Career points▲▼').iloc[-20:]\n",
    "X = pd.concat([X_1, X_2])\n",
    "kmeans = KMeans(n_clusters=2, random_state=0).fit(X)"
   ]
  },
  {
   "cell_type": "code",
   "execution_count": 134,
   "metadata": {},
   "outputs": [
    {
     "data": {
      "text/html": [
       "<div>\n",
       "<style scoped>\n",
       "    .dataframe tbody tr th:only-of-type {\n",
       "        vertical-align: middle;\n",
       "    }\n",
       "\n",
       "    .dataframe tbody tr th {\n",
       "        vertical-align: top;\n",
       "    }\n",
       "\n",
       "    .dataframe thead th {\n",
       "        text-align: right;\n",
       "    }\n",
       "</style>\n",
       "<table border=\"1\" class=\"dataframe\">\n",
       "  <thead>\n",
       "    <tr style=\"text-align: right;\">\n",
       "      <th></th>\n",
       "      <th>Career points▲▼</th>\n",
       "      <th>Weight▲▼</th>\n",
       "      <th>cluster</th>\n",
       "      <th>Rider</th>\n",
       "    </tr>\n",
       "  </thead>\n",
       "  <tbody>\n",
       "    <tr>\n",
       "      <th>165</th>\n",
       "      <td>5</td>\n",
       "      <td>62</td>\n",
       "      <td>1</td>\n",
       "      <td>ZURITA Ricardo Alejandro</td>\n",
       "    </tr>\n",
       "    <tr>\n",
       "      <th>41</th>\n",
       "      <td>23</td>\n",
       "      <td>58</td>\n",
       "      <td>1</td>\n",
       "      <td>EL GOUZI Omar</td>\n",
       "    </tr>\n",
       "    <tr>\n",
       "      <th>34</th>\n",
       "      <td>31</td>\n",
       "      <td>73</td>\n",
       "      <td>1</td>\n",
       "      <td>DAVY Clément</td>\n",
       "    </tr>\n",
       "    <tr>\n",
       "      <th>126</th>\n",
       "      <td>31</td>\n",
       "      <td>64</td>\n",
       "      <td>1</td>\n",
       "      <td>SEVILLA Diego Pablo</td>\n",
       "    </tr>\n",
       "    <tr>\n",
       "      <th>42</th>\n",
       "      <td>35</td>\n",
       "      <td>69</td>\n",
       "      <td>1</td>\n",
       "      <td>ELOSEGUI Iñigo</td>\n",
       "    </tr>\n",
       "  </tbody>\n",
       "</table>\n",
       "</div>"
      ],
      "text/plain": [
       "     Career points▲▼  Weight▲▼  cluster                     Rider\n",
       "165                5        62        1  ZURITA Ricardo Alejandro\n",
       "41                23        58        1             EL GOUZI Omar\n",
       "34                31        73        1              DAVY Clément\n",
       "126               31        64        1       SEVILLA Diego Pablo\n",
       "42                35        69        1            ELOSEGUI Iñigo"
      ]
     },
     "execution_count": 134,
     "metadata": {},
     "output_type": "execute_result"
    }
   ],
   "source": [
    "clusters = X.copy()\n",
    "clusters['cluster'] = kmeans.labels_\n",
    "clusters['Rider'] = stats.loc[X.index]['Rider']\n",
    "clusters.head()"
   ]
  },
  {
   "cell_type": "code",
   "execution_count": 135,
   "metadata": {},
   "outputs": [
    {
     "data": {
      "image/png": "[encoded data removed]",
      "text/plain": [
       "<Figure size 402.375x360 with 1 Axes>"
      ]
     },
     "metadata": {
      "needs_background": "light"
     },
     "output_type": "display_data"
    }
   ],
   "source": [
    "sns.catplot(x='Career points▲▼',\n",
    "            y='Weight▲▼',\n",
    "            data=clusters[['Career points▲▼', 'Weight▲▼', 'cluster']],\n",
    "            hue='cluster')\n",
    "\n",
    "#df_clusters_groupby = clusters.groupby('cluster').first()\n",
    "#for i, x in df_clusters_groupby.iterrows():\n",
    "#    plt.text(x=x['Height▲▼'], y=x['Weight▲▼'], s=x['Rider'])\n",
    "\n",
    "plt.xticks(rotation=90)\n",
    "plt.show()"
   ]
  },
  {
   "cell_type": "markdown",
   "metadata": {},
   "source": [
    "### Model with all features (kpis) with 3 classes (low, intermediate, high)"
   ]
  },
  {
   "cell_type": "code",
   "execution_count": 137,
   "metadata": {},
   "outputs": [],
   "source": [
    "X = stats[['Career points▲▼', 'GC points▲▼', 'Classic points▲▼',\n",
    "       'TT points▲▼', 'Climbers points▲▼', 'Sprinters points▲▼', 'Height▲▼',\n",
    "       'Weight▲▼']]\n",
    "kmeans = KMeans(n_clusters=3, random_state=0).fit(X)\n",
    "\n",
    "clusters = stats[['Rider', 'Career points▲▼', 'GC points▲▼', 'Classic points▲▼',\n",
    "       'TT points▲▼', 'Climbers points▲▼', 'Sprinters points▲▼', 'Height▲▼',\n",
    "       'Weight▲▼']].copy()\n",
    "clusters['cluster'] = kmeans.labels_"
   ]
  },
  {
   "cell_type": "code",
   "execution_count": 141,
   "metadata": {},
   "outputs": [],
   "source": [
    "from sklearn.manifold import TSNE\n",
    "import plotly.express as px"
   ]
  },
  {
   "cell_type": "code",
   "execution_count": 153,
   "metadata": {},
   "outputs": [
    {
     "data": {
      "application/vnd.plotly.v1+json": {
       "config": {
        "plotlyServerURL": "https://plot.ly"
       },
       "data": [
        {
         "hovertemplate": "0=%{x}<br>1=%{y}<br>cluster=%{marker.color}<extra></extra>",
         "legendgroup": "",
         "marker": {
          "color": [
           0,
           0,
           0,
           0,
           0,
           0,
           0,
           0,
           0,
           0,
           0,
           0,
           1,
           0,
           0,
           0,
           1,
           0,
           0,
           1,
           0,
           0,
           0,
           0,
           0,
           0,
           0,
           0,
           1,
           0,
           0,
           0,
           0,
           0,
           1,
           0,
           0,
           0,
           0,
           0,
           0,
           0,
           0,
           0,
           0,
           0,
           1,
           0,
           0,
           1,
           0,
           0,
           0,
           0,
           2,
           0,
           0,
           0,
           0,
           0,
           0,
           0,
           0,
           0,
           0,
           0,
           0,
           0,
           0,
           0,
           0,
           0,
           0,
           2,
           1,
           0,
           0,
           0,
           0,
           0,
           0,
           1,
           0,
           0,
           0,
           0,
           1,
           0,
           0,
           0,
           0,
           0,
           0,
           1,
           0,
           0,
           0,
           0,
           0,
           0,
           0,
           0,
           0,
           0,
           0,
           1,
           0,
           0,
           0,
           1,
           0,
           0,
           0,
           0,
           0,
           0,
           2,
           0,
           0,
           0,
           0,
           0,
           0,
           0,
           0,
           0,
           1,
           0,
           0,
           1,
           0,
           0,
           0,
           0,
           0,
           0,
           0,
           0,
           0,
           0,
           1,
           0,
           1,
           2,
           0,
           1,
           0,
           0,
           0,
           0,
           0,
           1,
           0,
           0,
           0,
           0,
           1,
           0,
           0,
           0,
           0,
           0,
           0,
           0
          ],
          "coloraxis": "coloraxis",
          "symbol": "circle"
         },
         "mode": "markers",
         "name": "",
         "orientation": "v",
         "showlegend": false,
         "type": "scatter",
         "x": [
          -13.912323951721191,
          -6.482310771942139,
          4.912051677703857,
          7.942704677581787,
          -6.621797561645508,
          -18.10260581970215,
          -12.011322021484375,
          -14.198835372924805,
          4.742303371429443,
          -2.2747058868408203,
          10.373592376708984,
          -2.7731757164001465,
          16.75404930114746,
          -2.7354419231414795,
          7.964558124542236,
          9.079811096191406,
          14.166108131408691,
          13.9042387008667,
          -2.008052110671997,
          17.085819244384766,
          -12.207088470458984,
          9.378129959106445,
          -2.9189493656158447,
          7.005145072937012,
          6.874484062194824,
          -4.520761013031006,
          -16.710248947143555,
          4.105356216430664,
          12.091229438781738,
          9.609389305114746,
          -3.764791488647461,
          -14.05506706237793,
          -3.576118230819702,
          -16.821584701538086,
          15.281697273254395,
          7.678614139556885,
          0.31219640374183655,
          -3.03338623046875,
          -0.44817179441452026,
          -7.546861171722412,
          -18.282808303833008,
          -19.116296768188477,
          14.228606224060059,
          14.664103507995605,
          -11.225860595703125,
          -9.930315017700195,
          16.19745445251465,
          -3.658147096633911,
          3.3192451000213623,
          14.487479209899902,
          -10.621138572692871,
          12.34994888305664,
          3.44882869720459,
          2.958038806915283,
          18.859439849853516,
          -5.238966941833496,
          -2.832413673400879,
          -13.801453590393066,
          -14.91872501373291,
          4.979902267456055,
          2.6240525245666504,
          -1.201856017112732,
          6.614344596862793,
          1.1765717267990112,
          -1.1876169443130493,
          6.851064682006836,
          16.567100524902344,
          -5.219117641448975,
          -3.275247812271118,
          4.102182388305664,
          -1.5697238445281982,
          -16.7337646484375,
          0.541444718837738,
          17.159713745117188,
          17.81387710571289,
          9.37724781036377,
          -6.852517127990723,
          -9.422439575195312,
          -13.20023250579834,
          -15.689284324645996,
          -6.365818500518799,
          17.13511848449707,
          -17.54326629638672,
          -0.1591997593641281,
          9.173747062683105,
          -16.283418655395508,
          11.109050750732422,
          13.574481010437012,
          -2.9331772327423096,
          11.08853530883789,
          -13.244109153747559,
          0.011628244072198868,
          -13.349186897277832,
          13.626808166503906,
          -11.083968162536621,
          9.005478858947754,
          2.245598554611206,
          9.923258781433105,
          9.921046257019043,
          -10.117405891418457,
          0.9493963718414307,
          -3.7949204444885254,
          8.521047592163086,
          5.706029415130615,
          -4.734714984893799,
          17.566511154174805,
          9.556028366088867,
          -0.9217328429222107,
          -18.17217445373535,
          18.958253860473633,
          8.055397987365723,
          -1.58402419090271,
          10.400941848754883,
          3.5254294872283936,
          -8.955327987670898,
          -13.381257057189941,
          18.14316749572754,
          -6.3828864097595215,
          7.899580001831055,
          -8.518254280090332,
          -13.353793144226074,
          -14.129846572875977,
          10.728561401367188,
          -3.9375762939453125,
          -17.519540786743164,
          -11.716121673583984,
          13.473783493041992,
          7.65131139755249,
          -5.827103614807129,
          14.221213340759277,
          -3.9825761318206787,
          -3.4914040565490723,
          10.932058334350586,
          15.832269668579102,
          -16.154203414916992,
          -14.52924633026123,
          -1.7356137037277222,
          -15.432622909545898,
          8.48855972290039,
          -8.577775955200195,
          18.257179260253906,
          12.989155769348145,
          15.411285400390625,
          18.456769943237305,
          -14.383119583129883,
          13.024127006530762,
          5.690006732940674,
          -1.7501956224441528,
          -12.512434005737305,
          -4.894858360290527,
          -9.078792572021484,
          10.50121021270752,
          5.49632453918457,
          -15.051209449768066,
          -8.036163330078125,
          7.151931285858154,
          15.006299018859863,
          1.4516597986221313,
          -0.4429132640361786,
          3.058656930923462,
          -15.220661163330078,
          -11.415033340454102,
          -1.8538331985473633,
          -19.195858001708984
         ],
         "xaxis": "x",
         "y": [
          -4.53629732131958,
          -6.327415943145752,
          0.4402213990688324,
          5.5558271408081055,
          -3.4704623222351074,
          -15.34841537475586,
          -15.987823486328125,
          -11.709410667419434,
          8.180631637573242,
          -5.324460983276367,
          3.1825404167175293,
          3.168781042098999,
          14.070528030395508,
          8.391225814819336,
          9.752191543579102,
          2.1282947063446045,
          15.044819831848145,
          4.833556652069092,
          7.5150065422058105,
          8.002103805541992,
          -14.942315101623535,
          -0.02965642511844635,
          4.2910661697387695,
          0.11758147925138474,
          6.2256083488464355,
          -6.956025123596191,
          -15.190130233764648,
          3.5149102210998535,
          13.408588409423828,
          4.14600133895874,
          -4.199117183685303,
          -17.752294540405273,
          3.4719138145446777,
          -17.30406951904297,
          15.106791496276855,
          3.335352659225464,
          -5.069030284881592,
          7.407168865203857,
          7.196885585784912,
          -12.720438957214355,
          -17.114025115966797,
          -14.558955192565918,
          6.943976879119873,
          4.492909908294678,
          -14.080358505249023,
          -8.601506233215332,
          9.584532737731934,
          7.935103416442871,
          0.23070389032363892,
          9.801009178161621,
          -12.68524169921875,
          5.269262313842773,
          -0.8541723489761353,
          -4.761240005493164,
          15.841572761535645,
          -3.645251512527466,
          -4.615270137786865,
          -15.28349494934082,
          -14.676129341125488,
          8.913117408752441,
          -2.055377244949341,
          -7.363120079040527,
          4.64169979095459,
          0.010923100635409355,
          -2.818218469619751,
          10.00382137298584,
          5.943447113037109,
          -11.122432708740234,
          -9.050040245056152,
          -3.787411689758301,
          3.810753345489502,
          -12.97887134552002,
          6.533990859985352,
          15.721394538879395,
          11.307482719421387,
          9.29162311553955,
          -8.840862274169922,
          -12.143760681152344,
          -10.500282287597656,
          -11.853877067565918,
          -10.08624267578125,
          12.776397705078125,
          -14.436084747314453,
          4.734811305999756,
          11.59417724609375,
          -16.200069427490234,
          13.61001968383789,
          6.014763832092285,
          -7.260861873626709,
          4.9078898429870605,
          -4.869328022003174,
          -3.2375590801239014,
          -12.33460521697998,
          13.980238914489746,
          -9.124281883239746,
          6.331628322601318,
          -0.579098641872406,
          10.570939064025879,
          8.007686614990234,
          -10.179458618164062,
          -1.1506139039993286,
          -5.132140636444092,
          10.63760757446289,
          5.882421016693115,
          -3.2878222465515137,
          9.3460693359375,
          1.0109210014343262,
          -4.094766616821289,
          -13.456693649291992,
          11.015756607055664,
          0.9056774377822876,
          -2.5220260620117188,
          7.015382289886475,
          2.2387876510620117,
          -9.957645416259766,
          -13.8740873336792,
          16.50084686279297,
          -11.257318496704102,
          7.366620063781738,
          -8.033819198608398,
          -6.511364459991455,
          -5.7789082527160645,
          9.073556900024414,
          -1.189756155014038,
          -16.212251663208008,
          -11.738065719604492,
          8.936994552612305,
          3.305053949356079,
          -7.02302885055542,
          10.721298217773438,
          2.3553953170776367,
          -6.142303943634033,
          11.186906814575195,
          6.074255466461182,
          -14.212432861328125,
          -13.127352714538574,
          4.755128860473633,
          -13.282134056091309,
          4.691349506378174,
          -11.651766777038574,
          12.025297164916992,
          7.03571081161499,
          10.974302291870117,
          15.237077713012695,
          -10.42644214630127,
          9.917292594909668,
          4.067885398864746,
          8.758219718933105,
          -12.899857521057129,
          -8.445767402648926,
          -13.12913990020752,
          12.63685131072998,
          1.8321137428283691,
          -18.509300231933594,
          -9.919540405273438,
          1.6273000240325928,
          14.433296203613281,
          -2.027596950531006,
          -6.397093296051025,
          -3.837718963623047,
          -15.84866714477539,
          -10.847217559814453,
          -6.03192138671875,
          -16.03105354309082
         ],
         "yaxis": "y"
        }
       ],
       "layout": {
        "coloraxis": {
         "colorbar": {
          "title": {
           "text": "cluster"
          }
         },
         "colorscale": [
          [
           0,
           "#0d0887"
          ],
          [
           0.1111111111111111,
           "#46039f"
          ],
          [
           0.2222222222222222,
           "#7201a8"
          ],
          [
           0.3333333333333333,
           "#9c179e"
          ],
          [
           0.4444444444444444,
           "#bd3786"
          ],
          [
           0.5555555555555556,
           "#d8576b"
          ],
          [
           0.6666666666666666,
           "#ed7953"
          ],
          [
           0.7777777777777778,
           "#fb9f3a"
          ],
          [
           0.8888888888888888,
           "#fdca26"
          ],
          [
           1,
           "#f0f921"
          ]
         ]
        },
        "legend": {
         "tracegroupgap": 0
        },
        "margin": {
         "t": 60
        },
        "template": {
         "data": {
          "bar": [
           {
            "error_x": {
             "color": "#2a3f5f"
            },
            "error_y": {
             "color": "#2a3f5f"
            },
            "marker": {
             "line": {
              "color": "#E5ECF6",
              "width": 0.5
             }
            },
            "type": "bar"
           }
          ],
          "barpolar": [
           {
            "marker": {
             "line": {
              "color": "#E5ECF6",
              "width": 0.5
             }
            },
            "type": "barpolar"
           }
          ],
          "carpet": [
           {
            "aaxis": {
             "endlinecolor": "#2a3f5f",
             "gridcolor": "white",
             "linecolor": "white",
             "minorgridcolor": "white",
             "startlinecolor": "#2a3f5f"
            },
            "baxis": {
             "endlinecolor": "#2a3f5f",
             "gridcolor": "white",
             "linecolor": "white",
             "minorgridcolor": "white",
             "startlinecolor": "#2a3f5f"
            },
            "type": "carpet"
           }
          ],
          "choropleth": [
           {
            "colorbar": {
             "outlinewidth": 0,
             "ticks": ""
            },
            "type": "choropleth"
           }
          ],
          "contour": [
           {
            "colorbar": {
             "outlinewidth": 0,
             "ticks": ""
            },
            "colorscale": [
             [
              0,
              "#0d0887"
             ],
             [
              0.1111111111111111,
              "#46039f"
             ],
             [
              0.2222222222222222,
              "#7201a8"
             ],
             [
              0.3333333333333333,
              "#9c179e"
             ],
             [
              0.4444444444444444,
              "#bd3786"
             ],
             [
              0.5555555555555556,
              "#d8576b"
             ],
             [
              0.6666666666666666,
              "#ed7953"
             ],
             [
              0.7777777777777778,
              "#fb9f3a"
             ],
             [
              0.8888888888888888,
              "#fdca26"
             ],
             [
              1,
              "#f0f921"
             ]
            ],
            "type": "contour"
           }
          ],
          "contourcarpet": [
           {
            "colorbar": {
             "outlinewidth": 0,
             "ticks": ""
            },
            "type": "contourcarpet"
           }
          ],
          "heatmap": [
           {
            "colorbar": {
             "outlinewidth": 0,
             "ticks": ""
            },
            "colorscale": [
             [
              0,
              "#0d0887"
             ],
             [
              0.1111111111111111,
              "#46039f"
             ],
             [
              0.2222222222222222,
              "#7201a8"
             ],
             [
              0.3333333333333333,
              "#9c179e"
             ],
             [
              0.4444444444444444,
              "#bd3786"
             ],
             [
              0.5555555555555556,
              "#d8576b"
             ],
             [
              0.6666666666666666,
              "#ed7953"
             ],
             [
              0.7777777777777778,
              "#fb9f3a"
             ],
             [
              0.8888888888888888,
              "#fdca26"
             ],
             [
              1,
              "#f0f921"
             ]
            ],
            "type": "heatmap"
           }
          ],
          "heatmapgl": [
           {
            "colorbar": {
             "outlinewidth": 0,
             "ticks": ""
            },
            "colorscale": [
             [
              0,
              "#0d0887"
             ],
             [
              0.1111111111111111,
              "#46039f"
             ],
             [
              0.2222222222222222,
              "#7201a8"
             ],
             [
              0.3333333333333333,
              "#9c179e"
             ],
             [
              0.4444444444444444,
              "#bd3786"
             ],
             [
              0.5555555555555556,
              "#d8576b"
             ],
             [
              0.6666666666666666,
              "#ed7953"
             ],
             [
              0.7777777777777778,
              "#fb9f3a"
             ],
             [
              0.8888888888888888,
              "#fdca26"
             ],
             [
              1,
              "#f0f921"
             ]
            ],
            "type": "heatmapgl"
           }
          ],
          "histogram": [
           {
            "marker": {
             "colorbar": {
              "outlinewidth": 0,
              "ticks": ""
             }
            },
            "type": "histogram"
           }
          ],
          "histogram2d": [
           {
            "colorbar": {
             "outlinewidth": 0,
             "ticks": ""
            },
            "colorscale": [
             [
              0,
              "#0d0887"
             ],
             [
              0.1111111111111111,
              "#46039f"
             ],
             [
              0.2222222222222222,
              "#7201a8"
             ],
             [
              0.3333333333333333,
              "#9c179e"
             ],
             [
              0.4444444444444444,
              "#bd3786"
             ],
             [
              0.5555555555555556,
              "#d8576b"
             ],
             [
              0.6666666666666666,
              "#ed7953"
             ],
             [
              0.7777777777777778,
              "#fb9f3a"
             ],
             [
              0.8888888888888888,
              "#fdca26"
             ],
             [
              1,
              "#f0f921"
             ]
            ],
            "type": "histogram2d"
           }
          ],
          "histogram2dcontour": [
           {
            "colorbar": {
             "outlinewidth": 0,
             "ticks": ""
            },
            "colorscale": [
             [
              0,
              "#0d0887"
             ],
             [
              0.1111111111111111,
              "#46039f"
             ],
             [
              0.2222222222222222,
              "#7201a8"
             ],
             [
              0.3333333333333333,
              "#9c179e"
             ],
             [
              0.4444444444444444,
              "#bd3786"
             ],
             [
              0.5555555555555556,
              "#d8576b"
             ],
             [
              0.6666666666666666,
              "#ed7953"
             ],
             [
              0.7777777777777778,
              "#fb9f3a"
             ],
             [
              0.8888888888888888,
              "#fdca26"
             ],
             [
              1,
              "#f0f921"
             ]
            ],
            "type": "histogram2dcontour"
           }
          ],
          "mesh3d": [
           {
            "colorbar": {
             "outlinewidth": 0,
             "ticks": ""
            },
            "type": "mesh3d"
           }
          ],
          "parcoords": [
           {
            "line": {
             "colorbar": {
              "outlinewidth": 0,
              "ticks": ""
             }
            },
            "type": "parcoords"
           }
          ],
          "pie": [
           {
            "automargin": true,
            "type": "pie"
           }
          ],
          "scatter": [
           {
            "marker": {
             "colorbar": {
              "outlinewidth": 0,
              "ticks": ""
             }
            },
            "type": "scatter"
           }
          ],
          "scatter3d": [
           {
            "line": {
             "colorbar": {
              "outlinewidth": 0,
              "ticks": ""
             }
            },
            "marker": {
             "colorbar": {
              "outlinewidth": 0,
              "ticks": ""
             }
            },
            "type": "scatter3d"
           }
          ],
          "scattercarpet": [
           {
            "marker": {
             "colorbar": {
              "outlinewidth": 0,
              "ticks": ""
             }
            },
            "type": "scattercarpet"
           }
          ],
          "scattergeo": [
           {
            "marker": {
             "colorbar": {
              "outlinewidth": 0,
              "ticks": ""
             }
            },
            "type": "scattergeo"
           }
          ],
          "scattergl": [
           {
            "marker": {
             "colorbar": {
              "outlinewidth": 0,
              "ticks": ""
             }
            },
            "type": "scattergl"
           }
          ],
          "scattermapbox": [
           {
            "marker": {
             "colorbar": {
              "outlinewidth": 0,
              "ticks": ""
             }
            },
            "type": "scattermapbox"
           }
          ],
          "scatterpolar": [
           {
            "marker": {
             "colorbar": {
              "outlinewidth": 0,
              "ticks": ""
             }
            },
            "type": "scatterpolar"
           }
          ],
          "scatterpolargl": [
           {
            "marker": {
             "colorbar": {
              "outlinewidth": 0,
              "ticks": ""
             }
            },
            "type": "scatterpolargl"
           }
          ],
          "scatterternary": [
           {
            "marker": {
             "colorbar": {
              "outlinewidth": 0,
              "ticks": ""
             }
            },
            "type": "scatterternary"
           }
          ],
          "surface": [
           {
            "colorbar": {
             "outlinewidth": 0,
             "ticks": ""
            },
            "colorscale": [
             [
              0,
              "#0d0887"
             ],
             [
              0.1111111111111111,
              "#46039f"
             ],
             [
              0.2222222222222222,
              "#7201a8"
             ],
             [
              0.3333333333333333,
              "#9c179e"
             ],
             [
              0.4444444444444444,
              "#bd3786"
             ],
             [
              0.5555555555555556,
              "#d8576b"
             ],
             [
              0.6666666666666666,
              "#ed7953"
             ],
             [
              0.7777777777777778,
              "#fb9f3a"
             ],
             [
              0.8888888888888888,
              "#fdca26"
             ],
             [
              1,
              "#f0f921"
             ]
            ],
            "type": "surface"
           }
          ],
          "table": [
           {
            "cells": {
             "fill": {
              "color": "#EBF0F8"
             },
             "line": {
              "color": "white"
             }
            },
            "header": {
             "fill": {
              "color": "#C8D4E3"
             },
             "line": {
              "color": "white"
             }
            },
            "type": "table"
           }
          ]
         },
         "layout": {
          "annotationdefaults": {
           "arrowcolor": "#2a3f5f",
           "arrowhead": 0,
           "arrowwidth": 1
          },
          "autotypenumbers": "strict",
          "coloraxis": {
           "colorbar": {
            "outlinewidth": 0,
            "ticks": ""
           }
          },
          "colorscale": {
           "diverging": [
            [
             0,
             "#8e0152"
            ],
            [
             0.1,
             "#c51b7d"
            ],
            [
             0.2,
             "#de77ae"
            ],
            [
             0.3,
             "#f1b6da"
            ],
            [
             0.4,
             "#fde0ef"
            ],
            [
             0.5,
             "#f7f7f7"
            ],
            [
             0.6,
             "#e6f5d0"
            ],
            [
             0.7,
             "#b8e186"
            ],
            [
             0.8,
             "#7fbc41"
            ],
            [
             0.9,
             "#4d9221"
            ],
            [
             1,
             "#276419"
            ]
           ],
           "sequential": [
            [
             0,
             "#0d0887"
            ],
            [
             0.1111111111111111,
             "#46039f"
            ],
            [
             0.2222222222222222,
             "#7201a8"
            ],
            [
             0.3333333333333333,
             "#9c179e"
            ],
            [
             0.4444444444444444,
             "#bd3786"
            ],
            [
             0.5555555555555556,
             "#d8576b"
            ],
            [
             0.6666666666666666,
             "#ed7953"
            ],
            [
             0.7777777777777778,
             "#fb9f3a"
            ],
            [
             0.8888888888888888,
             "#fdca26"
            ],
            [
             1,
             "#f0f921"
            ]
           ],
           "sequentialminus": [
            [
             0,
             "#0d0887"
            ],
            [
             0.1111111111111111,
             "#46039f"
            ],
            [
             0.2222222222222222,
             "#7201a8"
            ],
            [
             0.3333333333333333,
             "#9c179e"
            ],
            [
             0.4444444444444444,
             "#bd3786"
            ],
            [
             0.5555555555555556,
             "#d8576b"
            ],
            [
             0.6666666666666666,
             "#ed7953"
            ],
            [
             0.7777777777777778,
             "#fb9f3a"
            ],
            [
             0.8888888888888888,
             "#fdca26"
            ],
            [
             1,
             "#f0f921"
            ]
           ]
          },
          "colorway": [
           "#636efa",
           "#EF553B",
           "#00cc96",
           "#ab63fa",
           "#FFA15A",
           "#19d3f3",
           "#FF6692",
           "#B6E880",
           "#FF97FF",
           "#FECB52"
          ],
          "font": {
           "color": "#2a3f5f"
          },
          "geo": {
           "bgcolor": "white",
           "lakecolor": "white",
           "landcolor": "#E5ECF6",
           "showlakes": true,
           "showland": true,
           "subunitcolor": "white"
          },
          "hoverlabel": {
           "align": "left"
          },
          "hovermode": "closest",
          "mapbox": {
           "style": "light"
          },
          "paper_bgcolor": "white",
          "plot_bgcolor": "#E5ECF6",
          "polar": {
           "angularaxis": {
            "gridcolor": "white",
            "linecolor": "white",
            "ticks": ""
           },
           "bgcolor": "#E5ECF6",
           "radialaxis": {
            "gridcolor": "white",
            "linecolor": "white",
            "ticks": ""
           }
          },
          "scene": {
           "xaxis": {
            "backgroundcolor": "#E5ECF6",
            "gridcolor": "white",
            "gridwidth": 2,
            "linecolor": "white",
            "showbackground": true,
            "ticks": "",
            "zerolinecolor": "white"
           },
           "yaxis": {
            "backgroundcolor": "#E5ECF6",
            "gridcolor": "white",
            "gridwidth": 2,
            "linecolor": "white",
            "showbackground": true,
            "ticks": "",
            "zerolinecolor": "white"
           },
           "zaxis": {
            "backgroundcolor": "#E5ECF6",
            "gridcolor": "white",
            "gridwidth": 2,
            "linecolor": "white",
            "showbackground": true,
            "ticks": "",
            "zerolinecolor": "white"
           }
          },
          "shapedefaults": {
           "line": {
            "color": "#2a3f5f"
           }
          },
          "ternary": {
           "aaxis": {
            "gridcolor": "white",
            "linecolor": "white",
            "ticks": ""
           },
           "baxis": {
            "gridcolor": "white",
            "linecolor": "white",
            "ticks": ""
           },
           "bgcolor": "#E5ECF6",
           "caxis": {
            "gridcolor": "white",
            "linecolor": "white",
            "ticks": ""
           }
          },
          "title": {
           "x": 0.05
          },
          "xaxis": {
           "automargin": true,
           "gridcolor": "white",
           "linecolor": "white",
           "ticks": "",
           "title": {
            "standoff": 15
           },
           "zerolinecolor": "white",
           "zerolinewidth": 2
          },
          "yaxis": {
           "automargin": true,
           "gridcolor": "white",
           "linecolor": "white",
           "ticks": "",
           "title": {
            "standoff": 15
           },
           "zerolinecolor": "white",
           "zerolinewidth": 2
          }
         }
        },
        "xaxis": {
         "anchor": "y",
         "domain": [
          0,
          1
         ],
         "title": {
          "text": "0"
         }
        },
        "yaxis": {
         "anchor": "x",
         "domain": [
          0,
          1
         ],
         "title": {
          "text": "1"
         }
        }
       }
      },
      "text/html": [
       "<div>                            <div id=\"8b622d60-24b4-4edd-8cb6-0bb1265944c8\" class=\"plotly-graph-div\" style=\"height:525px; width:100%;\"></div>            <script type=\"text/javascript\">                require([\"plotly\"], function(Plotly) {                    window.PLOTLYENV=window.PLOTLYENV || {};                                    if (document.getElementById(\"8b622d60-24b4-4edd-8cb6-0bb1265944c8\")) {                    Plotly.newPlot(                        \"8b622d60-24b4-4edd-8cb6-0bb1265944c8\",                        [{\"hovertemplate\": \"0=%{x}<br>1=%{y}<br>cluster=%{marker.color}<extra></extra>\", \"legendgroup\": \"\", \"marker\": {\"color\": [0, 0, 0, 0, 0, 0, 0, 0, 0, 0, 0, 0, 1, 0, 0, 0, 1, 0, 0, 1, 0, 0, 0, 0, 0, 0, 0, 0, 1, 0, 0, 0, 0, 0, 1, 0, 0, 0, 0, 0, 0, 0, 0, 0, 0, 0, 1, 0, 0, 1, 0, 0, 0, 0, 2, 0, 0, 0, 0, 0, 0, 0, 0, 0, 0, 0, 0, 0, 0, 0, 0, 0, 0, 2, 1, 0, 0, 0, 0, 0, 0, 1, 0, 0, 0, 0, 1, 0, 0, 0, 0, 0, 0, 1, 0, 0, 0, 0, 0, 0, 0, 0, 0, 0, 0, 1, 0, 0, 0, 1, 0, 0, 0, 0, 0, 0, 2, 0, 0, 0, 0, 0, 0, 0, 0, 0, 1, 0, 0, 1, 0, 0, 0, 0, 0, 0, 0, 0, 0, 0, 1, 0, 1, 2, 0, 1, 0, 0, 0, 0, 0, 1, 0, 0, 0, 0, 1, 0, 0, 0, 0, 0, 0, 0], \"coloraxis\": \"coloraxis\", \"symbol\": \"circle\"}, \"mode\": \"markers\", \"name\": \"\", \"orientation\": \"v\", \"showlegend\": false, \"type\": \"scatter\", \"x\": [-13.912323951721191, -6.482310771942139, 4.912051677703857, 7.942704677581787, -6.621797561645508, -18.10260581970215, -12.011322021484375, -14.198835372924805, 4.742303371429443, -2.2747058868408203, 10.373592376708984, -2.7731757164001465, 16.75404930114746, -2.7354419231414795, 7.964558124542236, 9.079811096191406, 14.166108131408691, 13.9042387008667, -2.008052110671997, 17.085819244384766, -12.207088470458984, 9.378129959106445, -2.9189493656158447, 7.005145072937012, 6.874484062194824, -4.520761013031006, -16.710248947143555, 4.105356216430664, 12.091229438781738, 9.609389305114746, -3.764791488647461, -14.05506706237793, -3.576118230819702, -16.821584701538086, 15.281697273254395, 7.678614139556885, 0.31219640374183655, -3.03338623046875, -0.44817179441452026, -7.546861171722412, -18.282808303833008, -19.116296768188477, 14.228606224060059, 14.664103507995605, -11.225860595703125, -9.930315017700195, 16.19745445251465, -3.658147096633911, 3.3192451000213623, 14.487479209899902, -10.621138572692871, 12.34994888305664, 3.44882869720459, 2.958038806915283, 18.859439849853516, -5.238966941833496, -2.832413673400879, -13.801453590393066, -14.91872501373291, 4.979902267456055, 2.6240525245666504, -1.201856017112732, 6.614344596862793, 1.1765717267990112, -1.1876169443130493, 6.851064682006836, 16.567100524902344, -5.219117641448975, -3.275247812271118, 4.102182388305664, -1.5697238445281982, -16.7337646484375, 0.541444718837738, 17.159713745117188, 17.81387710571289, 9.37724781036377, -6.852517127990723, -9.422439575195312, -13.20023250579834, -15.689284324645996, -6.365818500518799, 17.13511848449707, -17.54326629638672, -0.1591997593641281, 9.173747062683105, -16.283418655395508, 11.109050750732422, 13.574481010437012, -2.9331772327423096, 11.08853530883789, -13.244109153747559, 0.011628244072198868, -13.349186897277832, 13.626808166503906, -11.083968162536621, 9.005478858947754, 2.245598554611206, 9.923258781433105, 9.921046257019043, -10.117405891418457, 0.9493963718414307, -3.7949204444885254, 8.521047592163086, 5.706029415130615, -4.734714984893799, 17.566511154174805, 9.556028366088867, -0.9217328429222107, -18.17217445373535, 18.958253860473633, 8.055397987365723, -1.58402419090271, 10.400941848754883, 3.5254294872283936, -8.955327987670898, -13.381257057189941, 18.14316749572754, -6.3828864097595215, 7.899580001831055, -8.518254280090332, -13.353793144226074, -14.129846572875977, 10.728561401367188, -3.9375762939453125, -17.519540786743164, -11.716121673583984, 13.473783493041992, 7.65131139755249, -5.827103614807129, 14.221213340759277, -3.9825761318206787, -3.4914040565490723, 10.932058334350586, 15.832269668579102, -16.154203414916992, -14.52924633026123, -1.7356137037277222, -15.432622909545898, 8.48855972290039, -8.577775955200195, 18.257179260253906, 12.989155769348145, 15.411285400390625, 18.456769943237305, -14.383119583129883, 13.024127006530762, 5.690006732940674, -1.7501956224441528, -12.512434005737305, -4.894858360290527, -9.078792572021484, 10.50121021270752, 5.49632453918457, -15.051209449768066, -8.036163330078125, 7.151931285858154, 15.006299018859863, 1.4516597986221313, -0.4429132640361786, 3.058656930923462, -15.220661163330078, -11.415033340454102, -1.8538331985473633, -19.195858001708984], \"xaxis\": \"x\", \"y\": [-4.53629732131958, -6.327415943145752, 0.4402213990688324, 5.5558271408081055, -3.4704623222351074, -15.34841537475586, -15.987823486328125, -11.709410667419434, 8.180631637573242, -5.324460983276367, 3.1825404167175293, 3.168781042098999, 14.070528030395508, 8.391225814819336, 9.752191543579102, 2.1282947063446045, 15.044819831848145, 4.833556652069092, 7.5150065422058105, 8.002103805541992, -14.942315101623535, -0.02965642511844635, 4.2910661697387695, 0.11758147925138474, 6.2256083488464355, -6.956025123596191, -15.190130233764648, 3.5149102210998535, 13.408588409423828, 4.14600133895874, -4.199117183685303, -17.752294540405273, 3.4719138145446777, -17.30406951904297, 15.106791496276855, 3.335352659225464, -5.069030284881592, 7.407168865203857, 7.196885585784912, -12.720438957214355, -17.114025115966797, -14.558955192565918, 6.943976879119873, 4.492909908294678, -14.080358505249023, -8.601506233215332, 9.584532737731934, 7.935103416442871, 0.23070389032363892, 9.801009178161621, -12.68524169921875, 5.269262313842773, -0.8541723489761353, -4.761240005493164, 15.841572761535645, -3.645251512527466, -4.615270137786865, -15.28349494934082, -14.676129341125488, 8.913117408752441, -2.055377244949341, -7.363120079040527, 4.64169979095459, 0.010923100635409355, -2.818218469619751, 10.00382137298584, 5.943447113037109, -11.122432708740234, -9.050040245056152, -3.787411689758301, 3.810753345489502, -12.97887134552002, 6.533990859985352, 15.721394538879395, 11.307482719421387, 9.29162311553955, -8.840862274169922, -12.143760681152344, -10.500282287597656, -11.853877067565918, -10.08624267578125, 12.776397705078125, -14.436084747314453, 4.734811305999756, 11.59417724609375, -16.200069427490234, 13.61001968383789, 6.014763832092285, -7.260861873626709, 4.9078898429870605, -4.869328022003174, -3.2375590801239014, -12.33460521697998, 13.980238914489746, -9.124281883239746, 6.331628322601318, -0.579098641872406, 10.570939064025879, 8.007686614990234, -10.179458618164062, -1.1506139039993286, -5.132140636444092, 10.63760757446289, 5.882421016693115, -3.2878222465515137, 9.3460693359375, 1.0109210014343262, -4.094766616821289, -13.456693649291992, 11.015756607055664, 0.9056774377822876, -2.5220260620117188, 7.015382289886475, 2.2387876510620117, -9.957645416259766, -13.8740873336792, 16.50084686279297, -11.257318496704102, 7.366620063781738, -8.033819198608398, -6.511364459991455, -5.7789082527160645, 9.073556900024414, -1.189756155014038, -16.212251663208008, -11.738065719604492, 8.936994552612305, 3.305053949356079, -7.02302885055542, 10.721298217773438, 2.3553953170776367, -6.142303943634033, 11.186906814575195, 6.074255466461182, -14.212432861328125, -13.127352714538574, 4.755128860473633, -13.282134056091309, 4.691349506378174, -11.651766777038574, 12.025297164916992, 7.03571081161499, 10.974302291870117, 15.237077713012695, -10.42644214630127, 9.917292594909668, 4.067885398864746, 8.758219718933105, -12.899857521057129, -8.445767402648926, -13.12913990020752, 12.63685131072998, 1.8321137428283691, -18.509300231933594, -9.919540405273438, 1.6273000240325928, 14.433296203613281, -2.027596950531006, -6.397093296051025, -3.837718963623047, -15.84866714477539, -10.847217559814453, -6.03192138671875, -16.03105354309082], \"yaxis\": \"y\"}],                        {\"coloraxis\": {\"colorbar\": {\"title\": {\"text\": \"cluster\"}}, \"colorscale\": [[0.0, \"#0d0887\"], [0.1111111111111111, \"#46039f\"], [0.2222222222222222, \"#7201a8\"], [0.3333333333333333, \"#9c179e\"], [0.4444444444444444, \"#bd3786\"], [0.5555555555555556, \"#d8576b\"], [0.6666666666666666, \"#ed7953\"], [0.7777777777777778, \"#fb9f3a\"], [0.8888888888888888, \"#fdca26\"], [1.0, \"#f0f921\"]]}, \"legend\": {\"tracegroupgap\": 0}, \"margin\": {\"t\": 60}, \"template\": {\"data\": {\"bar\": [{\"error_x\": {\"color\": \"#2a3f5f\"}, \"error_y\": {\"color\": \"#2a3f5f\"}, \"marker\": {\"line\": {\"color\": \"#E5ECF6\", \"width\": 0.5}}, \"type\": \"bar\"}], \"barpolar\": [{\"marker\": {\"line\": {\"color\": \"#E5ECF6\", \"width\": 0.5}}, \"type\": \"barpolar\"}], \"carpet\": [{\"aaxis\": {\"endlinecolor\": \"#2a3f5f\", \"gridcolor\": \"white\", \"linecolor\": \"white\", \"minorgridcolor\": \"white\", \"startlinecolor\": \"#2a3f5f\"}, \"baxis\": {\"endlinecolor\": \"#2a3f5f\", \"gridcolor\": \"white\", \"linecolor\": \"white\", \"minorgridcolor\": \"white\", \"startlinecolor\": \"#2a3f5f\"}, \"type\": \"carpet\"}], \"choropleth\": [{\"colorbar\": {\"outlinewidth\": 0, \"ticks\": \"\"}, \"type\": \"choropleth\"}], \"contour\": [{\"colorbar\": {\"outlinewidth\": 0, \"ticks\": \"\"}, \"colorscale\": [[0.0, \"#0d0887\"], [0.1111111111111111, \"#46039f\"], [0.2222222222222222, \"#7201a8\"], [0.3333333333333333, \"#9c179e\"], [0.4444444444444444, \"#bd3786\"], [0.5555555555555556, \"#d8576b\"], [0.6666666666666666, \"#ed7953\"], [0.7777777777777778, \"#fb9f3a\"], [0.8888888888888888, \"#fdca26\"], [1.0, \"#f0f921\"]], \"type\": \"contour\"}], \"contourcarpet\": [{\"colorbar\": {\"outlinewidth\": 0, \"ticks\": \"\"}, \"type\": \"contourcarpet\"}], \"heatmap\": [{\"colorbar\": {\"outlinewidth\": 0, \"ticks\": \"\"}, \"colorscale\": [[0.0, \"#0d0887\"], [0.1111111111111111, \"#46039f\"], [0.2222222222222222, \"#7201a8\"], [0.3333333333333333, \"#9c179e\"], [0.4444444444444444, \"#bd3786\"], [0.5555555555555556, \"#d8576b\"], [0.6666666666666666, \"#ed7953\"], [0.7777777777777778, \"#fb9f3a\"], [0.8888888888888888, \"#fdca26\"], [1.0, \"#f0f921\"]], \"type\": \"heatmap\"}], \"heatmapgl\": [{\"colorbar\": {\"outlinewidth\": 0, \"ticks\": \"\"}, \"colorscale\": [[0.0, \"#0d0887\"], [0.1111111111111111, \"#46039f\"], [0.2222222222222222, \"#7201a8\"], [0.3333333333333333, \"#9c179e\"], [0.4444444444444444, \"#bd3786\"], [0.5555555555555556, \"#d8576b\"], [0.6666666666666666, \"#ed7953\"], [0.7777777777777778, \"#fb9f3a\"], [0.8888888888888888, \"#fdca26\"], [1.0, \"#f0f921\"]], \"type\": \"heatmapgl\"}], \"histogram\": [{\"marker\": {\"colorbar\": {\"outlinewidth\": 0, \"ticks\": \"\"}}, \"type\": \"histogram\"}], \"histogram2d\": [{\"colorbar\": {\"outlinewidth\": 0, \"ticks\": \"\"}, \"colorscale\": [[0.0, \"#0d0887\"], [0.1111111111111111, \"#46039f\"], [0.2222222222222222, \"#7201a8\"], [0.3333333333333333, \"#9c179e\"], [0.4444444444444444, \"#bd3786\"], [0.5555555555555556, \"#d8576b\"], [0.6666666666666666, \"#ed7953\"], [0.7777777777777778, \"#fb9f3a\"], [0.8888888888888888, \"#fdca26\"], [1.0, \"#f0f921\"]], \"type\": \"histogram2d\"}], \"histogram2dcontour\": [{\"colorbar\": {\"outlinewidth\": 0, \"ticks\": \"\"}, \"colorscale\": [[0.0, \"#0d0887\"], [0.1111111111111111, \"#46039f\"], [0.2222222222222222, \"#7201a8\"], [0.3333333333333333, \"#9c179e\"], [0.4444444444444444, \"#bd3786\"], [0.5555555555555556, \"#d8576b\"], [0.6666666666666666, \"#ed7953\"], [0.7777777777777778, \"#fb9f3a\"], [0.8888888888888888, \"#fdca26\"], [1.0, \"#f0f921\"]], \"type\": \"histogram2dcontour\"}], \"mesh3d\": [{\"colorbar\": {\"outlinewidth\": 0, \"ticks\": \"\"}, \"type\": \"mesh3d\"}], \"parcoords\": [{\"line\": {\"colorbar\": {\"outlinewidth\": 0, \"ticks\": \"\"}}, \"type\": \"parcoords\"}], \"pie\": [{\"automargin\": true, \"type\": \"pie\"}], \"scatter\": [{\"marker\": {\"colorbar\": {\"outlinewidth\": 0, \"ticks\": \"\"}}, \"type\": \"scatter\"}], \"scatter3d\": [{\"line\": {\"colorbar\": {\"outlinewidth\": 0, \"ticks\": \"\"}}, \"marker\": {\"colorbar\": {\"outlinewidth\": 0, \"ticks\": \"\"}}, \"type\": \"scatter3d\"}], \"scattercarpet\": [{\"marker\": {\"colorbar\": {\"outlinewidth\": 0, \"ticks\": \"\"}}, \"type\": \"scattercarpet\"}], \"scattergeo\": [{\"marker\": {\"colorbar\": {\"outlinewidth\": 0, \"ticks\": \"\"}}, \"type\": \"scattergeo\"}], \"scattergl\": [{\"marker\": {\"colorbar\": {\"outlinewidth\": 0, \"ticks\": \"\"}}, \"type\": \"scattergl\"}], \"scattermapbox\": [{\"marker\": {\"colorbar\": {\"outlinewidth\": 0, \"ticks\": \"\"}}, \"type\": \"scattermapbox\"}], \"scatterpolar\": [{\"marker\": {\"colorbar\": {\"outlinewidth\": 0, \"ticks\": \"\"}}, \"type\": \"scatterpolar\"}], \"scatterpolargl\": [{\"marker\": {\"colorbar\": {\"outlinewidth\": 0, \"ticks\": \"\"}}, \"type\": \"scatterpolargl\"}], \"scatterternary\": [{\"marker\": {\"colorbar\": {\"outlinewidth\": 0, \"ticks\": \"\"}}, \"type\": \"scatterternary\"}], \"surface\": [{\"colorbar\": {\"outlinewidth\": 0, \"ticks\": \"\"}, \"colorscale\": [[0.0, \"#0d0887\"], [0.1111111111111111, \"#46039f\"], [0.2222222222222222, \"#7201a8\"], [0.3333333333333333, \"#9c179e\"], [0.4444444444444444, \"#bd3786\"], [0.5555555555555556, \"#d8576b\"], [0.6666666666666666, \"#ed7953\"], [0.7777777777777778, \"#fb9f3a\"], [0.8888888888888888, \"#fdca26\"], [1.0, \"#f0f921\"]], \"type\": \"surface\"}], \"table\": [{\"cells\": {\"fill\": {\"color\": \"#EBF0F8\"}, \"line\": {\"color\": \"white\"}}, \"header\": {\"fill\": {\"color\": \"#C8D4E3\"}, \"line\": {\"color\": \"white\"}}, \"type\": \"table\"}]}, \"layout\": {\"annotationdefaults\": {\"arrowcolor\": \"#2a3f5f\", \"arrowhead\": 0, \"arrowwidth\": 1}, \"autotypenumbers\": \"strict\", \"coloraxis\": {\"colorbar\": {\"outlinewidth\": 0, \"ticks\": \"\"}}, \"colorscale\": {\"diverging\": [[0, \"#8e0152\"], [0.1, \"#c51b7d\"], [0.2, \"#de77ae\"], [0.3, \"#f1b6da\"], [0.4, \"#fde0ef\"], [0.5, \"#f7f7f7\"], [0.6, \"#e6f5d0\"], [0.7, \"#b8e186\"], [0.8, \"#7fbc41\"], [0.9, \"#4d9221\"], [1, \"#276419\"]], \"sequential\": [[0.0, \"#0d0887\"], [0.1111111111111111, \"#46039f\"], [0.2222222222222222, \"#7201a8\"], [0.3333333333333333, \"#9c179e\"], [0.4444444444444444, \"#bd3786\"], [0.5555555555555556, \"#d8576b\"], [0.6666666666666666, \"#ed7953\"], [0.7777777777777778, \"#fb9f3a\"], [0.8888888888888888, \"#fdca26\"], [1.0, \"#f0f921\"]], \"sequentialminus\": [[0.0, \"#0d0887\"], [0.1111111111111111, \"#46039f\"], [0.2222222222222222, \"#7201a8\"], [0.3333333333333333, \"#9c179e\"], [0.4444444444444444, \"#bd3786\"], [0.5555555555555556, \"#d8576b\"], [0.6666666666666666, \"#ed7953\"], [0.7777777777777778, \"#fb9f3a\"], [0.8888888888888888, \"#fdca26\"], [1.0, \"#f0f921\"]]}, \"colorway\": [\"#636efa\", \"#EF553B\", \"#00cc96\", \"#ab63fa\", \"#FFA15A\", \"#19d3f3\", \"#FF6692\", \"#B6E880\", \"#FF97FF\", \"#FECB52\"], \"font\": {\"color\": \"#2a3f5f\"}, \"geo\": {\"bgcolor\": \"white\", \"lakecolor\": \"white\", \"landcolor\": \"#E5ECF6\", \"showlakes\": true, \"showland\": true, \"subunitcolor\": \"white\"}, \"hoverlabel\": {\"align\": \"left\"}, \"hovermode\": \"closest\", \"mapbox\": {\"style\": \"light\"}, \"paper_bgcolor\": \"white\", \"plot_bgcolor\": \"#E5ECF6\", \"polar\": {\"angularaxis\": {\"gridcolor\": \"white\", \"linecolor\": \"white\", \"ticks\": \"\"}, \"bgcolor\": \"#E5ECF6\", \"radialaxis\": {\"gridcolor\": \"white\", \"linecolor\": \"white\", \"ticks\": \"\"}}, \"scene\": {\"xaxis\": {\"backgroundcolor\": \"#E5ECF6\", \"gridcolor\": \"white\", \"gridwidth\": 2, \"linecolor\": \"white\", \"showbackground\": true, \"ticks\": \"\", \"zerolinecolor\": \"white\"}, \"yaxis\": {\"backgroundcolor\": \"#E5ECF6\", \"gridcolor\": \"white\", \"gridwidth\": 2, \"linecolor\": \"white\", \"showbackground\": true, \"ticks\": \"\", \"zerolinecolor\": \"white\"}, \"zaxis\": {\"backgroundcolor\": \"#E5ECF6\", \"gridcolor\": \"white\", \"gridwidth\": 2, \"linecolor\": \"white\", \"showbackground\": true, \"ticks\": \"\", \"zerolinecolor\": \"white\"}}, \"shapedefaults\": {\"line\": {\"color\": \"#2a3f5f\"}}, \"ternary\": {\"aaxis\": {\"gridcolor\": \"white\", \"linecolor\": \"white\", \"ticks\": \"\"}, \"baxis\": {\"gridcolor\": \"white\", \"linecolor\": \"white\", \"ticks\": \"\"}, \"bgcolor\": \"#E5ECF6\", \"caxis\": {\"gridcolor\": \"white\", \"linecolor\": \"white\", \"ticks\": \"\"}}, \"title\": {\"x\": 0.05}, \"xaxis\": {\"automargin\": true, \"gridcolor\": \"white\", \"linecolor\": \"white\", \"ticks\": \"\", \"title\": {\"standoff\": 15}, \"zerolinecolor\": \"white\", \"zerolinewidth\": 2}, \"yaxis\": {\"automargin\": true, \"gridcolor\": \"white\", \"linecolor\": \"white\", \"ticks\": \"\", \"title\": {\"standoff\": 15}, \"zerolinecolor\": \"white\", \"zerolinewidth\": 2}}}, \"xaxis\": {\"anchor\": \"y\", \"domain\": [0.0, 1.0], \"title\": {\"text\": \"0\"}}, \"yaxis\": {\"anchor\": \"x\", \"domain\": [0.0, 1.0], \"title\": {\"text\": \"1\"}}},                        {\"responsive\": true}                    ).then(function(){\n",
       "                            \n",
       "var gd = document.getElementById('8b622d60-24b4-4edd-8cb6-0bb1265944c8');\n",
       "var x = new MutationObserver(function (mutations, observer) {{\n",
       "        var display = window.getComputedStyle(gd).display;\n",
       "        if (!display || display === 'none') {{\n",
       "            console.log([gd, 'removed!']);\n",
       "            Plotly.purge(gd);\n",
       "            observer.disconnect();\n",
       "        }}\n",
       "}});\n",
       "\n",
       "// Listen for the removal of the full notebook cells\n",
       "var notebookContainer = gd.closest('#notebook-container');\n",
       "if (notebookContainer) {{\n",
       "    x.observe(notebookContainer, {childList: true});\n",
       "}}\n",
       "\n",
       "// Listen for the clearing of the current output cell\n",
       "var outputEl = gd.closest('.output');\n",
       "if (outputEl) {{\n",
       "    x.observe(outputEl, {childList: true});\n",
       "}}\n",
       "\n",
       "                        })                };                });            </script>        </div>"
      ]
     },
     "metadata": {},
     "output_type": "display_data"
    }
   ],
   "source": [
    "features = clusters[['Career points▲▼', 'GC points▲▼', 'Classic points▲▼',\n",
    "       'TT points▲▼', 'Climbers points▲▼', 'Sprinters points▲▼', 'Height▲▼',\n",
    "       'Weight▲▼', 'cluster']]\n",
    "\n",
    "tsne = TSNE(n_components=2, random_state=0)\n",
    "projections = tsne.fit_transform(features)\n",
    "\n",
    "fig = px.scatter(\n",
    "    projections, x=0, y=1,\n",
    "    color=features.cluster, labels={'color': 'cluster'}\n",
    ")\n",
    "fig.show()"
   ]
  },
  {
   "cell_type": "code",
   "execution_count": 156,
   "metadata": {},
   "outputs": [
    {
     "data": {
      "text/html": [
       "<div>\n",
       "<style scoped>\n",
       "    .dataframe tbody tr th:only-of-type {\n",
       "        vertical-align: middle;\n",
       "    }\n",
       "\n",
       "    .dataframe tbody tr th {\n",
       "        vertical-align: top;\n",
       "    }\n",
       "\n",
       "    .dataframe thead th {\n",
       "        text-align: right;\n",
       "    }\n",
       "</style>\n",
       "<table border=\"1\" class=\"dataframe\">\n",
       "  <thead>\n",
       "    <tr style=\"text-align: right;\">\n",
       "      <th></th>\n",
       "      <th>Rider</th>\n",
       "      <th>Career points▲▼</th>\n",
       "      <th>GC points▲▼</th>\n",
       "      <th>Classic points▲▼</th>\n",
       "      <th>TT points▲▼</th>\n",
       "      <th>Climbers points▲▼</th>\n",
       "      <th>Sprinters points▲▼</th>\n",
       "      <th>Height▲▼</th>\n",
       "      <th>Weight▲▼</th>\n",
       "      <th>cluster</th>\n",
       "    </tr>\n",
       "  </thead>\n",
       "  <tbody>\n",
       "    <tr>\n",
       "      <th>0</th>\n",
       "      <td>AFFINI Edoardo</td>\n",
       "      <td>652</td>\n",
       "      <td>145</td>\n",
       "      <td>60</td>\n",
       "      <td>1087</td>\n",
       "      <td>7</td>\n",
       "      <td>136</td>\n",
       "      <td>1.92</td>\n",
       "      <td>80</td>\n",
       "      <td>0</td>\n",
       "    </tr>\n",
       "    <tr>\n",
       "      <th>1</th>\n",
       "      <td>ALBANESE Vincenzo</td>\n",
       "      <td>665</td>\n",
       "      <td>59</td>\n",
       "      <td>499</td>\n",
       "      <td>30</td>\n",
       "      <td>298</td>\n",
       "      <td>428</td>\n",
       "      <td>1.75</td>\n",
       "      <td>70</td>\n",
       "      <td>0</td>\n",
       "    </tr>\n",
       "    <tr>\n",
       "      <th>3</th>\n",
       "      <td>ARANBURU Alex</td>\n",
       "      <td>1681</td>\n",
       "      <td>303</td>\n",
       "      <td>807</td>\n",
       "      <td>190</td>\n",
       "      <td>1184</td>\n",
       "      <td>454</td>\n",
       "      <td>1.78</td>\n",
       "      <td>63</td>\n",
       "      <td>0</td>\n",
       "    </tr>\n",
       "    <tr>\n",
       "      <th>4</th>\n",
       "      <td>ARASHIRO Yukiya</td>\n",
       "      <td>2757</td>\n",
       "      <td>1166</td>\n",
       "      <td>1265</td>\n",
       "      <td>122</td>\n",
       "      <td>556</td>\n",
       "      <td>1178</td>\n",
       "      <td>1.70</td>\n",
       "      <td>64</td>\n",
       "      <td>0</td>\n",
       "    </tr>\n",
       "    <tr>\n",
       "      <th>13</th>\n",
       "      <td>BOASSON HAGEN Edvald</td>\n",
       "      <td>13495</td>\n",
       "      <td>3560</td>\n",
       "      <td>4083</td>\n",
       "      <td>2957</td>\n",
       "      <td>3482</td>\n",
       "      <td>6304</td>\n",
       "      <td>1.85</td>\n",
       "      <td>75</td>\n",
       "      <td>1</td>\n",
       "    </tr>\n",
       "    <tr>\n",
       "      <th>17</th>\n",
       "      <td>BOUHANNI Nacer</td>\n",
       "      <td>8708</td>\n",
       "      <td>462</td>\n",
       "      <td>4303</td>\n",
       "      <td>51</td>\n",
       "      <td>1376</td>\n",
       "      <td>8280</td>\n",
       "      <td>1.75</td>\n",
       "      <td>65</td>\n",
       "      <td>1</td>\n",
       "    </tr>\n",
       "    <tr>\n",
       "      <th>20</th>\n",
       "      <td>CARUSO Damiano</td>\n",
       "      <td>5792</td>\n",
       "      <td>3411</td>\n",
       "      <td>796</td>\n",
       "      <td>889</td>\n",
       "      <td>3977</td>\n",
       "      <td>636</td>\n",
       "      <td>1.79</td>\n",
       "      <td>67</td>\n",
       "      <td>1</td>\n",
       "    </tr>\n",
       "    <tr>\n",
       "      <th>29</th>\n",
       "      <td>COQUARD Bryan</td>\n",
       "      <td>5911</td>\n",
       "      <td>1017</td>\n",
       "      <td>2341</td>\n",
       "      <td>289</td>\n",
       "      <td>926</td>\n",
       "      <td>5354</td>\n",
       "      <td>1.71</td>\n",
       "      <td>59</td>\n",
       "      <td>1</td>\n",
       "    </tr>\n",
       "    <tr>\n",
       "      <th>56</th>\n",
       "      <td>GILBERT Philippe</td>\n",
       "      <td>20430</td>\n",
       "      <td>3960</td>\n",
       "      <td>12347</td>\n",
       "      <td>1423</td>\n",
       "      <td>6512</td>\n",
       "      <td>6093</td>\n",
       "      <td>1.78</td>\n",
       "      <td>75</td>\n",
       "      <td>2</td>\n",
       "    </tr>\n",
       "    <tr>\n",
       "      <th>75</th>\n",
       "      <td>KRISTOFF Alexander</td>\n",
       "      <td>16333</td>\n",
       "      <td>2086</td>\n",
       "      <td>8983</td>\n",
       "      <td>297</td>\n",
       "      <td>2418</td>\n",
       "      <td>9827</td>\n",
       "      <td>1.81</td>\n",
       "      <td>78</td>\n",
       "      <td>2</td>\n",
       "    </tr>\n",
       "    <tr>\n",
       "      <th>118</th>\n",
       "      <td>SAGAN Peter</td>\n",
       "      <td>22880</td>\n",
       "      <td>1681</td>\n",
       "      <td>9187</td>\n",
       "      <td>1301</td>\n",
       "      <td>7094</td>\n",
       "      <td>10792</td>\n",
       "      <td>1.82</td>\n",
       "      <td>78</td>\n",
       "      <td>2</td>\n",
       "    </tr>\n",
       "    <tr>\n",
       "      <th>145</th>\n",
       "      <td>VAN AVERMAET Greg</td>\n",
       "      <td>18534</td>\n",
       "      <td>3556</td>\n",
       "      <td>11192</td>\n",
       "      <td>574</td>\n",
       "      <td>7023</td>\n",
       "      <td>5510</td>\n",
       "      <td>1.81</td>\n",
       "      <td>74</td>\n",
       "      <td>2</td>\n",
       "    </tr>\n",
       "  </tbody>\n",
       "</table>\n",
       "</div>"
      ],
      "text/plain": [
       "                    Rider  Career points▲▼  GC points▲▼  Classic points▲▼  \\\n",
       "0          AFFINI Edoardo              652          145                60   \n",
       "1       ALBANESE Vincenzo              665           59               499   \n",
       "3           ARANBURU Alex             1681          303               807   \n",
       "4         ARASHIRO Yukiya             2757         1166              1265   \n",
       "13   BOASSON HAGEN Edvald            13495         3560              4083   \n",
       "17         BOUHANNI Nacer             8708          462              4303   \n",
       "20         CARUSO Damiano             5792         3411               796   \n",
       "29          COQUARD Bryan             5911         1017              2341   \n",
       "56       GILBERT Philippe            20430         3960             12347   \n",
       "75     KRISTOFF Alexander            16333         2086              8983   \n",
       "118           SAGAN Peter            22880         1681              9187   \n",
       "145     VAN AVERMAET Greg            18534         3556             11192   \n",
       "\n",
       "     TT points▲▼  Climbers points▲▼  Sprinters points▲▼  Height▲▼  Weight▲▼  \\\n",
       "0           1087                  7                 136      1.92        80   \n",
       "1             30                298                 428      1.75        70   \n",
       "3            190               1184                 454      1.78        63   \n",
       "4            122                556                1178      1.70        64   \n",
       "13          2957               3482                6304      1.85        75   \n",
       "17            51               1376                8280      1.75        65   \n",
       "20           889               3977                 636      1.79        67   \n",
       "29           289                926                5354      1.71        59   \n",
       "56          1423               6512                6093      1.78        75   \n",
       "75           297               2418                9827      1.81        78   \n",
       "118         1301               7094               10792      1.82        78   \n",
       "145          574               7023                5510      1.81        74   \n",
       "\n",
       "     cluster  \n",
       "0          0  \n",
       "1          0  \n",
       "3          0  \n",
       "4          0  \n",
       "13         1  \n",
       "17         1  \n",
       "20         1  \n",
       "29         1  \n",
       "56         2  \n",
       "75         2  \n",
       "118        2  \n",
       "145        2  "
      ]
     },
     "execution_count": 156,
     "metadata": {},
     "output_type": "execute_result"
    }
   ],
   "source": [
    "clusters.groupby('cluster').head(4)"
   ]
  },
  {
   "cell_type": "markdown",
   "metadata": {},
   "source": [
    "# Predict rider potential based on model"
   ]
  },
  {
   "cell_type": "code",
   "execution_count": null,
   "metadata": {},
   "outputs": [],
   "source": []
  },
  {
   "cell_type": "markdown",
   "metadata": {},
   "source": [
    "# Radar Chart"
   ]
  },
  {
   "cell_type": "code",
   "execution_count": null,
   "metadata": {},
   "outputs": [],
   "source": []
  }
 ],
 "metadata": {
  "kernelspec": {
   "display_name": "Python 3",
   "language": "python",
   "name": "python3"
  },
  "language_info": {
   "codemirror_mode": {
    "name": "ipython",
    "version": 3
   },
   "file_extension": ".py",
   "mimetype": "text/x-python",
   "name": "python",
   "nbconvert_exporter": "python",
   "pygments_lexer": "ipython3",
   "version": "3.7.3"
  }
 },
 "nbformat": 4,
 "nbformat_minor": 4
}
