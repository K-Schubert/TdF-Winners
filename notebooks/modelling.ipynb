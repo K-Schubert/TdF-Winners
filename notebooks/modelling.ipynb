{
 "cells": [
  {
   "cell_type": "code",
   "execution_count": 1,
   "metadata": {},
   "outputs": [],
   "source": [
    "import pandas as pd\n",
    "import numpy as np\n",
    "import re\n",
    "import glob\n",
    "import os\n",
    "import datetime\n",
    "import matplotlib.pyplot as plt"
   ]
  },
  {
   "cell_type": "markdown",
   "metadata": {},
   "source": [
    "### env variables"
   ]
  },
  {
   "cell_type": "code",
   "execution_count": 2,
   "metadata": {},
   "outputs": [],
   "source": [
    "BASE_PATH = '../data/pcs-scraping'\n",
    "RESULTS_PATH = '../data/pcs-scraping/results/rider'\n",
    "RANKINGS_PATH = '../data/pcs-scraping/pcs-rankings/rider'\n",
    "TEAMS_PATH = '../data/pcs-scraping/teams/rider'\n",
    "CALENDARS_PATH = '../data/pcs-scraping/calendars'\n",
    "STARTLISTS_PATH = '../data/pcs-scraping/startlists'\n",
    "RACERESULTS_PATH = '../data/pcs-scraping/race_results'"
   ]
  },
  {
   "cell_type": "markdown",
   "metadata": {},
   "source": [
    "### Load data"
   ]
  },
  {
   "cell_type": "code",
   "execution_count": 3,
   "metadata": {},
   "outputs": [],
   "source": [
    "rider_names = list(pd.read_csv('../data/pcs-scraping/rider_names.csv'))"
   ]
  },
  {
   "cell_type": "code",
   "execution_count": 4,
   "metadata": {},
   "outputs": [],
   "source": [
    "rider_name = rider_names[0]\n",
    "\n",
    "df_rider = {rider_name: {}}\n",
    "\n",
    "for file in glob.glob(os.path.join(RESULTS_PATH, rider_name, '*.csv')):\n",
    "    \n",
    "    year = re.search('\\d{4}', file).group(0)\n",
    "    df_rider[rider_name][year] = pd.read_csv(file)\n"
   ]
  },
  {
   "cell_type": "code",
   "execution_count": 5,
   "metadata": {},
   "outputs": [
    {
     "data": {
      "text/html": [
       "<div>\n",
       "<style scoped>\n",
       "    .dataframe tbody tr th:only-of-type {\n",
       "        vertical-align: middle;\n",
       "    }\n",
       "\n",
       "    .dataframe tbody tr th {\n",
       "        vertical-align: top;\n",
       "    }\n",
       "\n",
       "    .dataframe thead th {\n",
       "        text-align: right;\n",
       "    }\n",
       "</style>\n",
       "<table border=\"1\" class=\"dataframe\">\n",
       "  <thead>\n",
       "    <tr style=\"text-align: right;\">\n",
       "      <th></th>\n",
       "      <th>Date</th>\n",
       "      <th>Result</th>\n",
       "      <th>GC</th>\n",
       "      <th>Race</th>\n",
       "      <th>Distance</th>\n",
       "      <th>PointsPCS</th>\n",
       "      <th>PointsUCI</th>\n",
       "    </tr>\n",
       "  </thead>\n",
       "  <tbody>\n",
       "    <tr>\n",
       "      <th>0</th>\n",
       "      <td>09.10</td>\n",
       "      <td>1</td>\n",
       "      <td>NaN</td>\n",
       "      <td>Il Lombardia (1.UWT)</td>\n",
       "      <td>239.0</td>\n",
       "      <td>275.0</td>\n",
       "      <td>500.0</td>\n",
       "    </tr>\n",
       "    <tr>\n",
       "      <th>1</th>\n",
       "      <td>06.10</td>\n",
       "      <td>4</td>\n",
       "      <td>NaN</td>\n",
       "      <td>Milano - Torino (1.Pro)</td>\n",
       "      <td>190.0</td>\n",
       "      <td>50.0</td>\n",
       "      <td>100.0</td>\n",
       "    </tr>\n",
       "    <tr>\n",
       "      <th>2</th>\n",
       "      <td>05.10</td>\n",
       "      <td>3</td>\n",
       "      <td>NaN</td>\n",
       "      <td>Tre Valli Varesine (1.Pro)</td>\n",
       "      <td>196.7</td>\n",
       "      <td>60.0</td>\n",
       "      <td>125.0</td>\n",
       "    </tr>\n",
       "    <tr>\n",
       "      <th>3</th>\n",
       "      <td>02.10</td>\n",
       "      <td>DNF</td>\n",
       "      <td>NaN</td>\n",
       "      <td>Giro dell'Emilia (1.Pro)</td>\n",
       "      <td>195.3</td>\n",
       "      <td>NaN</td>\n",
       "      <td>NaN</td>\n",
       "    </tr>\n",
       "    <tr>\n",
       "      <th>4</th>\n",
       "      <td>26.09</td>\n",
       "      <td>37</td>\n",
       "      <td>NaN</td>\n",
       "      <td>World Championships - Road Race (WC)</td>\n",
       "      <td>268.3</td>\n",
       "      <td>15.0</td>\n",
       "      <td>10.0</td>\n",
       "    </tr>\n",
       "    <tr>\n",
       "      <th>...</th>\n",
       "      <td>...</td>\n",
       "      <td>...</td>\n",
       "      <td>...</td>\n",
       "      <td>...</td>\n",
       "      <td>...</td>\n",
       "      <td>...</td>\n",
       "      <td>...</td>\n",
       "    </tr>\n",
       "    <tr>\n",
       "      <th>79</th>\n",
       "      <td>25.02</td>\n",
       "      <td>2</td>\n",
       "      <td>1.0</td>\n",
       "      <td>Stage 5 - Fujairah Marine Club › Jebel Jais</td>\n",
       "      <td>170.0</td>\n",
       "      <td>20.0</td>\n",
       "      <td>15.0</td>\n",
       "    </tr>\n",
       "    <tr>\n",
       "      <th>80</th>\n",
       "      <td>24.02</td>\n",
       "      <td>20</td>\n",
       "      <td>1.0</td>\n",
       "      <td>Stage 4 - Al Marjan Island › Al Marjan Island</td>\n",
       "      <td>204.0</td>\n",
       "      <td>NaN</td>\n",
       "      <td>NaN</td>\n",
       "    </tr>\n",
       "    <tr>\n",
       "      <th>81</th>\n",
       "      <td>23.02</td>\n",
       "      <td>1</td>\n",
       "      <td>1.0</td>\n",
       "      <td>Stage 3 - Strata Manufactoring › Jebel Hafeet</td>\n",
       "      <td>166.0</td>\n",
       "      <td>35.0</td>\n",
       "      <td>40.0</td>\n",
       "    </tr>\n",
       "    <tr>\n",
       "      <th>82</th>\n",
       "      <td>22.02</td>\n",
       "      <td>4</td>\n",
       "      <td>1.0</td>\n",
       "      <td>Stage 2 (ITT) - Al Hudayriat Island › Al Huday...</td>\n",
       "      <td>13.0</td>\n",
       "      <td>9.0</td>\n",
       "      <td>NaN</td>\n",
       "    </tr>\n",
       "    <tr>\n",
       "      <th>83</th>\n",
       "      <td>21.02</td>\n",
       "      <td>6</td>\n",
       "      <td>5.0</td>\n",
       "      <td>Stage 1 - Al Dhafra Castle › Al Mirfa</td>\n",
       "      <td>176.0</td>\n",
       "      <td>5.0</td>\n",
       "      <td>NaN</td>\n",
       "    </tr>\n",
       "  </tbody>\n",
       "</table>\n",
       "<p>84 rows × 7 columns</p>\n",
       "</div>"
      ],
      "text/plain": [
       "     Date Result   GC                                               Race  \\\n",
       "0   09.10      1  NaN                               Il Lombardia (1.UWT)   \n",
       "1   06.10      4  NaN                            Milano - Torino (1.Pro)   \n",
       "2   05.10      3  NaN                         Tre Valli Varesine (1.Pro)   \n",
       "3   02.10    DNF  NaN                           Giro dell'Emilia (1.Pro)   \n",
       "4   26.09     37  NaN               World Championships - Road Race (WC)   \n",
       "..    ...    ...  ...                                                ...   \n",
       "79  25.02      2  1.0        Stage 5 - Fujairah Marine Club › Jebel Jais   \n",
       "80  24.02     20  1.0      Stage 4 - Al Marjan Island › Al Marjan Island   \n",
       "81  23.02      1  1.0      Stage 3 - Strata Manufactoring › Jebel Hafeet   \n",
       "82  22.02      4  1.0  Stage 2 (ITT) - Al Hudayriat Island › Al Huday...   \n",
       "83  21.02      6  5.0              Stage 1 - Al Dhafra Castle › Al Mirfa   \n",
       "\n",
       "    Distance  PointsPCS  PointsUCI  \n",
       "0      239.0      275.0      500.0  \n",
       "1      190.0       50.0      100.0  \n",
       "2      196.7       60.0      125.0  \n",
       "3      195.3        NaN        NaN  \n",
       "4      268.3       15.0       10.0  \n",
       "..       ...        ...        ...  \n",
       "79     170.0       20.0       15.0  \n",
       "80     204.0        NaN        NaN  \n",
       "81     166.0       35.0       40.0  \n",
       "82      13.0        9.0        NaN  \n",
       "83     176.0        5.0        NaN  \n",
       "\n",
       "[84 rows x 7 columns]"
      ]
     },
     "execution_count": 5,
     "metadata": {},
     "output_type": "execute_result"
    }
   ],
   "source": [
    "df_rider[rider_name]['2021']"
   ]
  },
  {
   "cell_type": "markdown",
   "metadata": {},
   "source": [
    "# Expert model"
   ]
  },
  {
   "cell_type": "markdown",
   "metadata": {},
   "source": [
    "- competitor with most victories/top X in the last N races is predicted as race winner"
   ]
  },
  {
   "cell_type": "markdown",
   "metadata": {},
   "source": [
    "### Data Normalization"
   ]
  },
  {
   "cell_type": "code",
   "execution_count": 19,
   "metadata": {},
   "outputs": [],
   "source": [
    "year = '2021'\n",
    "df_season = {year: {}}\n",
    "df_res = {}\n",
    "\n",
    "for rider_name in rider_names[:100]:\n",
    "    for file in glob.glob(os.path.join(RESULTS_PATH, rider_name, f'{year}.csv')):\n",
    "\n",
    "        df_season[year][rider_name] = pd.read_csv(file)\n",
    "        \n",
    "        # Filter NaN values and non int\n",
    "        df_results = df_season[year][rider_name][['Date', 'Result', 'Race']].dropna(axis=0)\n",
    "        df_results = df_results[(df_results.Result != 'DNF') & (df_results.Result != 'DNS') & (df_results.Result != 'DSQ') & (df_results.Result != 'OTL')]\n",
    "        results = [int(x) for x in df_results.Result]\n",
    "        \n",
    "        df_results['Result'] = results\n",
    "        df_res[rider_name] = df_results"
   ]
  },
  {
   "cell_type": "markdown",
   "metadata": {},
   "source": [
    "### Compute Model Features (Win Statistics)"
   ]
  },
  {
   "cell_type": "code",
   "execution_count": 7,
   "metadata": {},
   "outputs": [],
   "source": [
    "def GetStats(df):\n",
    "    \n",
    "    stats = {}\n",
    "    \n",
    "    stats['wins'] = (df.Result == 1).sum()\n",
    "    stats['top_3'] = (df.Result <= 3).sum()\n",
    "    stats['top_5'] = (df.Result <= 5).sum()\n",
    "    stats['top_10'] = (df.Result <= 10).sum()\n",
    "    stats['top_20'] = (df.Result <= 20).sum()\n",
    "    \n",
    "    return stats"
   ]
  },
  {
   "cell_type": "code",
   "execution_count": 21,
   "metadata": {},
   "outputs": [],
   "source": [
    "year = '2021'\n",
    "stats = {year: {}}\n",
    "\n",
    "for rider_name in rider_names[:10]:\n",
    "    \n",
    "    stats[year][rider_name] = GetStats(df_res[rider_name])"
   ]
  },
  {
   "cell_type": "code",
   "execution_count": 9,
   "metadata": {},
   "outputs": [
    {
     "data": {
      "text/plain": [
       "{'wins': 1, 'top_3': 6, 'top_5': 13, 'top_10': 20, 'top_20': 30}"
      ]
     },
     "execution_count": 9,
     "metadata": {},
     "output_type": "execute_result"
    }
   ],
   "source": [
    "stats['2021']['adam-yates']"
   ]
  },
  {
   "cell_type": "markdown",
   "metadata": {},
   "source": [
    "### Rename result column with rider name"
   ]
  },
  {
   "cell_type": "code",
   "execution_count": null,
   "metadata": {},
   "outputs": [],
   "source": [
    "for rider_name in rider_names[:10]:\n",
    "    \n",
    "    df_res[rider_name].rename(columns={'Result': f'Result-{rider_name}'}, inplace=True)"
   ]
  },
  {
   "cell_type": "markdown",
   "metadata": {},
   "source": [
    "### Merge dataframes"
   ]
  },
  {
   "cell_type": "code",
   "execution_count": null,
   "metadata": {},
   "outputs": [],
   "source": [
    "pd.merge(df_res['wout-van-aert'], df_res['mathieu-van-der-poel'], on='Race')"
   ]
  },
  {
   "cell_type": "markdown",
   "metadata": {},
   "source": [
    " # Compute Features for each participant at race"
   ]
  },
  {
   "cell_type": "markdown",
   "metadata": {},
   "source": [
    "### Get race startlist"
   ]
  },
  {
   "cell_type": "code",
   "execution_count": 10,
   "metadata": {},
   "outputs": [
    {
     "data": {
      "text/html": [
       "<div>\n",
       "<style scoped>\n",
       "    .dataframe tbody tr th:only-of-type {\n",
       "        vertical-align: middle;\n",
       "    }\n",
       "\n",
       "    .dataframe tbody tr th {\n",
       "        vertical-align: top;\n",
       "    }\n",
       "\n",
       "    .dataframe thead th {\n",
       "        text-align: right;\n",
       "    }\n",
       "</style>\n",
       "<table border=\"1\" class=\"dataframe\">\n",
       "  <thead>\n",
       "    <tr style=\"text-align: right;\">\n",
       "      <th></th>\n",
       "      <th>#</th>\n",
       "      <th>Ridername</th>\n",
       "      <th>Team</th>\n",
       "    </tr>\n",
       "  </thead>\n",
       "  <tbody>\n",
       "    <tr>\n",
       "      <th>0</th>\n",
       "      <td>1</td>\n",
       "      <td>Affini Edoardo</td>\n",
       "      <td>Team Jumbo-Visma</td>\n",
       "    </tr>\n",
       "    <tr>\n",
       "      <th>1</th>\n",
       "      <td>2</td>\n",
       "      <td>Albanese Vincenzo</td>\n",
       "      <td>EOLO-Kometa</td>\n",
       "    </tr>\n",
       "    <tr>\n",
       "      <th>2</th>\n",
       "      <td>3</td>\n",
       "      <td>Aleotti Giovanni</td>\n",
       "      <td>BORA - hansgrohe</td>\n",
       "    </tr>\n",
       "    <tr>\n",
       "      <th>3</th>\n",
       "      <td>4</td>\n",
       "      <td>Almeida João</td>\n",
       "      <td>Deceuninck - Quick Step</td>\n",
       "    </tr>\n",
       "    <tr>\n",
       "      <th>4</th>\n",
       "      <td>5</td>\n",
       "      <td>Arashiro Yukiya</td>\n",
       "      <td>Bahrain - Victorious</td>\n",
       "    </tr>\n",
       "  </tbody>\n",
       "</table>\n",
       "</div>"
      ],
      "text/plain": [
       "   #          Ridername                     Team\n",
       "0  1     Affini Edoardo         Team Jumbo-Visma\n",
       "1  2  Albanese Vincenzo              EOLO-Kometa\n",
       "2  3   Aleotti Giovanni         BORA - hansgrohe\n",
       "3  4       Almeida João  Deceuninck - Quick Step\n",
       "4  5    Arashiro Yukiya     Bahrain - Victorious"
      ]
     },
     "execution_count": 10,
     "metadata": {},
     "output_type": "execute_result"
    }
   ],
   "source": [
    "startlist = pd.read_csv(os.path.join(STARTLISTS_PATH, 'giro-d-italia', '2021', 'startlist.csv'))\n",
    "startlist.head()"
   ]
  },
  {
   "cell_type": "markdown",
   "metadata": {},
   "source": [
    "### Normalize startlist names"
   ]
  },
  {
   "cell_type": "code",
   "execution_count": 11,
   "metadata": {},
   "outputs": [],
   "source": [
    "def normalize_name(name):\n",
    "    \n",
    "    norm_name = '-'.join(reversed(name.lower().replace(' ', '-').split('-')))\n",
    "    \n",
    "    return norm_name"
   ]
  },
  {
   "cell_type": "code",
   "execution_count": 12,
   "metadata": {},
   "outputs": [
    {
     "data": {
      "text/plain": [
       "['edoardo-affini',\n",
       " 'vincenzo-albanese',\n",
       " 'giovanni-aleotti',\n",
       " 'joão-almeida',\n",
       " 'yukiya-arashiro',\n",
       " 'nikias-arndt',\n",
       " 'matteo-badilatti',\n",
       " 'romain-bardet',\n",
       " 'enrico-battaglin',\n",
       " 'samuele-battistella',\n",
       " 'manuel-belletti',\n",
       " 'cesare-benedetti',\n",
       " 'george-bennett',\n",
       " 'natnael-berhane',\n",
       " 'egan-bernal',\n",
       " 'alberto-bettiol',\n",
       " 'patrick-bevin',\n",
       " 'françois-bidard',\n",
       " 'pello-bilbao',\n",
       " 'maciej-bodnar',\n",
       " 'geoffrey-bouchard',\n",
       " 'koen-bouwman',\n",
       " 'gianluca-brambilla',\n",
       " 'matthias-brändle',\n",
       " 'emanuel-buchmann',\n",
       " 'klever-jonathan-caicedo',\n",
       " 'victor-campenaerts',\n",
       " 'giovanni-carboni',\n",
       " 'simon-carr',\n",
       " 'hugh-carthy',\n",
       " 'damiano-caruso',\n",
       " 'jonathan-castroviejo',\n",
       " 'dario-cataldo',\n",
       " 'rémi-cavagna',\n",
       " 'alexander-jefferson-cepeda',\n",
       " 'clément-champoussin',\n",
       " 'mark-christian',\n",
       " 'giulio-ciccone',\n",
       " 'davide-cimolai',\n",
       " 'simone-consonni',\n",
       " 'valerio-conti',\n",
       " 'alessandro-covi',\n",
       " 'dries-bondt-de',\n",
       " 'jasper-buyst-de',\n",
       " 'thomas-gendt-de',\n",
       " 'koen-kort-de',\n",
       " 'alessandro-marchi-de',\n",
       " 'david-dekker',\n",
       " 'nico-denz',\n",
       " 'márton-dina',\n",
       " 'joe-dombrowski',\n",
       " 'alex-dowsett',\n",
       " 'antoine-duchesne',\n",
       " 'nicolas-edet',\n",
       " 'remco-evenepoel',\n",
       " 'caleb-ewan',\n",
       " 'matteo-fabbro',\n",
       " 'fabio-felline',\n",
       " 'filippo-fiorelli',\n",
       " 'davide-formolo',\n",
       " 'lorenzo-fortunato',\n",
       " 'tobias-foss',\n",
       " 'kilian-frankiny',\n",
       " 'davide-gabburo',\n",
       " 'tony-gallopin',\n",
       " 'filippo-ganna',\n",
       " 'francesco-gavazzi',\n",
       " 'fernando-gaviria',\n",
       " 'amanuel-ghebreigzabhier',\n",
       " 'kobe-goossens',\n",
       " 'alexis-gougeard',\n",
       " 'dylan-groenewegen',\n",
       " 'felix-großschartner',\n",
       " 'ruben-guerreiro',\n",
       " 'simon-guglielmi',\n",
       " 'chris-hamilton',\n",
       " 'michael-hepburn',\n",
       " 'quinten-hermans',\n",
       " 'jai-hindley',\n",
       " 'jan-hirt',\n",
       " 'frølich-mikkel-honoré',\n",
       " 'gorka-izagirre',\n",
       " 'jimmy-janssens',\n",
       " 'matteo-jorgenson',\n",
       " 'christopher-jensen-juul',\n",
       " 'tanel-kangert',\n",
       " 'max-kanter',\n",
       " 'iljo-keisse',\n",
       " 'jens-keukeleire',\n",
       " 'roger-kluge',\n",
       " 'james-knox',\n",
       " 'wesley-kreder',\n",
       " 'alexander-krieger',\n",
       " 'victor-lafay',\n",
       " 'mikel-landa',\n",
       " 'senne-leysen',\n",
       " 'jan-bert-lindeman',\n",
       " 'gino-mäder',\n",
       " 'tomasz-marczyński',\n",
       " 'umberto-marengo',\n",
       " 'paul-martens',\n",
       " 'dan-martin',\n",
       " 'felipe-daniel-martínez',\n",
       " 'fausto-masnada',\n",
       " 'tim-merlier',\n",
       " 'cameron-meyer',\n",
       " 'riccardo-minali',\n",
       " 'matej-mohorič',\n",
       " 'sebastián-juan-molano',\n",
       " 'rudy-molard',\n",
       " 'bauke-mollema',\n",
       " 'jacopo-mosca',\n",
       " 'matteo-moschetti',\n",
       " 'gianni-moscon',\n",
       " 'lawrence-naesen',\n",
       " 'jhonatan-narváez',\n",
       " 'krists-neilands',\n",
       " 'vincenzo-nibali',\n",
       " 'mikel-nieve',\n",
       " 'guy-niv',\n",
       " 'giacomo-nizzolo',\n",
       " 'stefano-oldani',\n",
       " 'nelson-oliveira',\n",
       " 'daniel-oss',\n",
       " 'andrea-pasqualon',\n",
       " 'antonio-pedrero',\n",
       " 'simon-pellaud',\n",
       " 'simone-petilli',\n",
       " 'andrii-ponomar',\n",
       " 'domenico-pozzovivo',\n",
       " 'vadim-pronskiy',\n",
       " 'salvatore-puccio',\n",
       " 'simone-ravanelli',\n",
       " 'edward-ravasi',\n",
       " 'sébastien-reichenbach',\n",
       " 'maximiliano-richeze',\n",
       " 'oscar-riesebeek',\n",
       " 'samuele-rivi',\n",
       " 'rémy-rochas',\n",
       " 'nicolas-roche',\n",
       " 'augusto-einer-rubio',\n",
       " 'fabio-sabatini',\n",
       " 'peter-sagan',\n",
       " 'león-luis-sánchez',\n",
       " 'mauro-schmid',\n",
       " 'nick-schultz',\n",
       " 'callum-scotson',\n",
       " 'romain-seigle',\n",
       " 'eduardo-sepúlveda',\n",
       " 'pieter-serry',\n",
       " 'pavel-sivakov',\n",
       " 'matteo-sobrero',\n",
       " 'marc-soler',\n",
       " 'michael-storer',\n",
       " 'rein-taaramäe',\n",
       " 'filippo-tagliani',\n",
       " 'harold-tejada',\n",
       " 'natnael-tesfatsion',\n",
       " 'albert-torres',\n",
       " 'jan-tratnik',\n",
       " 'diego-ulissi',\n",
       " 'rafael-valls',\n",
       " 'attila-valter',\n",
       " 'julius-berg-den-van',\n",
       " 'lars-berg-den-van',\n",
       " 'taco-hoorn-der-van',\n",
       " 'jos-emden-van',\n",
       " 'tejay-garderen-van',\n",
       " 'harm-vanhoucke',\n",
       " 'nicola-venchiarutti',\n",
       " 'andrea-vendrame',\n",
       " 'gianni-vermeersch',\n",
       " 'louis-vervaeke',\n",
       " 'davide-villella',\n",
       " 'giovanni-visconti',\n",
       " 'attilio-viviani',\n",
       " 'elia-viviani',\n",
       " 'aleksandr-vlasov',\n",
       " 'max-walscheid',\n",
       " 'larry-warbasse',\n",
       " 'łukasz-wiśniowski',\n",
       " 'simon-yates',\n",
       " 'filippo-zana',\n",
       " 'samuele-zoccarato']"
      ]
     },
     "execution_count": 12,
     "metadata": {},
     "output_type": "execute_result"
    }
   ],
   "source": [
    "startlist_norm = [normalize_name(name) for name in startlist.Ridername]\n",
    "startlist_norm"
   ]
  },
  {
   "cell_type": "markdown",
   "metadata": {},
   "source": [
    "### Get competing riders"
   ]
  },
  {
   "cell_type": "code",
   "execution_count": 22,
   "metadata": {},
   "outputs": [
    {
     "data": {
      "text/plain": [
       "['egan-bernal',\n",
       " 'joão-almeida',\n",
       " 'matej-mohorič',\n",
       " 'remco-evenepoel',\n",
       " 'tim-merlier',\n",
       " 'bauke-mollema',\n",
       " 'giacomo-nizzolo',\n",
       " 'aleksandr-vlasov',\n",
       " 'simon-yates',\n",
       " 'damiano-caruso',\n",
       " 'diego-ulissi',\n",
       " 'fausto-masnada',\n",
       " 'filippo-ganna',\n",
       " 'romain-bardet',\n",
       " 'peter-sagan',\n",
       " 'mikel-landa',\n",
       " 'pello-bilbao',\n",
       " 'elia-viviani',\n",
       " 'caleb-ewan',\n",
       " 'gianni-moscon',\n",
       " 'gianni-vermeersch',\n",
       " 'gino-mäder',\n",
       " 'alessandro-covi']"
      ]
     },
     "execution_count": 22,
     "metadata": {},
     "output_type": "execute_result"
    }
   ],
   "source": [
    "riders_competing = []\n",
    "\n",
    "for rider_name in rider_names[:100]:\n",
    "    if rider_name in startlist_norm:\n",
    "        riders_competing.append(rider_name)\n",
    "        \n",
    "riders_competing"
   ]
  },
  {
   "cell_type": "markdown",
   "metadata": {},
   "source": [
    "### Normalize dates to datetime"
   ]
  },
  {
   "cell_type": "code",
   "execution_count": 15,
   "metadata": {},
   "outputs": [],
   "source": [
    "def convert_to_datetime(date_string, year):\n",
    "    \n",
    "    return datetime.datetime.strptime(date_string, '%d.%m').replace(year=year)\n",
    "\n",
    "def normalize_date_data(riders_competing):\n",
    "    \n",
    "    df = {k: v for k, v in df_res.items() if k in riders_competing}\n",
    "    \n",
    "    for rider in riders_competing:\n",
    "        datetimes = [convert_to_datetime(date, int(year)) for date in df[rider].Date]\n",
    "        df[rider].Date = datetimes\n",
    "    \n",
    "    return df\n",
    "\n",
    "def create_date_mask(df, event, year, timedelta, riders_competing):\n",
    "    \n",
    "    calendar = pd.read_csv(os.path.join(CALENDARS_PATH, f'{year}.csv'))\n",
    "    event_date = calendar[calendar.Race.str.contains(event)].Date.values[0].split('- ')[-1]\n",
    "    \n",
    "    event_date = datetime.datetime.strptime(f'{event_date}.{year}', '%d.%m.%Y')\n",
    "    start_date = event_date - datetime.timedelta(weeks=timedelta)\n",
    "    \n",
    "    for rider in riders_competing:\n",
    "        mask = (df[rider].Date > start_date) & (df[rider].Date <= event_date)\n",
    "        df[rider] = df[rider].loc[mask]\n",
    "\n",
    "    return df\n",
    "\n",
    "def compute_features(riders_competing, event, year, timedelta):\n",
    "    \n",
    "    df = normalize_date_data(riders_competing)\n",
    "        \n",
    "    df_mask = create_date_mask(df, event, year, timedelta, riders_competing)\n",
    "    \n",
    "    stats = {}\n",
    "    for rider in riders_competing:\n",
    "        stats[rider] = GetStats(df_mask[rider])\n",
    "        \n",
    "    return stats"
   ]
  },
  {
   "cell_type": "code",
   "execution_count": 23,
   "metadata": {},
   "outputs": [],
   "source": [
    "features = compute_features(riders_competing, \"Giro d'Italia\", '2021', 12)"
   ]
  },
  {
   "cell_type": "code",
   "execution_count": 72,
   "metadata": {},
   "outputs": [],
   "source": [
    "weights = np.array([10, 8, 6, 4, 2])\n",
    "\n",
    "score = {}\n",
    "for rider in riders_competing:\n",
    "    score[rider] = [np.average(np.array(list(features[rider].values())), weights=weights)]\n",
    "    \n",
    "#score = pd.DataFrame({'Score': score}).sort_values(by='Score', ascending=False)"
   ]
  },
  {
   "cell_type": "code",
   "execution_count": 83,
   "metadata": {},
   "outputs": [
    {
     "data": {
      "image/png": "[encoded data removed]",
      "text/plain": [
       "<Figure size 1008x1008 with 2 Axes>"
      ]
     },
     "metadata": {
      "needs_background": "light"
     },
     "output_type": "display_data"
    }
   ],
   "source": [
    "fig, (ax1, ax2) = plt.subplots(2,1, figsize=(14, 14))\n",
    "pd.DataFrame(features).plot(kind='bar', ax=ax1, colormap='tab20c')\n",
    "pd.DataFrame(score).plot(kind='bar', ax=ax2, colormap='tab20c')\n",
    "\n",
    "ax1.set_ylabel('Count')\n",
    "ax2.set_ylabel('Score')\n",
    "ax2.set_xticklabels([\"Giro d'Italia 2021\"], rotation=0)\n",
    "ax1.legend(prop={'size': 7})\n",
    "ax2.legend(prop={'size': 8})\n",
    "\n",
    "plt.show()"
   ]
  },
  {
   "cell_type": "markdown",
   "metadata": {},
   "source": [
    "# Model Hyperparams"
   ]
  },
  {
   "cell_type": "markdown",
   "metadata": {},
   "source": [
    "- timeframe to consider when computing win features (eg. 2 weeks, 2 months, etc.)\n",
    "- how many (which) win features to include ?\n",
    "- weighting (linear, exp, etc.) of features to create score ?"
   ]
  },
  {
   "cell_type": "code",
   "execution_count": null,
   "metadata": {},
   "outputs": [],
   "source": []
  }
 ],
 "metadata": {
  "kernelspec": {
   "display_name": "Python 3",
   "language": "python",
   "name": "python3"
  },
  "language_info": {
   "codemirror_mode": {
    "name": "ipython",
    "version": 3
   },
   "file_extension": ".py",
   "mimetype": "text/x-python",
   "name": "python",
   "nbconvert_exporter": "python",
   "pygments_lexer": "ipython3",
   "version": "3.7.3"
  }
 },
 "nbformat": 4,
 "nbformat_minor": 4
}
