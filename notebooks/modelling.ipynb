{
 "cells": [
  {
   "cell_type": "code",
   "execution_count": null,
   "metadata": {},
   "outputs": [],
   "source": [
    "import pandas as pd\n",
    "import numpy as np\n",
    "import re\n",
    "import glob\n",
    "import os\n",
    "import datetime\n",
    "import matplotlib.pyplot as plt\n",
    "import itertools"
   ]
  },
  {
   "cell_type": "markdown",
   "metadata": {},
   "source": [
    "### env variables"
   ]
  },
  {
   "cell_type": "code",
   "execution_count": null,
   "metadata": {},
   "outputs": [],
   "source": [
    "BASE_PATH = '../data/pcs-scraping'\n",
    "RESULTS_PATH = '../data/pcs-scraping/results/rider'\n",
    "RANKINGS_PATH = '../data/pcs-scraping/pcs-rankings/rider'\n",
    "TEAMS_PATH = '../data/pcs-scraping/teams/rider'\n",
    "CALENDARS_PATH = '../data/pcs-scraping/calendars'\n",
    "STARTLISTS_PATH = '../data/pcs-scraping/startlists'\n",
    "RACERESULTS_PATH = '../data/pcs-scraping/race_results'"
   ]
  },
  {
   "cell_type": "markdown",
   "metadata": {},
   "source": [
    "### Load data"
   ]
  },
  {
   "cell_type": "code",
   "execution_count": null,
   "metadata": {},
   "outputs": [],
   "source": [
    "rider_names = list(pd.read_csv('../data/pcs-scraping/rider_names.csv'))"
   ]
  },
  {
   "cell_type": "code",
   "execution_count": null,
   "metadata": {},
   "outputs": [],
   "source": [
    "rider_name = rider_names[0]\n",
    "\n",
    "df_rider = {rider_name: {}}\n",
    "\n",
    "for file in glob.glob(os.path.join(RESULTS_PATH, rider_name, '*.csv')):\n",
    "    \n",
    "    year = re.search('\\d{4}', file).group(0)\n",
    "    df_rider[rider_name][year] = pd.read_csv(file)\n"
   ]
  },
  {
   "cell_type": "code",
   "execution_count": null,
   "metadata": {},
   "outputs": [],
   "source": [
    "df_rider[rider_name]['2021']"
   ]
  },
  {
   "cell_type": "markdown",
   "metadata": {},
   "source": [
    "# Expert model"
   ]
  },
  {
   "cell_type": "markdown",
   "metadata": {},
   "source": [
    "- competitor with most victories/top X in the last N races is predicted as race winner"
   ]
  },
  {
   "cell_type": "markdown",
   "metadata": {},
   "source": [
    "### Data Cleaning"
   ]
  },
  {
   "cell_type": "code",
   "execution_count": null,
   "metadata": {},
   "outputs": [],
   "source": [
    "def clean_data(rider_names, year):\n",
    "    \n",
    "    df_season = {year: {}}\n",
    "    df_res = {}\n",
    "    \n",
    "    for rider_name in rider_names:\n",
    "        for file in glob.glob(os.path.join(RESULTS_PATH, rider_name, f'{year}.csv')):\n",
    "\n",
    "            df_season[year][rider_name] = pd.read_csv(file)\n",
    "\n",
    "            # Filter NaN values and non int\n",
    "            df_results = df_season[year][rider_name][['Date', 'Result', 'Race']].dropna(axis=0)\n",
    "            df_results = df_results[(df_results.Result != 'DNF') & (df_results.Result != 'DNS') & (df_results.Result != 'DSQ') & (df_results.Result != 'OTL')]\n",
    "            results = [int(x) for x in df_results.Result]\n",
    "\n",
    "            df_results['Result'] = results\n",
    "            df_res[rider_name] = df_results\n",
    "    \n",
    "    return df_res"
   ]
  },
  {
   "cell_type": "code",
   "execution_count": null,
   "metadata": {},
   "outputs": [],
   "source": [
    "year = '2021'\n",
    "df_res = clean_data(rider_names[:100], year)"
   ]
  },
  {
   "cell_type": "markdown",
   "metadata": {},
   "source": [
    "### Compute Model Features (Win Statistics)"
   ]
  },
  {
   "cell_type": "code",
   "execution_count": null,
   "metadata": {},
   "outputs": [],
   "source": [
    "def GetStats(df):\n",
    "    \n",
    "    stats = {}\n",
    "    \n",
    "    stats['wins'] = (df.Result == 1).sum()\n",
    "    stats['top_3'] = (df.Result <= 3).sum()\n",
    "    stats['top_5'] = (df.Result <= 5).sum()\n",
    "    stats['top_10'] = (df.Result <= 10).sum()\n",
    "    stats['top_20'] = (df.Result <= 20).sum()\n",
    "    \n",
    "    return stats"
   ]
  },
  {
   "cell_type": "code",
   "execution_count": null,
   "metadata": {},
   "outputs": [],
   "source": [
    "year = '2021'\n",
    "stats = {year: {}}\n",
    "\n",
    "for rider_name in rider_names[:10]:\n",
    "    \n",
    "    stats[year][rider_name] = GetStats(df_res[rider_name])"
   ]
  },
  {
   "cell_type": "code",
   "execution_count": null,
   "metadata": {},
   "outputs": [],
   "source": [
    "stats['2021']['adam-yates']"
   ]
  },
  {
   "cell_type": "markdown",
   "metadata": {},
   "source": [
    "### Rename result column with rider name"
   ]
  },
  {
   "cell_type": "code",
   "execution_count": null,
   "metadata": {},
   "outputs": [],
   "source": [
    "for rider_name in rider_names[:10]:\n",
    "    \n",
    "    df_res[rider_name].rename(columns={'Result': f'Result-{rider_name}'}, inplace=True)"
   ]
  },
  {
   "cell_type": "markdown",
   "metadata": {},
   "source": [
    "### Merge dataframes"
   ]
  },
  {
   "cell_type": "code",
   "execution_count": null,
   "metadata": {},
   "outputs": [],
   "source": [
    "pd.merge(df_res['wout-van-aert'], df_res['mathieu-van-der-poel'], on='Race')"
   ]
  },
  {
   "cell_type": "markdown",
   "metadata": {},
   "source": [
    " # Compute Features for each participant at race"
   ]
  },
  {
   "cell_type": "markdown",
   "metadata": {},
   "source": [
    "### Get race startlist"
   ]
  },
  {
   "cell_type": "code",
   "execution_count": null,
   "metadata": {},
   "outputs": [],
   "source": [
    "startlist = pd.read_csv(os.path.join(STARTLISTS_PATH, 'giro-d-italia', '2021', 'startlist.csv'))\n",
    "startlist.head()"
   ]
  },
  {
   "cell_type": "markdown",
   "metadata": {},
   "source": [
    "### Normalize startlist names"
   ]
  },
  {
   "cell_type": "code",
   "execution_count": null,
   "metadata": {},
   "outputs": [],
   "source": [
    "def normalize_name(name):\n",
    "    \n",
    "    norm_name = '-'.join(reversed(name.lower().replace(' ', '-').split('-')))\n",
    "    \n",
    "    return norm_name"
   ]
  },
  {
   "cell_type": "code",
   "execution_count": null,
   "metadata": {},
   "outputs": [],
   "source": [
    "startlist_norm = [normalize_name(name) for name in startlist.Ridername]\n",
    "#startlist_norm"
   ]
  },
  {
   "cell_type": "markdown",
   "metadata": {},
   "source": [
    "### Get competing riders"
   ]
  },
  {
   "cell_type": "code",
   "execution_count": null,
   "metadata": {},
   "outputs": [],
   "source": [
    "riders_competing = []\n",
    "\n",
    "for rider_name in rider_names[:100]:\n",
    "    if rider_name in startlist_norm:\n",
    "        riders_competing.append(rider_name)\n",
    "        \n",
    "riders_competing"
   ]
  },
  {
   "cell_type": "markdown",
   "metadata": {},
   "source": [
    "### Data normalization functions"
   ]
  },
  {
   "cell_type": "code",
   "execution_count": null,
   "metadata": {},
   "outputs": [],
   "source": [
    "def convert_to_datetime(date_string, year):\n",
    "    \n",
    "    if not isinstance(date_string, datetime.datetime):\n",
    "        return datetime.datetime.strptime(date_string, '%d.%m').replace(year=year)\n",
    "    else:\n",
    "        return date_string\n",
    "\n",
    "def normalize_date_data(riders_competing):\n",
    "    \n",
    "    df = {k: v for k, v in df_res.items() if k in riders_competing}\n",
    "    \n",
    "    for rider in riders_competing:\n",
    "        datetimes = [convert_to_datetime(date, int(year)) for date in df[rider].Date]\n",
    "        df[rider].Date = datetimes\n",
    "    \n",
    "    return df\n",
    "\n",
    "def create_date_mask(df, event, year, timedelta, riders_competing):\n",
    "    \n",
    "    calendar = pd.read_csv(os.path.join(CALENDARS_PATH, f'{year}.csv'))\n",
    "    event_date = calendar[calendar.Race.str.contains(event)].Date.values[0].split('- ')[-1]\n",
    "    \n",
    "    event_date = datetime.datetime.strptime(f'{event_date}.{year}', '%d.%m.%Y')\n",
    "    start_date = event_date - datetime.timedelta(weeks=timedelta)\n",
    "    \n",
    "    for rider in riders_competing:\n",
    "        mask = (df[rider].Date > start_date) & (df[rider].Date <= event_date)\n",
    "        df[rider] = df[rider].loc[mask]\n",
    "\n",
    "    return df"
   ]
  },
  {
   "cell_type": "markdown",
   "metadata": {},
   "source": [
    "### Prediction functions"
   ]
  },
  {
   "cell_type": "code",
   "execution_count": null,
   "metadata": {},
   "outputs": [],
   "source": [
    "def compute_features(riders_competing, event, year, timedelta):\n",
    "    \n",
    "    df = normalize_date_data(riders_competing)\n",
    "        \n",
    "    df_mask = create_date_mask(df, event, year, timedelta, riders_competing)\n",
    "    \n",
    "    stats = {}\n",
    "    for rider in riders_competing:\n",
    "        stats[rider] = GetStats(df_mask[rider])\n",
    "        \n",
    "    return stats\n",
    "\n",
    "def get_score(riders_competing, weights):\n",
    "    \n",
    "    score = {}\n",
    "    for rider in riders_competing:\n",
    "        score[rider] = [np.average(np.array(list(features[rider].values())), weights=weights)]\n",
    "        \n",
    "    return score\n",
    "\n",
    "def predict_winner(score):\n",
    "    \n",
    "    return max(score, key=score.get)\n",
    "\n",
    "def get_gc_winner(gc):\n",
    "    \n",
    "    return \"-\".join(reversed(gc.Rider.iloc[0].replace(gc.Team.iloc[0], \"\").split(\" \"))).lower()"
   ]
  },
  {
   "cell_type": "code",
   "execution_count": null,
   "metadata": {},
   "outputs": [],
   "source": [
    "features = compute_features(riders_competing, \"Giro d'Italia\", '2021', 12)"
   ]
  },
  {
   "cell_type": "code",
   "execution_count": null,
   "metadata": {},
   "outputs": [],
   "source": [
    "weights = np.array([10, 8, 6, 4, 2])\n",
    "score = get_score(riders_competing, weights)\n",
    "pred = predict_winner(score)\n",
    "pred"
   ]
  },
  {
   "cell_type": "code",
   "execution_count": null,
   "metadata": {},
   "outputs": [],
   "source": [
    "gc = pd.read_csv(os.path.join(RACERESULTS_PATH, 'giro-d-italia', year, 'gc.csv'))\n",
    "y = get_gc_winner(gc)\n",
    "y"
   ]
  },
  {
   "cell_type": "markdown",
   "metadata": {},
   "source": [
    "### Plot scores"
   ]
  },
  {
   "cell_type": "code",
   "execution_count": null,
   "metadata": {},
   "outputs": [],
   "source": [
    "fig, (ax1, ax2) = plt.subplots(2,1, figsize=(14, 14))\n",
    "pd.DataFrame(features).plot(kind='bar', ax=ax1, colormap='tab20c')\n",
    "pd.DataFrame(score).plot(kind='bar', ax=ax2, colormap='tab20c')\n",
    "\n",
    "ax1.set_ylabel('Count')\n",
    "ax2.set_ylabel('Score')\n",
    "ax2.set_xticklabels([\"Giro d'Italia 2021\"], rotation=0)\n",
    "ax1.legend(prop={'size': 7})\n",
    "ax2.legend(prop={'size': 8})\n",
    "\n",
    "plt.show()"
   ]
  },
  {
   "cell_type": "markdown",
   "metadata": {},
   "source": [
    "# Model Hyperparams"
   ]
  },
  {
   "cell_type": "markdown",
   "metadata": {},
   "source": [
    "- timeframe to consider when computing win features (eg. 2 weeks, 2 months, etc.)\n",
    "- only consider timeframe or number of N races before event ?\n",
    "- how many (which) win features to include ?\n",
    "- weighting (linear, exp, etc.) of features to create score ?"
   ]
  },
  {
   "cell_type": "markdown",
   "metadata": {},
   "source": [
    "### Vary time window"
   ]
  },
  {
   "cell_type": "code",
   "execution_count": null,
   "metadata": {},
   "outputs": [],
   "source": [
    "preds = []\n",
    "for w in range(1, 40):\n",
    "    \n",
    "    year = '2021'\n",
    "    df_res = clean_data(rider_names[:100], year)\n",
    "\n",
    "    features = compute_features(riders_competing, \"Giro d'Italia\", year, w)\n",
    "    \n",
    "    weights = np.array([10, 8, 6, 4, 2])\n",
    "    score = get_score(riders_competing, weights)\n",
    "    pred = predict_winner(score)\n",
    "    \n",
    "    preds.append(pred)"
   ]
  },
  {
   "cell_type": "code",
   "execution_count": null,
   "metadata": {},
   "outputs": [],
   "source": [
    "gc = pd.read_csv(os.path.join(RACERESULTS_PATH, 'giro-d-italia', year, 'gc.csv'))\n",
    "y = get_gc_winner(gc)"
   ]
  },
  {
   "cell_type": "code",
   "execution_count": null,
   "metadata": {},
   "outputs": [],
   "source": [
    "sum([pred==y for pred in preds])/len(preds)"
   ]
  },
  {
   "cell_type": "markdown",
   "metadata": {},
   "source": [
    "### Vary prediction features"
   ]
  },
  {
   "cell_type": "code",
   "execution_count": null,
   "metadata": {},
   "outputs": [],
   "source": [
    "def compute_features(riders_competing, event, year, timedelta, selected_stats):\n",
    "    \n",
    "    df = normalize_date_data(riders_competing)\n",
    "        \n",
    "    df_mask = create_date_mask(df, event, year, timedelta, riders_competing)\n",
    "    \n",
    "    stats = {}\n",
    "    for rider in riders_competing:\n",
    "        stats[rider] = GetStats(df_mask[rider])\n",
    "        stats[rider] = {k:v for k, v in stats[rider].items() if k in selected_stats}\n",
    "        \n",
    "    return stats"
   ]
  },
  {
   "cell_type": "code",
   "execution_count": null,
   "metadata": {},
   "outputs": [],
   "source": [
    "gc = pd.read_csv(os.path.join(RACERESULTS_PATH, 'giro-d-italia', year, 'gc.csv'))\n",
    "y = get_gc_winner(gc)"
   ]
  },
  {
   "cell_type": "code",
   "execution_count": null,
   "metadata": {},
   "outputs": [],
   "source": [
    "acc = []\n",
    "year = '2021'\n",
    "df_res = clean_data(rider_names[:100], year)\n",
    "\n",
    "selected_stats = ['wins', 'top_3', 'top_5', 'top_10', 'top_20']\n",
    "\n",
    "for r in range(1, 6):\n",
    "    cmb_stats = list(itertools.combinations(selected_stats, r))\n",
    "    print(cmb_stats)\n",
    "\n",
    "    preds = []\n",
    "    for cmb in cmb_stats:\n",
    "\n",
    "        features = compute_features(riders_competing, \"Giro d'Italia\", year, w, list(cmb))\n",
    "        weights = np.ones(len(cmb))\n",
    "        score = get_score(riders_competing, weights)\n",
    "        pred = predict_winner(score)\n",
    "\n",
    "        preds.append(pred)\n",
    "        \n",
    "    print(preds)\n",
    "    acc.append(sum([pred==y for pred in preds])/len(preds))"
   ]
  },
  {
   "cell_type": "code",
   "execution_count": null,
   "metadata": {},
   "outputs": [],
   "source": [
    "acc"
   ]
  },
  {
   "cell_type": "markdown",
   "metadata": {},
   "source": [
    "# TRAIN - VAL - TEST SPLIT"
   ]
  },
  {
   "cell_type": "markdown",
   "metadata": {},
   "source": [
    "- create trn, val, test sets\n",
    "- for a given year, randomly sample results from time window (eg. 12 weeks before target event) for a rider and compute top stats\n",
    "- OR randomly sample riders and compute top stats for time window"
   ]
  },
  {
   "cell_type": "markdown",
   "metadata": {},
   "source": [
    "# CROSS-VALIDATION"
   ]
  },
  {
   "cell_type": "code",
   "execution_count": null,
   "metadata": {},
   "outputs": [],
   "source": []
  }
 ],
 "metadata": {
  "kernelspec": {
   "display_name": "Python 3",
   "language": "python",
   "name": "python3"
  },
  "language_info": {
   "codemirror_mode": {
    "name": "ipython",
    "version": 3
   },
   "file_extension": ".py",
   "mimetype": "text/x-python",
   "name": "python",
   "nbconvert_exporter": "python",
   "pygments_lexer": "ipython3",
   "version": "3.7.3"
  }
 },
 "nbformat": 4,
 "nbformat_minor": 4
}
